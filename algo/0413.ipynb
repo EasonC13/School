{
 "cells": [
  {
   "cell_type": "code",
   "execution_count": 7,
   "metadata": {
    "ExecuteTime": {
     "end_time": "2020-04-13T08:15:09.370473Z",
     "start_time": "2020-04-13T08:15:09.364925Z"
    }
   },
   "outputs": [
    {
     "data": {
      "text/plain": [
       "0.7"
      ]
     },
     "execution_count": 7,
     "metadata": {},
     "output_type": "execute_result"
    }
   ],
   "source": [
    "0.15*1+0.1*0+0.05*3+0.1*2+0.2*1"
   ]
  },
  {
   "cell_type": "code",
   "execution_count": 6,
   "metadata": {
    "ExecuteTime": {
     "end_time": "2020-04-13T08:15:08.080834Z",
     "start_time": "2020-04-13T08:15:08.077537Z"
    }
   },
   "outputs": [
    {
     "data": {
      "text/plain": [
       "1.05"
      ]
     },
     "execution_count": 6,
     "metadata": {},
     "output_type": "execute_result"
    }
   ],
   "source": [
    "0.05*2+0.10*2+0.05*4+0.05*4+0.05*3+0.10*2"
   ]
  },
  {
   "cell_type": "code",
   "execution_count": 8,
   "metadata": {
    "ExecuteTime": {
     "end_time": "2020-04-13T08:15:15.455650Z",
     "start_time": "2020-04-13T08:15:15.449761Z"
    }
   },
   "outputs": [
    {
     "data": {
      "text/plain": [
       "1.75"
      ]
     },
     "execution_count": 8,
     "metadata": {},
     "output_type": "execute_result"
    }
   ],
   "source": [
    "0.7+1.05"
   ]
  },
  {
   "cell_type": "code",
   "execution_count": 10,
   "metadata": {
    "ExecuteTime": {
     "end_time": "2020-04-13T09:06:36.191876Z",
     "start_time": "2020-04-13T09:06:36.187415Z"
    }
   },
   "outputs": [],
   "source": [
    "n = 5\n",
    "w = np.zeros((n+1, n))"
   ]
  },
  {
   "cell_type": "code",
   "execution_count": null,
   "metadata": {
    "ExecuteTime": {
     "end_time": "2020-04-13T09:06:52.623449Z",
     "start_time": "2020-04-13T09:06:52.616809Z"
    }
   },
   "outputs": [],
   "source": []
  },
  {
   "cell_type": "code",
   "execution_count": 24,
   "metadata": {
    "ExecuteTime": {
     "end_time": "2020-04-13T09:20:31.648495Z",
     "start_time": "2020-04-13T09:20:31.641116Z"
    }
   },
   "outputs": [],
   "source": [
    "import numpy as np\n",
    "def OptimalBST(p,q,n):\n",
    "    e = np.zeros((n+1, n))\n",
    "    w = np.zeros((n+1, n))\n",
    "    for i in range(1,n+1+1):\n",
    "        e[i, i-1] = q[i-1]\n",
    "        w[i, i-1] = q[i-1]\n",
    "    for l in range(1, n+1):\n",
    "        for i in range(l,n-l+1+1):\n",
    "            j = i+l-1\n",
    "            e[i,j] = float(\"inf\")\n",
    "            w[i,j] = w[i, j-1] + p[j] + q[j]\n",
    "            for r in range(i,j+1):\n",
    "                t = e[i, r-1]+e[r+1, j]+ w[i,j]\n",
    "                if t < e[i,j]:\n",
    "                    e[i,j] = t\n",
    "                    root[i,j] = r\n",
    "    return e, root"
   ]
  },
  {
   "cell_type": "code",
   "execution_count": null,
   "metadata": {},
   "outputs": [],
   "source": []
  }
 ],
 "metadata": {
  "hide_input": false,
  "kernelspec": {
   "display_name": "Python 3",
   "language": "python",
   "name": "python3"
  },
  "language_info": {
   "codemirror_mode": {
    "name": "ipython",
    "version": 3
   },
   "file_extension": ".py",
   "mimetype": "text/x-python",
   "name": "python",
   "nbconvert_exporter": "python",
   "pygments_lexer": "ipython3",
   "version": "3.7.4"
  },
  "varInspector": {
   "cols": {
    "lenName": 16,
    "lenType": 16,
    "lenVar": 40
   },
   "kernels_config": {
    "python": {
     "delete_cmd_postfix": "",
     "delete_cmd_prefix": "del ",
     "library": "var_list.py",
     "varRefreshCmd": "print(var_dic_list())"
    },
    "r": {
     "delete_cmd_postfix": ") ",
     "delete_cmd_prefix": "rm(",
     "library": "var_list.r",
     "varRefreshCmd": "cat(var_dic_list()) "
    }
   },
   "types_to_exclude": [
    "module",
    "function",
    "builtin_function_or_method",
    "instance",
    "_Feature"
   ],
   "window_display": false
  }
 },
 "nbformat": 4,
 "nbformat_minor": 2
}
