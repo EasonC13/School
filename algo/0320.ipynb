{
 "cells": [
  {
   "cell_type": "code",
   "execution_count": 52,
   "metadata": {
    "ExecuteTime": {
     "end_time": "2020-03-20T08:14:15.254741Z",
     "start_time": "2020-03-20T08:14:15.253077Z"
    }
   },
   "outputs": [],
   "source": [
    "List = [3, 5, 7, 8, 9, 12, 15]"
   ]
  },
  {
   "cell_type": "code",
   "execution_count": 53,
   "metadata": {
    "ExecuteTime": {
     "end_time": "2020-03-20T08:14:20.205784Z",
     "start_time": "2020-03-20T08:14:20.202383Z"
    }
   },
   "outputs": [],
   "source": [
    "def binSearch(List, target, p = None, q = None):\n",
    "    if p == None or q == None:    #1\n",
    "        p = 0\n",
    "        q = len(List)-1\n",
    "    check = int((p+q)/2)          #1\n",
    "    check_target = List[check]    #1\n",
    "    print(\"%d, \"%check_target, end = \"\")\n",
    "    if check_target == target:    #1\n",
    "        return check_target       #1\n",
    "    elif check_target < target:\n",
    "        return binSearch(List, target, p = int((p+q)/2)+1, q = int(q))#T(1/2*n)\n",
    "    elif check_target > target:\n",
    "        return binSearch(List, target, p = int(p), q = int((p+q)/2-1))"
   ]
  },
  {
   "cell_type": "code",
   "execution_count": 54,
   "metadata": {
    "ExecuteTime": {
     "end_time": "2020-03-20T08:14:25.169687Z",
     "start_time": "2020-03-20T08:14:25.167102Z"
    }
   },
   "outputs": [
    {
     "name": "stdout",
     "output_type": "stream",
     "text": [
      "8, 12, 9, "
     ]
    },
    {
     "data": {
      "text/plain": [
       "9"
      ]
     },
     "execution_count": 54,
     "metadata": {},
     "output_type": "execute_result"
    }
   ],
   "source": [
    "binSearch(List, 9)"
   ]
  },
  {
   "cell_type": "code",
   "execution_count": null,
   "metadata": {},
   "outputs": [],
   "source": []
  },
  {
   "cell_type": "code",
   "execution_count": 55,
   "metadata": {
    "ExecuteTime": {
     "end_time": "2020-03-20T08:14:30.116741Z",
     "start_time": "2020-03-20T08:14:30.114989Z"
    }
   },
   "outputs": [],
   "source": [
    "import numpy as np"
   ]
  },
  {
   "cell_type": "code",
   "execution_count": 56,
   "metadata": {
    "ExecuteTime": {
     "end_time": "2020-03-20T08:14:35.083138Z",
     "start_time": "2020-03-20T08:14:35.081328Z"
    }
   },
   "outputs": [],
   "source": [
    "sums = np.array([])"
   ]
  },
  {
   "cell_type": "code",
   "execution_count": 57,
   "metadata": {
    "ExecuteTime": {
     "end_time": "2020-03-20T08:14:40.034237Z",
     "start_time": "2020-03-20T08:14:40.032730Z"
    }
   },
   "outputs": [],
   "source": [
    "sums = []"
   ]
  },
  {
   "cell_type": "code",
   "execution_count": 58,
   "metadata": {
    "ExecuteTime": {
     "end_time": "2020-03-20T08:14:44.990257Z",
     "start_time": "2020-03-20T08:14:44.987673Z"
    }
   },
   "outputs": [
    {
     "data": {
      "text/plain": [
       "array([[0., 0., 0.],\n",
       "       [0., 0., 0.],\n",
       "       [0., 0., 0.]])"
      ]
     },
     "execution_count": 58,
     "metadata": {},
     "output_type": "execute_result"
    }
   ],
   "source": [
    "np.zeros((3,3))"
   ]
  },
  {
   "cell_type": "code",
   "execution_count": 59,
   "metadata": {
    "ExecuteTime": {
     "end_time": "2020-03-20T08:14:49.948085Z",
     "start_time": "2020-03-20T08:14:49.945832Z"
    }
   },
   "outputs": [
    {
     "ename": "SyntaxError",
     "evalue": "invalid syntax (<ipython-input-59-77bf31667b8f>, line 7)",
     "output_type": "error",
     "traceback": [
      "\u001b[0;36m  File \u001b[0;32m\"<ipython-input-59-77bf31667b8f>\"\u001b[0;36m, line \u001b[0;32m7\u001b[0m\n\u001b[0;31m    for i in range(lens)\u001b[0m\n\u001b[0m                        ^\u001b[0m\n\u001b[0;31mSyntaxError\u001b[0m\u001b[0;31m:\u001b[0m invalid syntax\n"
     ]
    }
   ],
   "source": [
    "def MaximumSbuArray(A):\n",
    "    lens = len(A)\n",
    "    sums = np.zeros((lens,lens))\n",
    "    \n",
    "    R = np.zeros(lens)\n",
    "    \n",
    "    for i in range(lens)"
   ]
  },
  {
   "cell_type": "code",
   "execution_count": null,
   "metadata": {},
   "outputs": [],
   "source": []
  },
  {
   "cell_type": "code",
   "execution_count": null,
   "metadata": {},
   "outputs": [],
   "source": []
  },
  {
   "cell_type": "code",
   "execution_count": null,
   "metadata": {
    "ExecuteTime": {
     "end_time": "2020-03-20T08:14:49.950985Z",
     "start_time": "2020-03-20T08:14:31.015Z"
    }
   },
   "outputs": [],
   "source": [
    "a = 2\n",
    "power = 5\n",
    "\n",
    "def powers(tar, pows):\n",
    "    if pows == 0:\n",
    "        return 1\n",
    "    #print(tar, pows) #1\n",
    "    if pows == 2: #1\n",
    "        return tar*tar\n",
    "    elif pows == 1:#1\n",
    "        return tar\n",
    "    else:#1\n",
    "        sub_pows = int(pows/2)#1\n",
    "        return powers(tar, sub_pows) * powers(tar, pows - sub_pows) #2*powers(pows/2)"
   ]
  },
  {
   "cell_type": "code",
   "execution_count": null,
   "metadata": {
    "ExecuteTime": {
     "end_time": "2020-03-20T08:14:49.952950Z",
     "start_time": "2020-03-20T08:14:31.246Z"
    }
   },
   "outputs": [],
   "source": [
    "def powers2(tar, pows):\n",
    "    if pows == 0:\n",
    "        return 1\n",
    "    #print(tar, pows) #1\n",
    "    if pows == 2: #1\n",
    "        return tar*tar\n",
    "    elif pows == 1:#1\n",
    "        return tar\n",
    "    elif pows%2 == 1:\n",
    "        sub_pows = (pows-1)/2\n",
    "        return powers(tar, sub_pows) * powers(tar, sub_pows) * tar #2*powers(pows/2)\n",
    "    else:#1\n",
    "        sub_pows = pows/2#1\n",
    "        return powers(tar, sub_pows) * powers(tar, pows - sub_pows) #2*powers(pows/2)"
   ]
  },
  {
   "cell_type": "code",
   "execution_count": null,
   "metadata": {
    "ExecuteTime": {
     "end_time": "2020-03-20T08:14:49.954844Z",
     "start_time": "2020-03-20T08:14:31.452Z"
    }
   },
   "outputs": [],
   "source": [
    "def powers3(tar, pows):\n",
    "    if pows == 0:\n",
    "        return 1\n",
    "    #print(tar, pows) #1\n",
    "    if pows == 2: #1\n",
    "        return tar*tar\n",
    "    elif pows == 1:#1\n",
    "        return tar\n",
    "    elif pows%2 == 1:\n",
    "        sub_pows = (pows-1)/2\n",
    "        out = powers(tar, sub_pows)\n",
    "        return out * out * tar #2*powers(pows/2)\n",
    "    else:#1\n",
    "        sub_pows = pows/2#1\n",
    "        out = powers(tar, sub_pows)\n",
    "        return out * out #2*powers(pows/2)"
   ]
  },
  {
   "cell_type": "code",
   "execution_count": null,
   "metadata": {
    "ExecuteTime": {
     "end_time": "2020-03-20T08:14:49.956684Z",
     "start_time": "2020-03-20T08:14:31.618Z"
    }
   },
   "outputs": [],
   "source": [
    "tar = 20\n",
    "power = 400000"
   ]
  },
  {
   "cell_type": "code",
   "execution_count": null,
   "metadata": {
    "ExecuteTime": {
     "end_time": "2020-03-20T08:14:49.958696Z",
     "start_time": "2020-03-20T08:14:31.765Z"
    }
   },
   "outputs": [],
   "source": [
    "%%time\n",
    "result = powers(tar, power)\n",
    "#print(result)"
   ]
  },
  {
   "cell_type": "code",
   "execution_count": null,
   "metadata": {
    "ExecuteTime": {
     "end_time": "2020-03-20T08:14:49.960646Z",
     "start_time": "2020-03-20T08:14:31.934Z"
    }
   },
   "outputs": [],
   "source": [
    "%%time\n",
    "result = powers2(tar, power)\n",
    "#print(result)"
   ]
  },
  {
   "cell_type": "code",
   "execution_count": null,
   "metadata": {
    "ExecuteTime": {
     "end_time": "2020-03-20T08:14:49.962671Z",
     "start_time": "2020-03-20T08:14:32.113Z"
    }
   },
   "outputs": [],
   "source": [
    "%%time\n",
    "result = powers3(tar, power)"
   ]
  },
  {
   "cell_type": "code",
   "execution_count": null,
   "metadata": {
    "ExecuteTime": {
     "end_time": "2020-03-20T08:14:49.964604Z",
     "start_time": "2020-03-20T08:14:32.352Z"
    }
   },
   "outputs": [],
   "source": [
    "%%time\n",
    "result = pow(tar, power)"
   ]
  },
  {
   "cell_type": "code",
   "execution_count": null,
   "metadata": {
    "ExecuteTime": {
     "end_time": "2020-03-20T08:14:49.966479Z",
     "start_time": "2020-03-20T08:14:32.592Z"
    }
   },
   "outputs": [],
   "source": [
    "def powers_old(tar, pows):\n",
    "    out = 1\n",
    "    for i in range(pows):\n",
    "        out = out * tar\n",
    "    return out"
   ]
  },
  {
   "cell_type": "code",
   "execution_count": null,
   "metadata": {
    "ExecuteTime": {
     "end_time": "2020-03-20T08:14:49.968407Z",
     "start_time": "2020-03-20T08:14:32.768Z"
    },
    "scrolled": true
   },
   "outputs": [],
   "source": [
    "%%time\n",
    "result_2 = powers_old(tar, power)"
   ]
  },
  {
   "cell_type": "code",
   "execution_count": null,
   "metadata": {
    "ExecuteTime": {
     "end_time": "2020-03-20T08:14:49.970307Z",
     "start_time": "2020-03-20T08:14:32.934Z"
    }
   },
   "outputs": [],
   "source": [
    "result == result_2"
   ]
  },
  {
   "cell_type": "code",
   "execution_count": null,
   "metadata": {},
   "outputs": [],
   "source": []
  },
  {
   "cell_type": "code",
   "execution_count": 60,
   "metadata": {
    "ExecuteTime": {
     "end_time": "2020-03-20T08:16:23.955464Z",
     "start_time": "2020-03-20T08:16:23.949852Z"
    }
   },
   "outputs": [
    {
     "data": {
      "text/plain": [
       "array([ -3, -10,   1,  -2,   5])"
      ]
     },
     "execution_count": 60,
     "metadata": {},
     "output_type": "execute_result"
    }
   ],
   "source": [
    "np.random.randint(-10,10,10)"
   ]
  },
  {
   "cell_type": "code",
   "execution_count": 70,
   "metadata": {
    "ExecuteTime": {
     "end_time": "2020-03-20T08:25:46.663100Z",
     "start_time": "2020-03-20T08:25:46.656678Z"
    }
   },
   "outputs": [
    {
     "name": "stdout",
     "output_type": "stream",
     "text": [
      "[3, -8, 6, -9, 2, -8, 6, 8, 7, -10]\n",
      "Max is 21, L = 6, R = 9\n"
     ]
    }
   ],
   "source": [
    "#Maximum subarray type 1\n",
    "A = np.random.randint(-10,10,10)\n",
    "print(list(A))\n",
    "def FindMaximumSubarray(A):\n",
    "    maxnum = min(A) - 100\n",
    "    maxL, maxR = None, None\n",
    "    lens = len(A)\n",
    "    for i in range(lens):\n",
    "        for j in range(i, lens):\n",
    "            sums = 0\n",
    "            for k in range(i,j):\n",
    "                sums += A[k]\n",
    "            if sums > maxnum:\n",
    "                maxnum = sums\n",
    "                maxL = i\n",
    "                maxR = j\n",
    "    print(\"Max is %d, L = %d, R = %d\"%(maxnum, maxL, maxR))\n",
    "    return maxnum, maxL, maxR\n",
    "_ = FindMaximumSubarray(A)"
   ]
  },
  {
   "cell_type": "code",
   "execution_count": 91,
   "metadata": {
    "ExecuteTime": {
     "end_time": "2020-03-20T10:43:03.237598Z",
     "start_time": "2020-03-20T10:43:03.233467Z"
    }
   },
   "outputs": [
    {
     "name": "stdout",
     "output_type": "stream",
     "text": [
      "[-2, 6, 8, 5, 8, -5, -3, -5, -5, 8]\n",
      "[0, -2, 4, 12, 17, 25, 20, 17, 12, 7, 15]\n",
      "[]\n",
      "Max is 27, L = 2, R = 5\n"
     ]
    }
   ],
   "source": [
    "#Maximum subarray type 1\n",
    "A = np.random.randint(-10,10,10)\n",
    "print(list(A))\n",
    "def FindMaximumSubarray(A):\n",
    "    \n",
    "    maxnum = min(A) - 100\n",
    "    maxL, maxR = None, None\n",
    "    lens = len(A)\n",
    "    R = [0]\n",
    "    for i in range(lens):\n",
    "        R.append(R[i]+A[i])\n",
    "    #R.pop(0)\n",
    "    print(R)\n",
    "    print(sums)\n",
    "    for i in range(lens):\n",
    "        for j in range(i, lens):\n",
    "            tar = R[j] - R[i]\n",
    "            if tar > maxnum:\n",
    "                maxnum = tar\n",
    "                maxR = j\n",
    "                maxL = i+1\n",
    "    print(\"Max is %d, L = %d, R = %d\"%(maxnum, maxL, maxR))\n",
    "    return maxnum, maxL, maxR\n",
    "_ = FindMaximumSubarray(A)"
   ]
  },
  {
   "cell_type": "code",
   "execution_count": 93,
   "metadata": {
    "ExecuteTime": {
     "end_time": "2020-03-20T10:44:08.046141Z",
     "start_time": "2020-03-20T10:44:08.043869Z"
    }
   },
   "outputs": [
    {
     "data": {
      "text/plain": [
       "(27, 2, 5)"
      ]
     },
     "execution_count": 93,
     "metadata": {},
     "output_type": "execute_result"
    }
   ],
   "source": [
    "_"
   ]
  },
  {
   "cell_type": "code",
   "execution_count": 94,
   "metadata": {
    "ExecuteTime": {
     "end_time": "2020-03-20T10:44:22.919009Z",
     "start_time": "2020-03-20T10:44:22.915233Z"
    }
   },
   "outputs": [
    {
     "ename": "NameError",
     "evalue": "name 'CCCC' is not defined",
     "output_type": "error",
     "traceback": [
      "\u001b[0;31m---------------------------------------------------------------------------\u001b[0m",
      "\u001b[0;31mNameError\u001b[0m                                 Traceback (most recent call last)",
      "\u001b[0;32m<ipython-input-94-1ee5f1105e44>\u001b[0m in \u001b[0;36m<module>\u001b[0;34m\u001b[0m\n\u001b[0;32m----> 1\u001b[0;31m \u001b[0mCCCC\u001b[0m\u001b[0;34m\u001b[0m\u001b[0;34m\u001b[0m\u001b[0m\n\u001b[0m",
      "\u001b[0;31mNameError\u001b[0m: name 'CCCC' is not defined"
     ]
    }
   ],
   "source": [
    "CCCC"
   ]
  },
  {
   "cell_type": "code",
   "execution_count": null,
   "metadata": {},
   "outputs": [],
   "source": []
  }
 ],
 "metadata": {
  "hide_input": false,
  "kernelspec": {
   "display_name": "Python 3",
   "language": "python",
   "name": "python3"
  },
  "language_info": {
   "codemirror_mode": {
    "name": "ipython",
    "version": 3
   },
   "file_extension": ".py",
   "mimetype": "text/x-python",
   "name": "python",
   "nbconvert_exporter": "python",
   "pygments_lexer": "ipython3",
   "version": "3.7.4"
  },
  "varInspector": {
   "cols": {
    "lenName": 16,
    "lenType": 16,
    "lenVar": 40
   },
   "kernels_config": {
    "python": {
     "delete_cmd_postfix": "",
     "delete_cmd_prefix": "del ",
     "library": "var_list.py",
     "varRefreshCmd": "print(var_dic_list())"
    },
    "r": {
     "delete_cmd_postfix": ") ",
     "delete_cmd_prefix": "rm(",
     "library": "var_list.r",
     "varRefreshCmd": "cat(var_dic_list()) "
    }
   },
   "types_to_exclude": [
    "module",
    "function",
    "builtin_function_or_method",
    "instance",
    "_Feature"
   ],
   "window_display": false
  }
 },
 "nbformat": 4,
 "nbformat_minor": 2
}
