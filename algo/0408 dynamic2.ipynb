{
 "cells": [
  {
   "cell_type": "code",
   "execution_count": 13,
   "metadata": {
    "ExecuteTime": {
     "end_time": "2020-04-08T01:18:42.141799Z",
     "start_time": "2020-04-08T01:18:42.135820Z"
    }
   },
   "outputs": [],
   "source": [
    "import numpy as np"
   ]
  },
  {
   "cell_type": "code",
   "execution_count": 1,
   "metadata": {
    "ExecuteTime": {
     "end_time": "2020-04-27T13:34:15.208756Z",
     "start_time": "2020-04-27T13:34:15.200281Z"
    }
   },
   "outputs": [
    {
     "data": {
      "text/plain": [
       "['5', '10', '3', '12', '5', '50', '6']"
      ]
     },
     "execution_count": 1,
     "metadata": {},
     "output_type": "execute_result"
    }
   ],
   "source": [
    "\"5, 10, 3, 12, 5, 50, 6\".split(\", \")"
   ]
  },
  {
   "cell_type": "code",
   "execution_count": 9,
   "metadata": {
    "ExecuteTime": {
     "end_time": "2020-04-27T13:35:15.820178Z",
     "start_time": "2020-04-27T13:35:15.587300Z"
    }
   },
   "outputs": [
    {
     "name": "stdout",
     "output_type": "stream",
     "text": [
      ">> \n"
     ]
    }
   ],
   "source": [
    "matrix = input(\">> \")\n",
    "if matrix == \"\":\n",
    "    matrix = \"5, 10, 3, 12, 5, 50, 6\"\n",
    "    matrix = \"30, 35, 15, 5, 10, 20, 25\"\n",
    "matrix = matrix.split(\", \")\n",
    "matrix = np.array(matrix).astype(int)\n",
    "x = len(matrix)\n",
    "m = np.zeros((x,x))\n",
    "s = np.zeros((x,x))"
   ]
  },
  {
   "cell_type": "code",
   "execution_count": 10,
   "metadata": {
    "ExecuteTime": {
     "end_time": "2020-04-27T13:35:16.496334Z",
     "start_time": "2020-04-27T13:35:16.490551Z"
    }
   },
   "outputs": [],
   "source": [
    "for i in range(2,x):\n",
    "    for j in range(1,x-i+1):\n",
    "        k = i+j-1\n",
    "        m[j, k] = float(\"inf\")\n",
    "        for q in range(j, k):\n",
    "            temp = matrix[j-1]*matrix[q]*matrix[k] + m[j,q] + m[q+1,k]\n",
    "            #print(\"%d*%d*%d+%d+%d=%d\"%(matrix[j-1],matrix[q],matrix[k] , m[j,q] , m[q+1,k],temp))\n",
    "            if temp<m[j,k]:\n",
    "                m[j,k] = temp\n",
    "                s[j,k] = q\n",
    "        #print(j,k)\n",
    "        \n",
    "        #print(out)"
   ]
  },
  {
   "cell_type": "code",
   "execution_count": 11,
   "metadata": {
    "ExecuteTime": {
     "end_time": "2020-04-27T13:35:17.281977Z",
     "start_time": "2020-04-27T13:35:17.276435Z"
    }
   },
   "outputs": [
    {
     "data": {
      "text/plain": [
       "array([[0., 0., 0., 0., 0., 0., 0.],\n",
       "       [0., 0., 1., 1., 3., 3., 3.],\n",
       "       [0., 0., 0., 2., 3., 3., 3.],\n",
       "       [0., 0., 0., 0., 3., 3., 3.],\n",
       "       [0., 0., 0., 0., 0., 4., 5.],\n",
       "       [0., 0., 0., 0., 0., 0., 5.],\n",
       "       [0., 0., 0., 0., 0., 0., 0.]])"
      ]
     },
     "execution_count": 11,
     "metadata": {},
     "output_type": "execute_result"
    }
   ],
   "source": [
    "s"
   ]
  },
  {
   "cell_type": "code",
   "execution_count": 12,
   "metadata": {
    "ExecuteTime": {
     "end_time": "2020-04-27T13:35:17.974106Z",
     "start_time": "2020-04-27T13:35:17.968860Z"
    }
   },
   "outputs": [
    {
     "data": {
      "text/plain": [
       "array([[    0.,     0.,     0.,     0.,     0.,     0.,     0.],\n",
       "       [    0.,     0., 15750.,  7875.,  9375., 11875., 15125.],\n",
       "       [    0.,     0.,     0.,  2625.,  4375.,  7125., 10500.],\n",
       "       [    0.,     0.,     0.,     0.,   750.,  2500.,  5375.],\n",
       "       [    0.,     0.,     0.,     0.,     0.,  1000.,  3500.],\n",
       "       [    0.,     0.,     0.,     0.,     0.,     0.,  5000.],\n",
       "       [    0.,     0.,     0.,     0.,     0.,     0.,     0.]])"
      ]
     },
     "execution_count": 12,
     "metadata": {},
     "output_type": "execute_result"
    }
   ],
   "source": [
    "m"
   ]
  },
  {
   "cell_type": "code",
   "execution_count": 92,
   "metadata": {
    "ExecuteTime": {
     "end_time": "2020-04-08T02:22:55.437378Z",
     "start_time": "2020-04-08T02:22:55.431809Z"
    }
   },
   "outputs": [
    {
     "data": {
      "text/plain": [
       "array([[0., 0., 0., 0., 0., 0., 0.],\n",
       "       [0., 0., 1., 2., 2., 4., 2.],\n",
       "       [0., 0., 0., 2., 2., 2., 2.],\n",
       "       [0., 0., 0., 0., 3., 4., 4.],\n",
       "       [0., 0., 0., 0., 0., 4., 4.],\n",
       "       [0., 0., 0., 0., 0., 0., 5.],\n",
       "       [0., 0., 0., 0., 0., 0., 0.]])"
      ]
     },
     "execution_count": 92,
     "metadata": {},
     "output_type": "execute_result"
    }
   ],
   "source": [
    "s"
   ]
  },
  {
   "cell_type": "code",
   "execution_count": 66,
   "metadata": {
    "ExecuteTime": {
     "end_time": "2020-04-08T01:43:51.198068Z",
     "start_time": "2020-04-08T01:43:51.186950Z"
    }
   },
   "outputs": [
    {
     "data": {
      "text/plain": [
       "array([[0., 0., 0., 0., 0., 0., 0.],\n",
       "       [0., 0., 1., 0., 0., 0., 0.],\n",
       "       [0., 0., 0., 2., 0., 0., 0.],\n",
       "       [0., 0., 0., 0., 3., 0., 0.],\n",
       "       [0., 0., 0., 0., 0., 4., 0.],\n",
       "       [0., 0., 0., 0., 0., 0., 5.],\n",
       "       [0., 0., 0., 0., 0., 0., 0.]])"
      ]
     },
     "execution_count": 66,
     "metadata": {},
     "output_type": "execute_result"
    }
   ],
   "source": [
    "if times < m[j,k]:\n",
    "            m[j,k] = times\n",
    "            s[j,k] = j\n",
    "        for k in range(j-2,j+1):\n",
    "            break\n",
    "            print(k,\" ->\", end= \"\")\n",
    "            out *= matrix[k]\n",
    "            print(matrix[k])\n",
    "        print(i, j)"
   ]
  },
  {
   "cell_type": "code",
   "execution_count": null,
   "metadata": {},
   "outputs": [],
   "source": []
  },
  {
   "cell_type": "code",
   "execution_count": 211,
   "metadata": {
    "ExecuteTime": {
     "end_time": "2020-04-08T11:58:22.313886Z",
     "start_time": "2020-04-08T11:58:22.305552Z"
    }
   },
   "outputs": [],
   "source": [
    "def LCS(X, Y):\n",
    "    #X = \"A, B, C, B, D, A, B\".split(\", \")\n",
    "    #Y = \"B, D, C, A, B, A\".split(\", \")\n",
    "    lenX = len(X)\n",
    "    lenY = len(Y)\n",
    "\n",
    "    import numpy as np\n",
    "    c = np.zeros((lenX+1, lenY+1))\n",
    "    b = np.zeros((lenX+1, lenY+1)).astype(int).astype(str)\n",
    "    \n",
    "    for x in range(lenX):\n",
    "        for y in range(lenY):\n",
    "            if X[x] == Y[y]:\n",
    "                c[x+1,y+1] = c[x, y] + 1\n",
    "                b[x+1,y+1] = \"↖\"\n",
    "            elif c[x+1, y] > c[x, y+1]:\n",
    "                c[x+1,y+1] = c[x+1, y]\n",
    "                b[x+1,y+1] = \"←\"\n",
    "            else:\n",
    "                c[x+1,y+1] = c[x, y+1]\n",
    "                b[x+1,y+1] = \"↑\"\n",
    "                \n",
    "    def printLCS(b, X, x, y, out):\n",
    "        if x==0 or y==0:\n",
    "            return\n",
    "        if b[x,y] == \"↖\":\n",
    "            out.append(X[x-1])\n",
    "            printLCS(b,X, x-1, y-1, out)\n",
    "        elif b[x,y] == \"↑\":\n",
    "            printLCS(b, X, x-1, y, out)\n",
    "        else:\n",
    "            printLCS(b, X, x, y-1, out)\n",
    "    LCS = []\n",
    "    printLCS(b, X, lenX, lenY, LCS)\n",
    "    print(LCS)\n",
    "    out = []\n",
    "    for C, B in zip(c, b):\n",
    "        for cs, bs in zip(C, B):\n",
    "            if bs == \"0\":\n",
    "                #print(\"%d\\t\"%(cs), end = \"\")\n",
    "                out.append(\"%d\"%cs)\n",
    "            else:\n",
    "                #print(\"%s %d\\t\"%(bs, cs), end = \"\")\n",
    "                out.append(\"%s %d\"%(bs,cs))\n",
    "    out = np.array(out)\n",
    "    out = out.reshape(lenX+1, lenY+1)\n",
    "    import pandas as pd\n",
    "    return pd.DataFrame(out, index = [\"Xi\"] + X, columns = [\"Yi\"] + Y), LCS"
   ]
  },
  {
   "cell_type": "code",
   "execution_count": 212,
   "metadata": {
    "ExecuteTime": {
     "end_time": "2020-04-08T11:58:22.623192Z",
     "start_time": "2020-04-08T11:58:22.612580Z"
    }
   },
   "outputs": [
    {
     "name": "stdout",
     "output_type": "stream",
     "text": [
      "['0', '1', '1', '0', '0', '1']\n"
     ]
    }
   ],
   "source": [
    "out = LCS(\"1, 0, 0, 1, 0, 1, 0, 1\".split(\", \"), \"0, 1, 0, 1, 1, 0, 1, 1, 0\".split(\", \"))"
   ]
  },
  {
   "cell_type": "code",
   "execution_count": 214,
   "metadata": {
    "ExecuteTime": {
     "end_time": "2020-04-08T11:58:30.401501Z",
     "start_time": "2020-04-08T11:58:30.391081Z"
    }
   },
   "outputs": [
    {
     "data": {
      "text/html": [
       "<div>\n",
       "<style scoped>\n",
       "    .dataframe tbody tr th:only-of-type {\n",
       "        vertical-align: middle;\n",
       "    }\n",
       "\n",
       "    .dataframe tbody tr th {\n",
       "        vertical-align: top;\n",
       "    }\n",
       "\n",
       "    .dataframe thead th {\n",
       "        text-align: right;\n",
       "    }\n",
       "</style>\n",
       "<table border=\"1\" class=\"dataframe\">\n",
       "  <thead>\n",
       "    <tr style=\"text-align: right;\">\n",
       "      <th></th>\n",
       "      <th>Yi</th>\n",
       "      <th>0</th>\n",
       "      <th>1</th>\n",
       "      <th>0</th>\n",
       "      <th>1</th>\n",
       "      <th>1</th>\n",
       "      <th>0</th>\n",
       "      <th>1</th>\n",
       "      <th>1</th>\n",
       "      <th>0</th>\n",
       "    </tr>\n",
       "  </thead>\n",
       "  <tbody>\n",
       "    <tr>\n",
       "      <td>Xi</td>\n",
       "      <td>0</td>\n",
       "      <td>0</td>\n",
       "      <td>0</td>\n",
       "      <td>0</td>\n",
       "      <td>0</td>\n",
       "      <td>0</td>\n",
       "      <td>0</td>\n",
       "      <td>0</td>\n",
       "      <td>0</td>\n",
       "      <td>0</td>\n",
       "    </tr>\n",
       "    <tr>\n",
       "      <td>1</td>\n",
       "      <td>0</td>\n",
       "      <td>↑ 0</td>\n",
       "      <td>↖ 1</td>\n",
       "      <td>← 1</td>\n",
       "      <td>↖ 1</td>\n",
       "      <td>↖ 1</td>\n",
       "      <td>← 1</td>\n",
       "      <td>↖ 1</td>\n",
       "      <td>↖ 1</td>\n",
       "      <td>← 1</td>\n",
       "    </tr>\n",
       "    <tr>\n",
       "      <td>0</td>\n",
       "      <td>0</td>\n",
       "      <td>↖ 1</td>\n",
       "      <td>↑ 1</td>\n",
       "      <td>↖ 2</td>\n",
       "      <td>← 2</td>\n",
       "      <td>← 2</td>\n",
       "      <td>↖ 2</td>\n",
       "      <td>← 2</td>\n",
       "      <td>← 2</td>\n",
       "      <td>↖ 2</td>\n",
       "    </tr>\n",
       "    <tr>\n",
       "      <td>0</td>\n",
       "      <td>0</td>\n",
       "      <td>↖ 1</td>\n",
       "      <td>↑ 1</td>\n",
       "      <td>↖ 2</td>\n",
       "      <td>↑ 2</td>\n",
       "      <td>↑ 2</td>\n",
       "      <td>↖ 3</td>\n",
       "      <td>← 3</td>\n",
       "      <td>← 3</td>\n",
       "      <td>↖ 3</td>\n",
       "    </tr>\n",
       "    <tr>\n",
       "      <td>1</td>\n",
       "      <td>0</td>\n",
       "      <td>↑ 1</td>\n",
       "      <td>↖ 2</td>\n",
       "      <td>↑ 2</td>\n",
       "      <td>↖ 3</td>\n",
       "      <td>↖ 3</td>\n",
       "      <td>↑ 3</td>\n",
       "      <td>↖ 4</td>\n",
       "      <td>↖ 4</td>\n",
       "      <td>← 4</td>\n",
       "    </tr>\n",
       "    <tr>\n",
       "      <td>0</td>\n",
       "      <td>0</td>\n",
       "      <td>↖ 1</td>\n",
       "      <td>↑ 2</td>\n",
       "      <td>↖ 3</td>\n",
       "      <td>↑ 3</td>\n",
       "      <td>↑ 3</td>\n",
       "      <td>↖ 4</td>\n",
       "      <td>↑ 4</td>\n",
       "      <td>↑ 4</td>\n",
       "      <td>↖ 5</td>\n",
       "    </tr>\n",
       "    <tr>\n",
       "      <td>1</td>\n",
       "      <td>0</td>\n",
       "      <td>↑ 1</td>\n",
       "      <td>↖ 2</td>\n",
       "      <td>↑ 3</td>\n",
       "      <td>↖ 4</td>\n",
       "      <td>↖ 4</td>\n",
       "      <td>↑ 4</td>\n",
       "      <td>↖ 5</td>\n",
       "      <td>↖ 5</td>\n",
       "      <td>↑ 5</td>\n",
       "    </tr>\n",
       "    <tr>\n",
       "      <td>0</td>\n",
       "      <td>0</td>\n",
       "      <td>↖ 1</td>\n",
       "      <td>↑ 2</td>\n",
       "      <td>↖ 3</td>\n",
       "      <td>↑ 4</td>\n",
       "      <td>↑ 4</td>\n",
       "      <td>↖ 5</td>\n",
       "      <td>↑ 5</td>\n",
       "      <td>↑ 5</td>\n",
       "      <td>↖ 6</td>\n",
       "    </tr>\n",
       "    <tr>\n",
       "      <td>1</td>\n",
       "      <td>0</td>\n",
       "      <td>↑ 1</td>\n",
       "      <td>↖ 2</td>\n",
       "      <td>↑ 3</td>\n",
       "      <td>↖ 4</td>\n",
       "      <td>↖ 5</td>\n",
       "      <td>↑ 5</td>\n",
       "      <td>↖ 6</td>\n",
       "      <td>↖ 6</td>\n",
       "      <td>↑ 6</td>\n",
       "    </tr>\n",
       "  </tbody>\n",
       "</table>\n",
       "</div>"
      ],
      "text/plain": [
       "   Yi    0    1    0    1    1    0    1    1    0\n",
       "Xi  0    0    0    0    0    0    0    0    0    0\n",
       "1   0  ↑ 0  ↖ 1  ← 1  ↖ 1  ↖ 1  ← 1  ↖ 1  ↖ 1  ← 1\n",
       "0   0  ↖ 1  ↑ 1  ↖ 2  ← 2  ← 2  ↖ 2  ← 2  ← 2  ↖ 2\n",
       "0   0  ↖ 1  ↑ 1  ↖ 2  ↑ 2  ↑ 2  ↖ 3  ← 3  ← 3  ↖ 3\n",
       "1   0  ↑ 1  ↖ 2  ↑ 2  ↖ 3  ↖ 3  ↑ 3  ↖ 4  ↖ 4  ← 4\n",
       "0   0  ↖ 1  ↑ 2  ↖ 3  ↑ 3  ↑ 3  ↖ 4  ↑ 4  ↑ 4  ↖ 5\n",
       "1   0  ↑ 1  ↖ 2  ↑ 3  ↖ 4  ↖ 4  ↑ 4  ↖ 5  ↖ 5  ↑ 5\n",
       "0   0  ↖ 1  ↑ 2  ↖ 3  ↑ 4  ↑ 4  ↖ 5  ↑ 5  ↑ 5  ↖ 6\n",
       "1   0  ↑ 1  ↖ 2  ↑ 3  ↖ 4  ↖ 5  ↑ 5  ↖ 6  ↖ 6  ↑ 6"
      ]
     },
     "execution_count": 214,
     "metadata": {},
     "output_type": "execute_result"
    }
   ],
   "source": [
    "out[0]"
   ]
  },
  {
   "cell_type": "code",
   "execution_count": 201,
   "metadata": {
    "ExecuteTime": {
     "end_time": "2020-04-08T11:56:53.716697Z",
     "start_time": "2020-04-08T11:56:53.710342Z"
    }
   },
   "outputs": [],
   "source": []
  },
  {
   "cell_type": "code",
   "execution_count": null,
   "metadata": {},
   "outputs": [],
   "source": []
  },
  {
   "cell_type": "code",
   "execution_count": 179,
   "metadata": {
    "ExecuteTime": {
     "end_time": "2020-04-08T11:48:05.309370Z",
     "start_time": "2020-04-08T11:48:05.304458Z"
    }
   },
   "outputs": [],
   "source": [
    "def Hi():\n",
    "    print(\"HI\")\n",
    "    return"
   ]
  },
  {
   "cell_type": "code",
   "execution_count": 182,
   "metadata": {
    "ExecuteTime": {
     "end_time": "2020-04-08T11:48:13.292101Z",
     "start_time": "2020-04-08T11:48:13.286832Z"
    }
   },
   "outputs": [
    {
     "data": {
      "text/plain": [
       "<function __main__.Hi()>"
      ]
     },
     "execution_count": 182,
     "metadata": {},
     "output_type": "execute_result"
    }
   ],
   "source": []
  },
  {
   "cell_type": "code",
   "execution_count": null,
   "metadata": {},
   "outputs": [],
   "source": []
  }
 ],
 "metadata": {
  "hide_input": false,
  "kernelspec": {
   "display_name": "Python 3",
   "language": "python",
   "name": "python3"
  },
  "language_info": {
   "codemirror_mode": {
    "name": "ipython",
    "version": 3
   },
   "file_extension": ".py",
   "mimetype": "text/x-python",
   "name": "python",
   "nbconvert_exporter": "python",
   "pygments_lexer": "ipython3",
   "version": "3.7.4"
  },
  "varInspector": {
   "cols": {
    "lenName": 16,
    "lenType": 16,
    "lenVar": 40
   },
   "kernels_config": {
    "python": {
     "delete_cmd_postfix": "",
     "delete_cmd_prefix": "del ",
     "library": "var_list.py",
     "varRefreshCmd": "print(var_dic_list())"
    },
    "r": {
     "delete_cmd_postfix": ") ",
     "delete_cmd_prefix": "rm(",
     "library": "var_list.r",
     "varRefreshCmd": "cat(var_dic_list()) "
    }
   },
   "types_to_exclude": [
    "module",
    "function",
    "builtin_function_or_method",
    "instance",
    "_Feature"
   ],
   "window_display": false
  }
 },
 "nbformat": 4,
 "nbformat_minor": 2
}
