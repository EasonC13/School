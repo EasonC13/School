{
 "cells": [
  {
   "cell_type": "code",
   "execution_count": 69,
   "metadata": {
    "ExecuteTime": {
     "end_time": "2020-05-02T06:43:43.948773Z",
     "start_time": "2020-05-02T06:43:43.942706Z"
    }
   },
   "outputs": [],
   "source": [
    "class Node:\n",
    "    def __init__(self, name, value = None, edge = None, color = \"White\", parent = None):\n",
    "        self.name = name\n",
    "        self.value = value\n",
    "        self.edge = edge if edge else []\n",
    "        self.color = color\n",
    "        self.parent = None\n",
    "    def addEdge(self, newEdge):\n",
    "        self.edge.append(newEdge)\n",
    "    def setColor(self, color):\n",
    "        self.color = color\n",
    "    \n",
    "\n",
    "nodes = [\"s, r, v, w, t, u, x, y\"]\n",
    "nodes = nodes[0].replace(\" \",\"\").split(\",\")\n",
    "\n",
    "nodeDict = {}\n",
    "for node in nodes:\n",
    "    nodeDict[node] = Node(node)\n",
    "\n",
    "def getNodesEdge(nodes):\n",
    "    out = []\n",
    "    for node in nodes.split(\",\"):\n",
    "        out.append(nodeDict[node])\n",
    "    return out\n",
    "\n",
    "nodeDict[\"s\"].edge += getNodesEdge(\"w,r\")\n",
    "nodeDict['r'].edge += getNodesEdge(\"s,v\")\n",
    "nodeDict['v'].edge += getNodesEdge(\"r\")\n",
    "nodeDict['w'].edge += getNodesEdge(\"s,t,x\")\n",
    "nodeDict['t'].edge += getNodesEdge(\"w,x,u\")\n",
    "nodeDict['u'].edge += getNodesEdge(\"t,x,y\")\n",
    "nodeDict['x'].edge += getNodesEdge(\"w,t,u,y\")\n",
    "nodeDict['y'].edge += getNodesEdge(\"x,u\")\n",
    "\n",
    "class Queue:\n",
    "    def __init__(self):\n",
    "        self._queue = []\n",
    "    def send(self, item):\n",
    "        self._queue.append(item)\n",
    "    def pop(self):\n",
    "        return self._queue.pop(0)\n",
    "    def isEmpty(self):\n",
    "        return len(self._queue) == 0\n",
    "\n",
    "def BFS(Graph, startNode):\n",
    "    queue = Queue()\n",
    "    target = Graph[startNode]\n",
    "    target.color = \"Gray\"\n",
    "    target.d = 0\n",
    "    target.parent = None\n",
    "    queue.send(target)\n",
    "    while(queue.isEmpty() == False):\n",
    "        target = queue.pop()\n",
    "        target.color = \"Black\"\n",
    "        for node in target.edge:\n",
    "            if node.color == \"White\":\n",
    "                node.color = \"Gray\"\n",
    "                node.parent = target\n",
    "                node.d = target.d + 1\n",
    "                queue.send(node)\n",
    "    return Graph\n",
    "\n",
    "Graph = BFS(nodeDict, \"s\")\n",
    "\n",
    "#Check the output G is set.\n",
    "for node in Graph.keys():\n",
    "    target = nodeDict[node]\n",
    "    parent = target.parent.name if target.parent else \"None\"\n",
    "    print(\"\"\"\n",
    "    nodeName = %s,\n",
    "    nodeParent = %s,\n",
    "    nodeColor = %s\"\"\"%(target.name, parent, target.color))\n",
    "\n",
    "def printPath(G, start, to, out = []):\n",
    "    if type(start) == str:\n",
    "        start = G[start]\n",
    "    if type(to) == str:\n",
    "        to = G[to]\n",
    "    if to is start:\n",
    "        print(start.name, end = \"\")\n",
    "        return\n",
    "    elif to.parent == None:\n",
    "        print(\"No path avaliable\")\n",
    "        return\n",
    "    else:\n",
    "        printPath(G, start, to.parent, out)\n",
    "        print(\" =>\",to.name, end = \"\")\n",
    "        return\n",
    "\n",
    "printPath(nodeDict, \"s\", \"y\")\n",
    "\n"
   ]
  },
  {
   "cell_type": "code",
   "execution_count": 83,
   "metadata": {
    "ExecuteTime": {
     "end_time": "2020-05-02T06:46:46.601328Z",
     "start_time": "2020-05-02T06:46:46.595870Z"
    }
   },
   "outputs": [],
   "source": []
  },
  {
   "cell_type": "code",
   "execution_count": null,
   "metadata": {},
   "outputs": [],
   "source": []
  }
 ],
 "metadata": {
  "hide_input": false,
  "kernelspec": {
   "display_name": "Python 3",
   "language": "python",
   "name": "python3"
  },
  "language_info": {
   "codemirror_mode": {
    "name": "ipython",
    "version": 3
   },
   "file_extension": ".py",
   "mimetype": "text/x-python",
   "name": "python",
   "nbconvert_exporter": "python",
   "pygments_lexer": "ipython3",
   "version": "3.7.4"
  },
  "varInspector": {
   "cols": {
    "lenName": 16,
    "lenType": 16,
    "lenVar": 40
   },
   "kernels_config": {
    "python": {
     "delete_cmd_postfix": "",
     "delete_cmd_prefix": "del ",
     "library": "var_list.py",
     "varRefreshCmd": "print(var_dic_list())"
    },
    "r": {
     "delete_cmd_postfix": ") ",
     "delete_cmd_prefix": "rm(",
     "library": "var_list.r",
     "varRefreshCmd": "cat(var_dic_list()) "
    }
   },
   "position": {
    "height": "212.99px",
    "left": "796.333px",
    "right": "20px",
    "top": "260px",
    "width": "349.99px"
   },
   "types_to_exclude": [
    "module",
    "function",
    "builtin_function_or_method",
    "instance",
    "_Feature"
   ],
   "window_display": true
  }
 },
 "nbformat": 4,
 "nbformat_minor": 2
}
