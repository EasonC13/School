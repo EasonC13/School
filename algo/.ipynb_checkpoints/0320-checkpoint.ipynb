{
 "cells": [
  {
   "cell_type": "code",
   "execution_count": 1,
   "metadata": {
    "ExecuteTime": {
     "end_time": "2020-03-17T01:52:20.911533Z",
     "start_time": "2020-03-17T01:52:20.906767Z"
    }
   },
   "outputs": [],
   "source": [
    "List = [3, 5, 7, 8, 9, 12, 15]"
   ]
  },
  {
   "cell_type": "code",
   "execution_count": 5,
   "metadata": {
    "ExecuteTime": {
     "end_time": "2020-03-17T01:56:36.335570Z",
     "start_time": "2020-03-17T01:56:36.330309Z"
    }
   },
   "outputs": [
    {
     "data": {
      "text/plain": [
       "1"
      ]
     },
     "execution_count": 5,
     "metadata": {},
     "output_type": "execute_result"
    }
   ],
   "source": [
    "int(3/2)"
   ]
  },
  {
   "cell_type": "code",
   "execution_count": 26,
   "metadata": {
    "ExecuteTime": {
     "end_time": "2020-03-17T02:17:36.075682Z",
     "start_time": "2020-03-17T02:17:36.069037Z"
    }
   },
   "outputs": [],
   "source": [
    "def binSearch(List, target, p = None, q = None):\n",
    "    if p == None or q == None:    #1\n",
    "        p = 0\n",
    "        q = len(List)-1\n",
    "    check = int((p+q)/2)          #1\n",
    "    check_target = List[check]    #1\n",
    "    print(\"%d, \"%check_target, end = \"\")\n",
    "    if check_target == target:    #1\n",
    "        return check_target       #1\n",
    "    elif check_target < target:\n",
    "        return binSearch(List, target, p = int((p+q)/2)+1, q = int(q))#T(1/2*n)\n",
    "    elif check_target > target:\n",
    "        return binSearch(List, target, p = int(p), q = int((p+q)/2-1))"
   ]
  },
  {
   "cell_type": "code",
   "execution_count": 27,
   "metadata": {
    "ExecuteTime": {
     "end_time": "2020-03-17T02:17:36.238965Z",
     "start_time": "2020-03-17T02:17:36.227584Z"
    }
   },
   "outputs": [
    {
     "name": "stdout",
     "output_type": "stream",
     "text": [
      "8, 12, 9, "
     ]
    },
    {
     "data": {
      "text/plain": [
       "9"
      ]
     },
     "execution_count": 27,
     "metadata": {},
     "output_type": "execute_result"
    }
   ],
   "source": [
    "binSearch(List, 9)"
   ]
  },
  {
   "cell_type": "code",
   "execution_count": null,
   "metadata": {},
   "outputs": [],
   "source": []
  },
  {
   "cell_type": "code",
   "execution_count": 1,
   "metadata": {
    "ExecuteTime": {
     "end_time": "2020-03-17T03:11:25.567411Z",
     "start_time": "2020-03-17T03:11:25.561564Z"
    }
   },
   "outputs": [],
   "source": [
    "import numpy as np"
   ]
  },
  {
   "cell_type": "code",
   "execution_count": 2,
   "metadata": {
    "ExecuteTime": {
     "end_time": "2020-03-17T03:11:25.779076Z",
     "start_time": "2020-03-17T03:11:25.772910Z"
    }
   },
   "outputs": [],
   "source": [
    "sums = np.array([])"
   ]
  },
  {
   "cell_type": "code",
   "execution_count": 3,
   "metadata": {
    "ExecuteTime": {
     "end_time": "2020-03-17T03:11:26.010695Z",
     "start_time": "2020-03-17T03:11:26.005382Z"
    }
   },
   "outputs": [],
   "source": [
    "sums = []"
   ]
  },
  {
   "cell_type": "code",
   "execution_count": 4,
   "metadata": {
    "ExecuteTime": {
     "end_time": "2020-03-17T03:11:26.411593Z",
     "start_time": "2020-03-17T03:11:26.403479Z"
    }
   },
   "outputs": [
    {
     "data": {
      "text/plain": [
       "array([[0., 0., 0.],\n",
       "       [0., 0., 0.],\n",
       "       [0., 0., 0.]])"
      ]
     },
     "execution_count": 4,
     "metadata": {},
     "output_type": "execute_result"
    }
   ],
   "source": [
    "np.zeros((3,3))"
   ]
  },
  {
   "cell_type": "code",
   "execution_count": 5,
   "metadata": {
    "ExecuteTime": {
     "end_time": "2020-03-17T03:11:26.807871Z",
     "start_time": "2020-03-17T03:11:26.802423Z"
    }
   },
   "outputs": [
    {
     "ename": "SyntaxError",
     "evalue": "invalid syntax (<ipython-input-5-77bf31667b8f>, line 7)",
     "output_type": "error",
     "traceback": [
      "\u001b[0;36m  File \u001b[0;32m\"<ipython-input-5-77bf31667b8f>\"\u001b[0;36m, line \u001b[0;32m7\u001b[0m\n\u001b[0;31m    for i in range(lens)\u001b[0m\n\u001b[0m                        ^\u001b[0m\n\u001b[0;31mSyntaxError\u001b[0m\u001b[0;31m:\u001b[0m invalid syntax\n"
     ]
    }
   ],
   "source": [
    "def MaximumSbuArray(A):\n",
    "    lens = len(A)\n",
    "    sums = np.zeros((lens,lens))\n",
    "    \n",
    "    R = np.zeros(lens)\n",
    "    \n",
    "    for i in range(lens)"
   ]
  },
  {
   "cell_type": "code",
   "execution_count": null,
   "metadata": {},
   "outputs": [],
   "source": []
  },
  {
   "cell_type": "code",
   "execution_count": null,
   "metadata": {},
   "outputs": [],
   "source": []
  },
  {
   "cell_type": "code",
   "execution_count": 1,
   "metadata": {
    "ExecuteTime": {
     "end_time": "2020-03-17T03:17:51.982996Z",
     "start_time": "2020-03-17T03:17:51.977660Z"
    }
   },
   "outputs": [],
   "source": [
    "a = 2\n",
    "power = 5\n",
    "\n",
    "def powers(tar, pows):\n",
    "    if pows == 0:\n",
    "        return 1\n",
    "    #print(tar, pows) #1\n",
    "    if pows == 2: #1\n",
    "        return tar*tar\n",
    "    elif pows == 1:#1\n",
    "        return tar\n",
    "    else:#1\n",
    "        sub_pows = int(pows/2)#1\n",
    "        return powers(tar, sub_pows) * powers(tar, pows - sub_pows) #2*powers(pows/2)"
   ]
  },
  {
   "cell_type": "code",
   "execution_count": 10,
   "metadata": {
    "ExecuteTime": {
     "end_time": "2020-03-17T03:20:27.422650Z",
     "start_time": "2020-03-17T03:20:27.417341Z"
    }
   },
   "outputs": [],
   "source": [
    "def powers2(tar, pows):\n",
    "    if pows == 0:\n",
    "        return 1\n",
    "    #print(tar, pows) #1\n",
    "    if pows == 2: #1\n",
    "        return tar*tar\n",
    "    elif pows == 1:#1\n",
    "        return tar\n",
    "    elif pows%2 == 1:\n",
    "        sub_pows = (pows-1)/2\n",
    "        return powers(tar, sub_pows) * powers(tar, sub_pows) * tar #2*powers(pows/2)\n",
    "    else:#1\n",
    "        sub_pows = pows/2#1\n",
    "        return powers(tar, sub_pows) * powers(tar, pows - sub_pows) #2*powers(pows/2)"
   ]
  },
  {
   "cell_type": "code",
   "execution_count": 47,
   "metadata": {
    "ExecuteTime": {
     "end_time": "2020-03-17T04:49:19.411378Z",
     "start_time": "2020-03-17T04:49:19.405388Z"
    }
   },
   "outputs": [],
   "source": [
    "def powers3(tar, pows):\n",
    "    if pows == 0:\n",
    "        return 1\n",
    "    #print(tar, pows) #1\n",
    "    if pows == 2: #1\n",
    "        return tar*tar\n",
    "    elif pows == 1:#1\n",
    "        return tar\n",
    "    elif pows%2 == 1:\n",
    "        sub_pows = (pows-1)/2\n",
    "        out = powers(tar, sub_pows)\n",
    "        return out * out * tar #2*powers(pows/2)\n",
    "    else:#1\n",
    "        sub_pows = pows/2#1\n",
    "        out = powers(tar, sub_pows)\n",
    "        return out * out #2*powers(pows/2)"
   ]
  },
  {
   "cell_type": "code",
   "execution_count": 48,
   "metadata": {
    "ExecuteTime": {
     "end_time": "2020-03-17T04:49:23.979532Z",
     "start_time": "2020-03-17T04:49:23.973891Z"
    }
   },
   "outputs": [],
   "source": [
    "tar = 20\n",
    "power = 400000"
   ]
  },
  {
   "cell_type": "code",
   "execution_count": 49,
   "metadata": {
    "ExecuteTime": {
     "end_time": "2020-03-17T04:49:24.666684Z",
     "start_time": "2020-03-17T04:49:24.506014Z"
    }
   },
   "outputs": [
    {
     "name": "stdout",
     "output_type": "stream",
     "text": [
      "CPU times: user 159 ms, sys: 0 ns, total: 159 ms\n",
      "Wall time: 159 ms\n"
     ]
    }
   ],
   "source": [
    "%%time\n",
    "result = powers(tar, power)\n",
    "#print(result)"
   ]
  },
  {
   "cell_type": "code",
   "execution_count": 50,
   "metadata": {
    "ExecuteTime": {
     "end_time": "2020-03-17T04:49:29.786496Z",
     "start_time": "2020-03-17T04:49:29.625464Z"
    }
   },
   "outputs": [
    {
     "name": "stdout",
     "output_type": "stream",
     "text": [
      "CPU times: user 160 ms, sys: 0 ns, total: 160 ms\n",
      "Wall time: 159 ms\n"
     ]
    }
   ],
   "source": [
    "%%time\n",
    "result = powers2(tar, power)\n",
    "#print(result)"
   ]
  },
  {
   "cell_type": "code",
   "execution_count": 51,
   "metadata": {
    "ExecuteTime": {
     "end_time": "2020-03-17T04:49:34.828334Z",
     "start_time": "2020-03-17T04:49:34.735817Z"
    }
   },
   "outputs": [
    {
     "name": "stdout",
     "output_type": "stream",
     "text": [
      "CPU times: user 91.1 ms, sys: 0 ns, total: 91.1 ms\n",
      "Wall time: 90.6 ms\n"
     ]
    }
   ],
   "source": [
    "%%time\n",
    "result = powers3(tar, power)"
   ]
  },
  {
   "cell_type": "code",
   "execution_count": 44,
   "metadata": {
    "ExecuteTime": {
     "end_time": "2020-03-17T04:48:47.531703Z",
     "start_time": "2020-03-17T04:48:47.525487Z"
    }
   },
   "outputs": [
    {
     "name": "stdout",
     "output_type": "stream",
     "text": [
      "CPU times: user 704 µs, sys: 2 µs, total: 706 µs\n",
      "Wall time: 724 µs\n"
     ]
    }
   ],
   "source": [
    "%%time\n",
    "result = pow(tar, power)"
   ]
  },
  {
   "cell_type": "code",
   "execution_count": 45,
   "metadata": {
    "ExecuteTime": {
     "end_time": "2020-03-17T04:48:49.018906Z",
     "start_time": "2020-03-17T04:48:49.013724Z"
    }
   },
   "outputs": [],
   "source": [
    "def powers_old(tar, pows):\n",
    "    out = 1\n",
    "    for i in range(pows):\n",
    "        out = out * tar\n",
    "    return out"
   ]
  },
  {
   "cell_type": "code",
   "execution_count": 46,
   "metadata": {
    "ExecuteTime": {
     "end_time": "2020-03-17T04:48:51.103393Z",
     "start_time": "2020-03-17T04:48:49.567363Z"
    },
    "scrolled": true
   },
   "outputs": [
    {
     "name": "stdout",
     "output_type": "stream",
     "text": [
      "CPU times: user 1.53 s, sys: 0 ns, total: 1.53 s\n",
      "Wall time: 1.53 s\n"
     ]
    }
   ],
   "source": [
    "%%time\n",
    "result_2 = powers_old(tar, power)"
   ]
  },
  {
   "cell_type": "code",
   "execution_count": 37,
   "metadata": {
    "ExecuteTime": {
     "end_time": "2020-03-17T03:38:51.627288Z",
     "start_time": "2020-03-17T03:38:51.624971Z"
    }
   },
   "outputs": [
    {
     "data": {
      "text/plain": [
       "True"
      ]
     },
     "execution_count": 37,
     "metadata": {},
     "output_type": "execute_result"
    }
   ],
   "source": [
    "result == result_2"
   ]
  },
  {
   "cell_type": "code",
   "execution_count": null,
   "metadata": {},
   "outputs": [],
   "source": []
  },
  {
   "cell_type": "code",
   "execution_count": null,
   "metadata": {},
   "outputs": [],
   "source": []
  },
  {
   "cell_type": "code",
   "execution_count": null,
   "metadata": {},
   "outputs": [],
   "source": []
  },
  {
   "cell_type": "code",
   "execution_count": null,
   "metadata": {},
   "outputs": [],
   "source": []
  }
 ],
 "metadata": {
  "hide_input": false,
  "kernelspec": {
   "display_name": "Python 3",
   "language": "python",
   "name": "python3"
  },
  "language_info": {
   "codemirror_mode": {
    "name": "ipython",
    "version": 3
   },
   "file_extension": ".py",
   "mimetype": "text/x-python",
   "name": "python",
   "nbconvert_exporter": "python",
   "pygments_lexer": "ipython3",
   "version": "3.7.4"
  },
  "varInspector": {
   "cols": {
    "lenName": 16,
    "lenType": 16,
    "lenVar": 40
   },
   "kernels_config": {
    "python": {
     "delete_cmd_postfix": "",
     "delete_cmd_prefix": "del ",
     "library": "var_list.py",
     "varRefreshCmd": "print(var_dic_list())"
    },
    "r": {
     "delete_cmd_postfix": ") ",
     "delete_cmd_prefix": "rm(",
     "library": "var_list.r",
     "varRefreshCmd": "cat(var_dic_list()) "
    }
   },
   "types_to_exclude": [
    "module",
    "function",
    "builtin_function_or_method",
    "instance",
    "_Feature"
   ],
   "window_display": false
  }
 },
 "nbformat": 4,
 "nbformat_minor": 2
}
