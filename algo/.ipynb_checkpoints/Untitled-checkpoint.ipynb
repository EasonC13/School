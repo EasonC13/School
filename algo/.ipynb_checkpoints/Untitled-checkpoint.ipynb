{
 "cells": [
  {
   "cell_type": "code",
   "execution_count": 2,
   "metadata": {
    "ExecuteTime": {
     "end_time": "2020-04-28T01:39:33.320982Z",
     "start_time": "2020-04-28T01:39:33.315423Z"
    }
   },
   "outputs": [
    {
     "data": {
      "text/plain": [
       "True"
      ]
     },
     "execution_count": 2,
     "metadata": {},
     "output_type": "execute_result"
    }
   ],
   "source": []
  },
  {
   "cell_type": "code",
   "execution_count": 7,
   "metadata": {
    "ExecuteTime": {
     "end_time": "2020-04-28T01:40:56.237639Z",
     "start_time": "2020-04-28T01:40:56.231473Z"
    }
   },
   "outputs": [
    {
     "data": {
      "text/plain": [
       "True"
      ]
     },
     "execution_count": 7,
     "metadata": {},
     "output_type": "execute_result"
    }
   ],
   "source": [
    "j = 0\n",
    "for i in range(1000):\n",
    "    j += (3/2)**i*i\n",
    "j < 2**1000"
   ]
  },
  {
   "cell_type": "code",
   "execution_count": null,
   "metadata": {},
   "outputs": [],
   "source": []
  },
  {
   "cell_type": "code",
   "execution_count": null,
   "metadata": {},
   "outputs": [],
   "source": []
  },
  {
   "cell_type": "code",
   "execution_count": 8,
   "metadata": {
    "ExecuteTime": {
     "end_time": "2020-04-28T01:51:51.164607Z",
     "start_time": "2020-04-28T01:51:51.160319Z"
    }
   },
   "outputs": [],
   "source": [
    "import numpy as np"
   ]
  },
  {
   "cell_type": "code",
   "execution_count": 11,
   "metadata": {
    "ExecuteTime": {
     "end_time": "2020-04-28T01:52:08.846566Z",
     "start_time": "2020-04-28T01:52:08.841032Z"
    }
   },
   "outputs": [
    {
     "data": {
      "text/plain": [
       "array([0, 1, 2, 3, 4, 5, 6, 7, 8, 9])"
      ]
     },
     "execution_count": 11,
     "metadata": {},
     "output_type": "execute_result"
    }
   ],
   "source": [
    "np.arange(10)"
   ]
  },
  {
   "cell_type": "code",
   "execution_count": 43,
   "metadata": {
    "ExecuteTime": {
     "end_time": "2020-04-28T02:03:44.764478Z",
     "start_time": "2020-04-28T02:03:44.757793Z"
    }
   },
   "outputs": [],
   "source": [
    "#第二題\n",
    "def question2(array, i=0, j=-1):\n",
    "    if j == -1:\n",
    "        lens = len(array)\n",
    "        j = len(array) - 1\n",
    "    if abs(i - j) == 1:\n",
    "        #只剩一個，base case。\n",
    "        return i\n",
    "    index = int(i+ abs(i-j)/2)\n",
    "    print(i, j)\n",
    "    if array[index - 1] > array[index]:\n",
    "        #此位置遞減，找前面\n",
    "        return question2(array, i, index)\n",
    "    elif array[index - 1] < array[index]:\n",
    "        #此位置遞增，找後面\n",
    "        return question2(array, index, j)\n",
    "    else:\n",
    "        #不高不低，兩邊都要找\n",
    "        right, left = question2(array, i, index), question2(array, index, j)\n",
    "        return max(array[right], array[left])\n",
    "\n",
    "\n",
    "#測資\n",
    "test = list(np.arange(9)) +  list(np.arange(3)[::-1])\n",
    "print(test)\n",
    "\n",
    "print(question2(test))\n"
   ]
  },
  {
   "cell_type": "code",
   "execution_count": null,
   "metadata": {},
   "outputs": [],
   "source": []
  },
  {
   "cell_type": "code",
   "execution_count": null,
   "metadata": {},
   "outputs": [],
   "source": []
  },
  {
   "cell_type": "code",
   "execution_count": null,
   "metadata": {},
   "outputs": [],
   "source": []
  },
  {
   "cell_type": "code",
   "execution_count": 60,
   "metadata": {
    "ExecuteTime": {
     "end_time": "2020-04-28T02:43:06.651490Z",
     "start_time": "2020-04-28T02:43:06.639346Z"
    }
   },
   "outputs": [
    {
     "name": "stdout",
     "output_type": "stream",
     "text": [
      "CPU times: user 4.93 ms, sys: 21 µs, total: 4.95 ms\n",
      "Wall time: 3.84 ms\n"
     ]
    },
    {
     "data": {
      "text/html": [
       "<div>\n",
       "<style scoped>\n",
       "    .dataframe tbody tr th:only-of-type {\n",
       "        vertical-align: middle;\n",
       "    }\n",
       "\n",
       "    .dataframe tbody tr th {\n",
       "        vertical-align: top;\n",
       "    }\n",
       "\n",
       "    .dataframe thead th {\n",
       "        text-align: right;\n",
       "    }\n",
       "</style>\n",
       "<table border=\"1\" class=\"dataframe\">\n",
       "  <thead>\n",
       "    <tr style=\"text-align: right;\">\n",
       "      <th></th>\n",
       "      <th>TaskID</th>\n",
       "      <th>Start</th>\n",
       "      <th>End</th>\n",
       "      <th>Value</th>\n",
       "    </tr>\n",
       "  </thead>\n",
       "  <tbody>\n",
       "    <tr>\n",
       "      <td>4</td>\n",
       "      <td>Task 4</td>\n",
       "      <td>2</td>\n",
       "      <td>3</td>\n",
       "      <td>5</td>\n",
       "    </tr>\n",
       "    <tr>\n",
       "      <td>0</td>\n",
       "      <td>Task 0</td>\n",
       "      <td>4</td>\n",
       "      <td>5</td>\n",
       "      <td>2</td>\n",
       "    </tr>\n",
       "    <tr>\n",
       "      <td>3</td>\n",
       "      <td>Task 3</td>\n",
       "      <td>2</td>\n",
       "      <td>11</td>\n",
       "      <td>5</td>\n",
       "    </tr>\n",
       "    <tr>\n",
       "      <td>2</td>\n",
       "      <td>Task 2</td>\n",
       "      <td>9</td>\n",
       "      <td>12</td>\n",
       "      <td>4</td>\n",
       "    </tr>\n",
       "    <tr>\n",
       "      <td>1</td>\n",
       "      <td>Task 1</td>\n",
       "      <td>12</td>\n",
       "      <td>13</td>\n",
       "      <td>3</td>\n",
       "    </tr>\n",
       "    <tr>\n",
       "      <td>6</td>\n",
       "      <td>Task 6</td>\n",
       "      <td>11</td>\n",
       "      <td>13</td>\n",
       "      <td>6</td>\n",
       "    </tr>\n",
       "    <tr>\n",
       "      <td>9</td>\n",
       "      <td>Task 9</td>\n",
       "      <td>12</td>\n",
       "      <td>13</td>\n",
       "      <td>7</td>\n",
       "    </tr>\n",
       "    <tr>\n",
       "      <td>5</td>\n",
       "      <td>Task 5</td>\n",
       "      <td>11</td>\n",
       "      <td>14</td>\n",
       "      <td>2</td>\n",
       "    </tr>\n",
       "    <tr>\n",
       "      <td>7</td>\n",
       "      <td>Task 7</td>\n",
       "      <td>7</td>\n",
       "      <td>14</td>\n",
       "      <td>2</td>\n",
       "    </tr>\n",
       "    <tr>\n",
       "      <td>8</td>\n",
       "      <td>Task 8</td>\n",
       "      <td>10</td>\n",
       "      <td>14</td>\n",
       "      <td>3</td>\n",
       "    </tr>\n",
       "    <tr>\n",
       "      <td>10</td>\n",
       "      <td>Task 10</td>\n",
       "      <td>12</td>\n",
       "      <td>14</td>\n",
       "      <td>2</td>\n",
       "    </tr>\n",
       "  </tbody>\n",
       "</table>\n",
       "</div>"
      ],
      "text/plain": [
       "     TaskID  Start  End  Value\n",
       "4    Task 4      2    3      5\n",
       "0    Task 0      4    5      2\n",
       "3    Task 3      2   11      5\n",
       "2    Task 2      9   12      4\n",
       "1    Task 1     12   13      3\n",
       "6    Task 6     11   13      6\n",
       "9    Task 9     12   13      7\n",
       "5    Task 5     11   14      2\n",
       "7    Task 7      7   14      2\n",
       "8    Task 8     10   14      3\n",
       "10  Task 10     12   14      2"
      ]
     },
     "execution_count": 60,
     "metadata": {},
     "output_type": "execute_result"
    }
   ],
   "source": [
    "%%time\n",
    "import pandas as pd\n",
    "import numpy as np\n",
    "\n",
    "\n",
    "#隨機生成任務\n",
    "Tasks = pd.DataFrame(columns= [\"TaskID\", \"Start\", \"End\"])\n",
    "\n",
    "maxLen = 17\n",
    "Tasks[\"TaskID\"] = np.array(list(map(lambda x: \"Task \"+str(x), np.arange(0,11))))\n",
    "Tasks[\"Start\"] = np.random.randint(1, maxLen - 1, len(Tasks.TaskID))\n",
    "Tasks[\"End\"] = Tasks[\"Start\"].apply(lambda x:x + np.random.randint(1, maxLen-x))\n",
    "\n",
    "#隨機生成價值\n",
    "Tasks[\"Value\"] = Tasks.End.apply(lambda x: np.random.randint(1,10))\n",
    "\n",
    "Tasks = Tasks.sort_values(\"End\")\n",
    "#將任務從最晚開始的開始排列\n",
    "\n",
    "#print(Tasks)\n",
    "\n",
    "\n",
    "Tasks"
   ]
  },
  {
   "cell_type": "code",
   "execution_count": 67,
   "metadata": {
    "ExecuteTime": {
     "end_time": "2020-04-28T02:44:16.312138Z",
     "start_time": "2020-04-28T02:44:16.305901Z"
    }
   },
   "outputs": [],
   "source": [
    "lens = len(Tasks)"
   ]
  },
  {
   "cell_type": "code",
   "execution_count": 84,
   "metadata": {
    "ExecuteTime": {
     "end_time": "2020-04-28T02:46:31.202435Z",
     "start_time": "2020-04-28T02:46:31.195252Z"
    }
   },
   "outputs": [
    {
     "data": {
      "text/html": [
       "<div>\n",
       "<style scoped>\n",
       "    .dataframe tbody tr th:only-of-type {\n",
       "        vertical-align: middle;\n",
       "    }\n",
       "\n",
       "    .dataframe tbody tr th {\n",
       "        vertical-align: top;\n",
       "    }\n",
       "\n",
       "    .dataframe thead th {\n",
       "        text-align: right;\n",
       "    }\n",
       "</style>\n",
       "<table border=\"1\" class=\"dataframe\">\n",
       "  <thead>\n",
       "    <tr style=\"text-align: right;\">\n",
       "      <th></th>\n",
       "      <th>TaskID</th>\n",
       "      <th>Start</th>\n",
       "      <th>End</th>\n",
       "      <th>Value</th>\n",
       "    </tr>\n",
       "  </thead>\n",
       "  <tbody>\n",
       "    <tr>\n",
       "      <td>10</td>\n",
       "      <td>Task 10</td>\n",
       "      <td>12</td>\n",
       "      <td>14</td>\n",
       "      <td>2</td>\n",
       "    </tr>\n",
       "  </tbody>\n",
       "</table>\n",
       "</div>"
      ],
      "text/plain": [
       "     TaskID  Start  End  Value\n",
       "10  Task 10     12   14      2"
      ]
     },
     "execution_count": 84,
     "metadata": {},
     "output_type": "execute_result"
    }
   ],
   "source": [
    "Tasks[lens-1:lens]"
   ]
  },
  {
   "cell_type": "code",
   "execution_count": 94,
   "metadata": {
    "ExecuteTime": {
     "end_time": "2020-04-28T02:51:37.530753Z",
     "start_time": "2020-04-28T02:51:37.525349Z"
    }
   },
   "outputs": [
    {
     "data": {
      "text/plain": [
       "3"
      ]
     },
     "execution_count": 94,
     "metadata": {},
     "output_type": "execute_result"
    }
   ],
   "source": [
    "list(Tasks.End)[0]"
   ]
  },
  {
   "cell_type": "code",
   "execution_count": 95,
   "metadata": {
    "ExecuteTime": {
     "end_time": "2020-04-28T02:51:56.258263Z",
     "start_time": "2020-04-28T02:51:56.239171Z"
    }
   },
   "outputs": [],
   "source": [
    "#使用 devide and conquer \n",
    "#sudo code ，沒時間完成\n",
    "def getValue(subTasks):\n",
    "    lens = len(subTasks)\n",
    "    if lens==0:\n",
    "        #Base case: 沒有任務\n",
    "        return 0\n",
    "    for i in range(lens):\n",
    "        tar = subTasks[i:i+1] #把子任務的每一個都抽出來檢查\n",
    "        #檢查有此任務在的情況下，價值的總和\n",
    "        values = tar.Value\n",
    "        targetAft = Tasks[(Tasks.Start) > list(tar.End)[0]][0:1] \n",
    "        aft = getValue(targetAft)\n",
    "        #建立子集合，範圍在目標任務結束之後\n",
    "        targetBef = Tasks[(Tasks.End) < list(tar.Start)[0]][0:1] \n",
    "        bef = getValue(targetBef)\n",
    "        #建立子集合，範圍在目標任務開始之前\n",
    "        #然後檢查\n",
    "        return tar.Value+bef+aft\n",
    "        "
   ]
  },
  {
   "cell_type": "code",
   "execution_count": null,
   "metadata": {},
   "outputs": [],
   "source": [
    "startTime = 0\n",
    "toDo = []\n",
    "i = 0\n",
    "while startTime <= max(Tasks.Start):\n",
    "    target = Tasks[Tasks.Start >= startTime][0:1]\n",
    "    toDo.append(list(target.TaskID)[0])\n",
    "    startTime = list(target.End)[0]+1"
   ]
  },
  {
   "cell_type": "code",
   "execution_count": null,
   "metadata": {},
   "outputs": [],
   "source": []
  },
  {
   "cell_type": "code",
   "execution_count": null,
   "metadata": {},
   "outputs": [],
   "source": []
  },
  {
   "cell_type": "code",
   "execution_count": null,
   "metadata": {},
   "outputs": [],
   "source": []
  },
  {
   "cell_type": "code",
   "execution_count": null,
   "metadata": {},
   "outputs": [],
   "source": [
    "\n",
    "\n",
    "\n",
    "LastStartTime = max(Tasks.Start) + 1\n",
    "toDo = []\n",
    "i = 0\n",
    "while LastStartTime >= min(Tasks.End): #如果子集合還有任務可以選\n",
    "    target = Tasks[Tasks.End <= LastStartTime][0:1] #建立子集合\n",
    "                                    #並選擇第一個（也就是子集合中最晚開始的）\n",
    "    toDo.append(list(target.TaskID)[0])#將此任務放進最佳解中\n",
    "    LastStartTime = list(target.Start)[0]-1 #將子集合範圍設定為此任務開始前的任務們\n",
    "print(toDo)"
   ]
  }
 ],
 "metadata": {
  "hide_input": false,
  "kernelspec": {
   "display_name": "Python 3",
   "language": "python",
   "name": "python3"
  },
  "language_info": {
   "codemirror_mode": {
    "name": "ipython",
    "version": 3
   },
   "file_extension": ".py",
   "mimetype": "text/x-python",
   "name": "python",
   "nbconvert_exporter": "python",
   "pygments_lexer": "ipython3",
   "version": "3.7.4"
  },
  "varInspector": {
   "cols": {
    "lenName": 16,
    "lenType": 16,
    "lenVar": 40
   },
   "kernels_config": {
    "python": {
     "delete_cmd_postfix": "",
     "delete_cmd_prefix": "del ",
     "library": "var_list.py",
     "varRefreshCmd": "print(var_dic_list())"
    },
    "r": {
     "delete_cmd_postfix": ") ",
     "delete_cmd_prefix": "rm(",
     "library": "var_list.r",
     "varRefreshCmd": "cat(var_dic_list()) "
    }
   },
   "types_to_exclude": [
    "module",
    "function",
    "builtin_function_or_method",
    "instance",
    "_Feature"
   ],
   "window_display": false
  }
 },
 "nbformat": 4,
 "nbformat_minor": 2
}
