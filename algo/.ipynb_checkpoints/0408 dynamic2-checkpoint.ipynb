{
 "cells": [
  {
   "cell_type": "code",
   "execution_count": 13,
   "metadata": {
    "ExecuteTime": {
     "end_time": "2020-04-08T01:18:42.141799Z",
     "start_time": "2020-04-08T01:18:42.135820Z"
    }
   },
   "outputs": [],
   "source": [
    "import numpy as np"
   ]
  },
  {
   "cell_type": "code",
   "execution_count": 23,
   "metadata": {
    "ExecuteTime": {
     "end_time": "2020-04-08T01:21:57.469966Z",
     "start_time": "2020-04-08T01:21:57.464822Z"
    }
   },
   "outputs": [
    {
     "data": {
      "text/plain": [
       "['5', '10', '3', '12', '5', '50', '6']"
      ]
     },
     "execution_count": 23,
     "metadata": {},
     "output_type": "execute_result"
    }
   ],
   "source": [
    "\"5, 10, 3, 12, 5, 50, 6\".split(\", \")"
   ]
  },
  {
   "cell_type": "code",
   "execution_count": 97,
   "metadata": {
    "ExecuteTime": {
     "end_time": "2020-04-08T08:00:26.818806Z",
     "start_time": "2020-04-08T08:00:06.684942Z"
    }
   },
   "outputs": [
    {
     "name": "stdout",
     "output_type": "stream",
     "text": [
      ">> 30, 35, 15, 5, 10, 20, 25\n"
     ]
    }
   ],
   "source": [
    "matrix = input(\">> \")\n",
    "if matrix == \"\":\n",
    "    matrix = \"5, 10, 3, 12, 5, 50, 6\"\n",
    "    #matrix = \"30, 35, 15, 5, 10, 20, 25\"\n",
    "matrix = matrix.split(\", \")\n",
    "matrix = np.array(matrix).astype(int)\n",
    "x = len(matrix)\n",
    "m = np.zeros((x,x))\n",
    "s = np.zeros((x,x))"
   ]
  },
  {
   "cell_type": "code",
   "execution_count": 98,
   "metadata": {
    "ExecuteTime": {
     "end_time": "2020-04-08T08:00:29.340472Z",
     "start_time": "2020-04-08T08:00:29.330606Z"
    }
   },
   "outputs": [
    {
     "name": "stdout",
     "output_type": "stream",
     "text": [
      "30*35*15+0+0=15750\n",
      "1 2\n",
      "35*15*5+0+0=2625\n",
      "2 3\n",
      "15*5*10+0+0=750\n",
      "3 4\n",
      "5*10*20+0+0=1000\n",
      "4 5\n",
      "10*20*25+0+0=5000\n",
      "5 6\n",
      "30*35*5+0+2625=7875\n",
      "30*15*5+15750+0=18000\n",
      "1 3\n",
      "35*15*10+0+750=6000\n",
      "35*5*10+2625+0=4375\n",
      "2 4\n",
      "15*5*20+0+1000=2500\n",
      "15*10*20+750+0=3750\n",
      "3 5\n",
      "5*10*25+0+5000=6250\n",
      "5*20*25+1000+0=3500\n",
      "4 6\n",
      "30*35*10+0+4375=14875\n",
      "30*15*10+15750+750=21000\n",
      "30*5*10+7875+0=9375\n",
      "1 4\n",
      "35*15*20+0+2500=13000\n",
      "35*5*20+2625+1000=7125\n",
      "35*10*20+4375+0=11375\n",
      "2 5\n",
      "15*5*25+0+3500=5375\n",
      "15*10*25+750+5000=9500\n",
      "15*20*25+2500+0=10000\n",
      "3 6\n",
      "30*35*20+0+7125=28125\n",
      "30*15*20+15750+2500=27250\n",
      "30*5*20+7875+1000=11875\n",
      "30*10*20+9375+0=15375\n",
      "1 5\n",
      "35*15*25+0+5375=18500\n",
      "35*5*25+2625+3500=10500\n",
      "35*10*25+4375+5000=18125\n",
      "35*20*25+7125+0=24625\n",
      "2 6\n",
      "30*35*25+0+10500=36750\n",
      "30*15*25+15750+5375=32375\n",
      "30*5*25+7875+3500=15125\n",
      "30*10*25+9375+5000=21875\n",
      "30*20*25+11875+0=26875\n",
      "1 6\n"
     ]
    }
   ],
   "source": [
    "for i in range(2,x):\n",
    "    for j in range(1,x-i+1):\n",
    "        k = i+j-1\n",
    "        m[j, k] = float(\"inf\")\n",
    "        for q in range(j, k):\n",
    "            temp = matrix[j-1]*matrix[q]*matrix[k] + m[j,q] + m[q+1,k]\n",
    "            print(\"%d*%d*%d+%d+%d=%d\"%(matrix[j-1],matrix[q],matrix[k] , m[j,q] , m[q+1,k],temp))\n",
    "            if temp<m[j,k]:\n",
    "                m[j,k] = temp\n",
    "                s[j,k] = q\n",
    "        print(j,k)\n",
    "        \n",
    "        #print(out)"
   ]
  },
  {
   "cell_type": "code",
   "execution_count": 99,
   "metadata": {
    "ExecuteTime": {
     "end_time": "2020-04-08T08:00:31.692695Z",
     "start_time": "2020-04-08T08:00:31.687604Z"
    }
   },
   "outputs": [
    {
     "data": {
      "text/plain": [
       "array([[0., 0., 0., 0., 0., 0., 0.],\n",
       "       [0., 0., 1., 1., 3., 3., 3.],\n",
       "       [0., 0., 0., 2., 3., 3., 3.],\n",
       "       [0., 0., 0., 0., 3., 3., 3.],\n",
       "       [0., 0., 0., 0., 0., 4., 5.],\n",
       "       [0., 0., 0., 0., 0., 0., 5.],\n",
       "       [0., 0., 0., 0., 0., 0., 0.]])"
      ]
     },
     "execution_count": 99,
     "metadata": {},
     "output_type": "execute_result"
    }
   ],
   "source": [
    "s"
   ]
  },
  {
   "cell_type": "code",
   "execution_count": 100,
   "metadata": {
    "ExecuteTime": {
     "end_time": "2020-04-08T08:00:32.925601Z",
     "start_time": "2020-04-08T08:00:32.920033Z"
    }
   },
   "outputs": [
    {
     "data": {
      "text/plain": [
       "array([[    0.,     0.,     0.,     0.,     0.,     0.,     0.],\n",
       "       [    0.,     0., 15750.,  7875.,  9375., 11875., 15125.],\n",
       "       [    0.,     0.,     0.,  2625.,  4375.,  7125., 10500.],\n",
       "       [    0.,     0.,     0.,     0.,   750.,  2500.,  5375.],\n",
       "       [    0.,     0.,     0.,     0.,     0.,  1000.,  3500.],\n",
       "       [    0.,     0.,     0.,     0.,     0.,     0.,  5000.],\n",
       "       [    0.,     0.,     0.,     0.,     0.,     0.,     0.]])"
      ]
     },
     "execution_count": 100,
     "metadata": {},
     "output_type": "execute_result"
    }
   ],
   "source": [
    "m"
   ]
  },
  {
   "cell_type": "code",
   "execution_count": 92,
   "metadata": {
    "ExecuteTime": {
     "end_time": "2020-04-08T02:22:55.437378Z",
     "start_time": "2020-04-08T02:22:55.431809Z"
    }
   },
   "outputs": [
    {
     "data": {
      "text/plain": [
       "array([[0., 0., 0., 0., 0., 0., 0.],\n",
       "       [0., 0., 1., 2., 2., 4., 2.],\n",
       "       [0., 0., 0., 2., 2., 2., 2.],\n",
       "       [0., 0., 0., 0., 3., 4., 4.],\n",
       "       [0., 0., 0., 0., 0., 4., 4.],\n",
       "       [0., 0., 0., 0., 0., 0., 5.],\n",
       "       [0., 0., 0., 0., 0., 0., 0.]])"
      ]
     },
     "execution_count": 92,
     "metadata": {},
     "output_type": "execute_result"
    }
   ],
   "source": [
    "s"
   ]
  },
  {
   "cell_type": "code",
   "execution_count": 66,
   "metadata": {
    "ExecuteTime": {
     "end_time": "2020-04-08T01:43:51.198068Z",
     "start_time": "2020-04-08T01:43:51.186950Z"
    }
   },
   "outputs": [
    {
     "data": {
      "text/plain": [
       "array([[0., 0., 0., 0., 0., 0., 0.],\n",
       "       [0., 0., 1., 0., 0., 0., 0.],\n",
       "       [0., 0., 0., 2., 0., 0., 0.],\n",
       "       [0., 0., 0., 0., 3., 0., 0.],\n",
       "       [0., 0., 0., 0., 0., 4., 0.],\n",
       "       [0., 0., 0., 0., 0., 0., 5.],\n",
       "       [0., 0., 0., 0., 0., 0., 0.]])"
      ]
     },
     "execution_count": 66,
     "metadata": {},
     "output_type": "execute_result"
    }
   ],
   "source": [
    "if times < m[j,k]:\n",
    "            m[j,k] = times\n",
    "            s[j,k] = j\n",
    "        for k in range(j-2,j+1):\n",
    "            break\n",
    "            print(k,\" ->\", end= \"\")\n",
    "            out *= matrix[k]\n",
    "            print(matrix[k])\n",
    "        print(i, j)"
   ]
  },
  {
   "cell_type": "code",
   "execution_count": null,
   "metadata": {},
   "outputs": [],
   "source": []
  },
  {
   "cell_type": "code",
   "execution_count": 208,
   "metadata": {
    "ExecuteTime": {
     "end_time": "2020-04-08T11:58:06.761347Z",
     "start_time": "2020-04-08T11:58:06.750638Z"
    }
   },
   "outputs": [],
   "source": [
    "def LCS(X, Y):\n",
    "    X = \"A, B, C, B, D, A, B\".split(\", \")\n",
    "    Y = \"B, D, C, A, B, A\".split(\", \")\n",
    "    lenX = len(X)\n",
    "    lenY = len(Y)\n",
    "\n",
    "    import numpy as np\n",
    "    c = np.zeros((lenX+1, lenY+1))\n",
    "    b = np.zeros((lenX+1, lenY+1)).astype(int).astype(str)\n",
    "    \n",
    "    for x in range(lenX):\n",
    "        for y in range(lenY):\n",
    "            if X[x] == Y[y]:\n",
    "                c[x+1,y+1] = c[x, y] + 1\n",
    "                b[x+1,y+1] = \"↖\"\n",
    "            elif c[x+1, y] > c[x, y+1]:\n",
    "                c[x+1,y+1] = c[x+1, y]\n",
    "                b[x+1,y+1] = \"←\"\n",
    "            else:\n",
    "                c[x+1,y+1] = c[x, y+1]\n",
    "                b[x+1,y+1] = \"↑\"\n",
    "                \n",
    "    def printLCS(b, X, x, y, out):\n",
    "        if x==0 or y==0:\n",
    "            return\n",
    "        if b[x,y] == \"↖\":\n",
    "            out.append(X[x-1])\n",
    "            printLCS(b,X, x-1, y-1, out)\n",
    "        elif b[x,y] == \"↑\":\n",
    "            printLCS(b, X, x-1, y, out)\n",
    "        else:\n",
    "            printLCS(b, X, x, y-1, out)\n",
    "    LCS = []\n",
    "    printLCS(b, X, lenX, lenY, LCS)\n",
    "    print(LCS)\n",
    "    out = []\n",
    "    for C, B in zip(c, b):\n",
    "        for cs, bs in zip(C, B):\n",
    "            if bs == \"0\":\n",
    "                #print(\"%d\\t\"%(cs), end = \"\")\n",
    "                out.append(\"%d\"%cs)\n",
    "            else:\n",
    "                #print(\"%s %d\\t\"%(bs, cs), end = \"\")\n",
    "                out.append(\"%s %d\"%(bs,cs))\n",
    "    out = np.array(out)\n",
    "    out = out.reshape(lenX+1, lenY+1)\n",
    "    import pandas as pd\n",
    "    return pd.DataFrame(out, index = [\"Xi\"] + X, columns = [\"Yi\"] + Y), LCS"
   ]
  },
  {
   "cell_type": "code",
   "execution_count": 209,
   "metadata": {
    "ExecuteTime": {
     "end_time": "2020-04-08T11:58:07.032852Z",
     "start_time": "2020-04-08T11:58:07.022094Z"
    }
   },
   "outputs": [
    {
     "name": "stdout",
     "output_type": "stream",
     "text": [
      "['A', 'B', 'C', 'B']\n"
     ]
    }
   ],
   "source": [
    "out = LCS(\"1, 0, 0, 1, 0, 1, 0, 1\".split(\", \"), \"0, 1, 0, 1, 1, 0, 1, 1, 0\".split(\", \"))"
   ]
  },
  {
   "cell_type": "code",
   "execution_count": 200,
   "metadata": {
    "ExecuteTime": {
     "end_time": "2020-04-08T11:56:04.929459Z",
     "start_time": "2020-04-08T11:56:04.924416Z"
    }
   },
   "outputs": [
    {
     "data": {
      "text/plain": [
       "['A', 'B', 'C', 'B', 'D', 'A', 'B']"
      ]
     },
     "execution_count": 200,
     "metadata": {},
     "output_type": "execute_result"
    }
   ],
   "source": [
    "X"
   ]
  },
  {
   "cell_type": "code",
   "execution_count": 201,
   "metadata": {
    "ExecuteTime": {
     "end_time": "2020-04-08T11:56:53.716697Z",
     "start_time": "2020-04-08T11:56:53.710342Z"
    }
   },
   "outputs": [],
   "source": []
  },
  {
   "cell_type": "code",
   "execution_count": null,
   "metadata": {},
   "outputs": [],
   "source": []
  },
  {
   "cell_type": "code",
   "execution_count": 179,
   "metadata": {
    "ExecuteTime": {
     "end_time": "2020-04-08T11:48:05.309370Z",
     "start_time": "2020-04-08T11:48:05.304458Z"
    }
   },
   "outputs": [],
   "source": [
    "def Hi():\n",
    "    print(\"HI\")\n",
    "    return"
   ]
  },
  {
   "cell_type": "code",
   "execution_count": 182,
   "metadata": {
    "ExecuteTime": {
     "end_time": "2020-04-08T11:48:13.292101Z",
     "start_time": "2020-04-08T11:48:13.286832Z"
    }
   },
   "outputs": [
    {
     "data": {
      "text/plain": [
       "<function __main__.Hi()>"
      ]
     },
     "execution_count": 182,
     "metadata": {},
     "output_type": "execute_result"
    }
   ],
   "source": []
  },
  {
   "cell_type": "code",
   "execution_count": null,
   "metadata": {},
   "outputs": [],
   "source": []
  }
 ],
 "metadata": {
  "hide_input": false,
  "kernelspec": {
   "display_name": "Python 3",
   "language": "python",
   "name": "python3"
  },
  "language_info": {
   "codemirror_mode": {
    "name": "ipython",
    "version": 3
   },
   "file_extension": ".py",
   "mimetype": "text/x-python",
   "name": "python",
   "nbconvert_exporter": "python",
   "pygments_lexer": "ipython3",
   "version": "3.7.4"
  },
  "varInspector": {
   "cols": {
    "lenName": 16,
    "lenType": 16,
    "lenVar": 40
   },
   "kernels_config": {
    "python": {
     "delete_cmd_postfix": "",
     "delete_cmd_prefix": "del ",
     "library": "var_list.py",
     "varRefreshCmd": "print(var_dic_list())"
    },
    "r": {
     "delete_cmd_postfix": ") ",
     "delete_cmd_prefix": "rm(",
     "library": "var_list.r",
     "varRefreshCmd": "cat(var_dic_list()) "
    }
   },
   "types_to_exclude": [
    "module",
    "function",
    "builtin_function_or_method",
    "instance",
    "_Feature"
   ],
   "window_display": false
  }
 },
 "nbformat": 4,
 "nbformat_minor": 2
}
