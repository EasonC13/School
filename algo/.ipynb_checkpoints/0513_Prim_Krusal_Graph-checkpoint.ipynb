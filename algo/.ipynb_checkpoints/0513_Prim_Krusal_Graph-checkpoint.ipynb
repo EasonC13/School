{
 "cells": [
  {
   "cell_type": "code",
   "execution_count": 16,
   "metadata": {
    "ExecuteTime": {
     "end_time": "2020-05-13T09:10:17.980327Z",
     "start_time": "2020-05-13T09:10:17.970042Z"
    }
   },
   "outputs": [],
   "source": [
    "class GraphClass:\n",
    "    def __init__(self, nodes = {}, edges = {}):\n",
    "        self.nodes = nodes\n",
    "        self.edges = edges\n",
    "    def addNodeUnit(self, newnode):\n",
    "        self.nodes[newnode.name] = newnode\n",
    "    def addNodeByName(self, nodename):\n",
    "        self.nodes[nodename] = Node(nodename)\n",
    "        \n",
    "    def addEdge(self, edgefrom, edgeto, wight, bothside = True):\n",
    "        self.nodes[edgefrom].addEdge(edgeto, weight)\n",
    "        self.edges[\"%s-%s\"%(edgefrom, edgeto)] = weight\n",
    "        if bothside:\n",
    "            self.nodes[edgeto].addEdge(edgefrom, weight)\n",
    "            self.edges[\"%s-%s\"%(edgeto, edgefrom)] = weight\n",
    "    def plotGraph(self, bothside = True):\n",
    "        from graphviz import Digraph\n",
    "        already = []\n",
    "        dot = Digraph(comment='The Round Table')\n",
    "        for nodename in self.nodes.keys():\n",
    "            node = self.nodes[nodename]\n",
    "            dot.node(node.name, node.name)\n",
    "        for edgekey in self.edges.keys():\n",
    "            fromwho, towho = edgekey.split(\"-\")\n",
    "            if bothside == True:\n",
    "                if fromwho in already:\n",
    "                    continue\n",
    "            already.append(towho)\n",
    "            weight = self.edges[edgekey]\n",
    "            dot.edge(fromwho, towho, str(weight))\n",
    "        if bothside:\n",
    "            dot.edge_attr.update(arrowhead=\"none\")\n",
    "        return dot\n",
    "            \n",
    "\n",
    "class Node:\n",
    "    def __init__(self, name, value = None, edge = None, color = \"White\", parent = None, key = None):\n",
    "        self.name = name\n",
    "        self.value = value\n",
    "        self.edges = edge if edge else []\n",
    "        self.color = color\n",
    "        self.parent = parent\n",
    "        self.key = key\n",
    "    def addEdge(self, to, weight):\n",
    "        newEdge = Edge(self.name, to, weight)\n",
    "        self.edges.append(newEdge)\n",
    "\n",
    "class Edge:\n",
    "    def __init__(self, edgefrom, edgeto, weight):\n",
    "        self.edgefrom = edgefrom\n",
    "        self.edgeto = edgeto\n",
    "        self.weight = weight\n",
    "    \n",
    "\n"
   ]
  },
  {
   "cell_type": "code",
   "execution_count": 17,
   "metadata": {
    "ExecuteTime": {
     "end_time": "2020-05-13T09:10:18.153148Z",
     "start_time": "2020-05-13T09:10:18.138314Z"
    }
   },
   "outputs": [],
   "source": [
    "nodes = [\"a,b,c,d,e,f,g,h,i\"]\n",
    "nodes = nodes[0].replace(\" \",\"\").split(\",\")\n",
    "\n",
    "nodeDict = {}\n",
    "\n",
    "Graph = GraphClass()\n",
    "for node in nodes:\n",
    "    Graph.addNodeByName(node)\n",
    "    \n",
    "\n",
    "\n",
    "\n",
    "data = \"\"\"ab,4;bh,11;ha,8;bc,8;ic,2;ih,7;hg,1;ig,6;cf,4;gf,2;df,14;cd,7;de,9;df,14;fe,10\"\"\"\n",
    "\n",
    "for edge in data.split(\";\"):\n",
    "    who, weight = edge.split(\",\")\n",
    "    weight = int(weight)\n",
    "    fromwho = list(who)[0]\n",
    "    towho = list(who)[1]\n",
    "    Graph.addEdge(fromwho, towho, weight)"
   ]
  },
  {
   "cell_type": "code",
   "execution_count": 18,
   "metadata": {
    "ExecuteTime": {
     "end_time": "2020-05-13T09:10:18.279620Z",
     "start_time": "2020-05-13T09:10:18.272993Z"
    }
   },
   "outputs": [],
   "source": [
    "dot = Graph.plotGraph()"
   ]
  },
  {
   "cell_type": "code",
   "execution_count": 19,
   "metadata": {
    "ExecuteTime": {
     "end_time": "2020-05-13T09:10:18.466496Z",
     "start_time": "2020-05-13T09:10:18.433845Z"
    }
   },
   "outputs": [],
   "source": [
    "class Sets:\n",
    "    def __init__(self, nodes):\n",
    "        self.sets = []\n",
    "        for node in nodes:\n",
    "            self.sets.append(set(node))\n",
    "    def checkSameSet(self, a, b):\n",
    "        for aset in self.sets:\n",
    "            if a in aset and b in aset:\n",
    "                return True\n",
    "        return False\n",
    "    def mergeSet(self, a, b):\n",
    "        if self.checkSameSet(a, b):\n",
    "            return False\n",
    "        for aset in list(self.sets):\n",
    "            if a in aset:\n",
    "                aSet = aset\n",
    "                self.sets.remove(aset)\n",
    "            if b in aset:\n",
    "                bSet = aset\n",
    "                self.sets.remove(aset)\n",
    "        self.sets.append(aSet.union(bSet))\n",
    "        return True\n",
    "    \n",
    "def getFromTo(edgename):\n",
    "    a, b = edgename.split(\"-\")\n",
    "    return a,b\n",
    "def getMinEdge(Graph, edges):\n",
    "    outValue = float(\"inf\")\n",
    "    for edge in edges:\n",
    "        if Graph.edges[edge] < outValue:\n",
    "            outValue = Graph.edges[edge]\n",
    "            outEdge = edge\n",
    "    edges.remove(outEdge)\n",
    "    return outEdge\n",
    "\n",
    "def Krusal(Graph):\n",
    "    edges = list(Graph.edges.keys())\n",
    "    nodes = list(Graph.nodes.keys())\n",
    "    doneNodes = Sets(nodes)\n",
    "    doneEdges = set()\n",
    "    while len(edges) != 0:\n",
    "        edge = getMinEdge(Graph, edges)\n",
    "        fromwho, towho = getFromTo(edge)\n",
    "        if doneNodes.checkSameSet(fromwho, towho):\n",
    "            continue\n",
    "        doneEdges.add(edge)\n",
    "        doneNodes.mergeSet(fromwho, towho)\n",
    "    return list((doneNodes.sets[0])), doneEdges"
   ]
  },
  {
   "cell_type": "code",
   "execution_count": 20,
   "metadata": {
    "ExecuteTime": {
     "end_time": "2020-05-13T09:10:18.592786Z",
     "start_time": "2020-05-13T09:10:18.586156Z"
    }
   },
   "outputs": [],
   "source": [
    "doneNodes, doneEdges = Krusal(Graph)"
   ]
  },
  {
   "cell_type": "code",
   "execution_count": null,
   "metadata": {},
   "outputs": [],
   "source": []
  },
  {
   "cell_type": "code",
   "execution_count": 21,
   "metadata": {
    "ExecuteTime": {
     "end_time": "2020-05-13T09:10:18.893443Z",
     "start_time": "2020-05-13T09:10:18.883639Z"
    }
   },
   "outputs": [
    {
     "data": {
      "text/plain": [
       "['g', 'c', 'h', 'b', 'i', 'f', 'a', 'e', 'd']"
      ]
     },
     "execution_count": 21,
     "metadata": {},
     "output_type": "execute_result"
    }
   ],
   "source": [
    "doneNodes"
   ]
  },
  {
   "cell_type": "code",
   "execution_count": 22,
   "metadata": {
    "ExecuteTime": {
     "end_time": "2020-05-13T09:10:19.083003Z",
     "start_time": "2020-05-13T09:10:19.071274Z"
    }
   },
   "outputs": [],
   "source": [
    "from graphviz import Digraph\n",
    "dot = Digraph()\n",
    "for node in doneNodes:\n",
    "    dot.node(node, node)\n",
    "for edge in doneEdges:\n",
    "    fromwho, towho = getFromTo(edge)\n",
    "    weight = str(Graph.edges[edge])\n",
    "    dot.edge(fromwho,towho,weight)\n",
    "dot.edge_attr.update(arrowhead=\"none\")"
   ]
  },
  {
   "cell_type": "code",
   "execution_count": 23,
   "metadata": {
    "ExecuteTime": {
     "end_time": "2020-05-13T09:10:19.252604Z",
     "start_time": "2020-05-13T09:10:19.230888Z"
    }
   },
   "outputs": [
    {
     "data": {
      "image/svg+xml": [
       "<?xml version=\"1.0\" encoding=\"UTF-8\" standalone=\"no\"?>\n",
       "<!DOCTYPE svg PUBLIC \"-//W3C//DTD SVG 1.1//EN\"\n",
       " \"http://www.w3.org/Graphics/SVG/1.1/DTD/svg11.dtd\">\n",
       "<!-- Generated by graphviz version 2.40.1 (20161225.0304)\n",
       " -->\n",
       "<!-- Title: %3 Pages: 1 -->\n",
       "<svg width=\"206pt\" height=\"305pt\"\n",
       " viewBox=\"0.00 0.00 206.00 305.00\" xmlns=\"http://www.w3.org/2000/svg\" xmlns:xlink=\"http://www.w3.org/1999/xlink\">\n",
       "<g id=\"graph0\" class=\"graph\" transform=\"scale(1 1) rotate(0) translate(4 301)\">\n",
       "<title>%3</title>\n",
       "<polygon fill=\"#ffffff\" stroke=\"transparent\" points=\"-4,4 -4,-301 202,-301 202,4 -4,4\"/>\n",
       "<!-- g -->\n",
       "<g id=\"node1\" class=\"node\">\n",
       "<title>g</title>\n",
       "<ellipse fill=\"none\" stroke=\"#000000\" cx=\"99\" cy=\"-192\" rx=\"27\" ry=\"18\"/>\n",
       "<text text-anchor=\"middle\" x=\"99\" y=\"-188.3\" font-family=\"Times,serif\" font-size=\"14.00\" fill=\"#000000\">g</text>\n",
       "</g>\n",
       "<!-- f -->\n",
       "<g id=\"node6\" class=\"node\">\n",
       "<title>f</title>\n",
       "<ellipse fill=\"none\" stroke=\"#000000\" cx=\"99\" cy=\"-105\" rx=\"27\" ry=\"18\"/>\n",
       "<text text-anchor=\"middle\" x=\"99\" y=\"-101.3\" font-family=\"Times,serif\" font-size=\"14.00\" fill=\"#000000\">f</text>\n",
       "</g>\n",
       "<!-- g&#45;&gt;f -->\n",
       "<g id=\"edge7\" class=\"edge\">\n",
       "<title>g&#45;&gt;f</title>\n",
       "<path fill=\"none\" stroke=\"#000000\" d=\"M99,-173.9735C99,-159.0422 99,-137.9283 99,-123.0034\"/>\n",
       "<text text-anchor=\"middle\" x=\"102.5\" y=\"-144.8\" font-family=\"Times,serif\" font-size=\"14.00\" fill=\"#000000\">2</text>\n",
       "</g>\n",
       "<!-- c -->\n",
       "<g id=\"node2\" class=\"node\">\n",
       "<title>c</title>\n",
       "<ellipse fill=\"none\" stroke=\"#000000\" cx=\"27\" cy=\"-192\" rx=\"27\" ry=\"18\"/>\n",
       "<text text-anchor=\"middle\" x=\"27\" y=\"-188.3\" font-family=\"Times,serif\" font-size=\"14.00\" fill=\"#000000\">c</text>\n",
       "</g>\n",
       "<!-- c&#45;&gt;f -->\n",
       "<g id=\"edge3\" class=\"edge\">\n",
       "<title>c&#45;&gt;f</title>\n",
       "<path fill=\"none\" stroke=\"#000000\" d=\"M40.2059,-176.0429C53.197,-160.3453 72.9157,-136.5185 85.8778,-120.856\"/>\n",
       "<text text-anchor=\"middle\" x=\"71.5\" y=\"-144.8\" font-family=\"Times,serif\" font-size=\"14.00\" fill=\"#000000\">4</text>\n",
       "</g>\n",
       "<!-- d -->\n",
       "<g id=\"node9\" class=\"node\">\n",
       "<title>d</title>\n",
       "<ellipse fill=\"none\" stroke=\"#000000\" cx=\"27\" cy=\"-105\" rx=\"27\" ry=\"18\"/>\n",
       "<text text-anchor=\"middle\" x=\"27\" y=\"-101.3\" font-family=\"Times,serif\" font-size=\"14.00\" fill=\"#000000\">d</text>\n",
       "</g>\n",
       "<!-- c&#45;&gt;d -->\n",
       "<g id=\"edge8\" class=\"edge\">\n",
       "<title>c&#45;&gt;d</title>\n",
       "<path fill=\"none\" stroke=\"#000000\" d=\"M27,-173.9735C27,-159.0422 27,-137.9283 27,-123.0034\"/>\n",
       "<text text-anchor=\"middle\" x=\"30.5\" y=\"-144.8\" font-family=\"Times,serif\" font-size=\"14.00\" fill=\"#000000\">7</text>\n",
       "</g>\n",
       "<!-- h -->\n",
       "<g id=\"node3\" class=\"node\">\n",
       "<title>h</title>\n",
       "<ellipse fill=\"none\" stroke=\"#000000\" cx=\"140\" cy=\"-279\" rx=\"27\" ry=\"18\"/>\n",
       "<text text-anchor=\"middle\" x=\"140\" y=\"-275.3\" font-family=\"Times,serif\" font-size=\"14.00\" fill=\"#000000\">h</text>\n",
       "</g>\n",
       "<!-- h&#45;&gt;g -->\n",
       "<g id=\"edge1\" class=\"edge\">\n",
       "<title>h&#45;&gt;g</title>\n",
       "<path fill=\"none\" stroke=\"#000000\" d=\"M131.8997,-261.8116C124.7585,-246.6583 114.4017,-224.6818 107.2238,-209.4505\"/>\n",
       "<text text-anchor=\"middle\" x=\"124.5\" y=\"-231.8\" font-family=\"Times,serif\" font-size=\"14.00\" fill=\"#000000\">1</text>\n",
       "</g>\n",
       "<!-- a -->\n",
       "<g id=\"node7\" class=\"node\">\n",
       "<title>a</title>\n",
       "<ellipse fill=\"none\" stroke=\"#000000\" cx=\"171\" cy=\"-192\" rx=\"27\" ry=\"18\"/>\n",
       "<text text-anchor=\"middle\" x=\"171\" y=\"-188.3\" font-family=\"Times,serif\" font-size=\"14.00\" fill=\"#000000\">a</text>\n",
       "</g>\n",
       "<!-- h&#45;&gt;a -->\n",
       "<g id=\"edge4\" class=\"edge\">\n",
       "<title>h&#45;&gt;a</title>\n",
       "<path fill=\"none\" stroke=\"#000000\" d=\"M146.2733,-261.3943C151.6517,-246.3001 159.3604,-224.6661 164.736,-209.5796\"/>\n",
       "<text text-anchor=\"middle\" x=\"160.5\" y=\"-231.8\" font-family=\"Times,serif\" font-size=\"14.00\" fill=\"#000000\">8</text>\n",
       "</g>\n",
       "<!-- b -->\n",
       "<g id=\"node4\" class=\"node\">\n",
       "<title>b</title>\n",
       "<ellipse fill=\"none\" stroke=\"#000000\" cx=\"171\" cy=\"-105\" rx=\"27\" ry=\"18\"/>\n",
       "<text text-anchor=\"middle\" x=\"171\" y=\"-101.3\" font-family=\"Times,serif\" font-size=\"14.00\" fill=\"#000000\">b</text>\n",
       "</g>\n",
       "<!-- i -->\n",
       "<g id=\"node5\" class=\"node\">\n",
       "<title>i</title>\n",
       "<ellipse fill=\"none\" stroke=\"#000000\" cx=\"27\" cy=\"-279\" rx=\"27\" ry=\"18\"/>\n",
       "<text text-anchor=\"middle\" x=\"27\" y=\"-275.3\" font-family=\"Times,serif\" font-size=\"14.00\" fill=\"#000000\">i</text>\n",
       "</g>\n",
       "<!-- i&#45;&gt;c -->\n",
       "<g id=\"edge2\" class=\"edge\">\n",
       "<title>i&#45;&gt;c</title>\n",
       "<path fill=\"none\" stroke=\"#000000\" d=\"M27,-260.9735C27,-246.0422 27,-224.9283 27,-210.0034\"/>\n",
       "<text text-anchor=\"middle\" x=\"30.5\" y=\"-231.8\" font-family=\"Times,serif\" font-size=\"14.00\" fill=\"#000000\">2</text>\n",
       "</g>\n",
       "<!-- a&#45;&gt;b -->\n",
       "<g id=\"edge5\" class=\"edge\">\n",
       "<title>a&#45;&gt;b</title>\n",
       "<path fill=\"none\" stroke=\"#000000\" d=\"M171,-173.9735C171,-159.0422 171,-137.9283 171,-123.0034\"/>\n",
       "<text text-anchor=\"middle\" x=\"174.5\" y=\"-144.8\" font-family=\"Times,serif\" font-size=\"14.00\" fill=\"#000000\">4</text>\n",
       "</g>\n",
       "<!-- e -->\n",
       "<g id=\"node8\" class=\"node\">\n",
       "<title>e</title>\n",
       "<ellipse fill=\"none\" stroke=\"#000000\" cx=\"27\" cy=\"-18\" rx=\"27\" ry=\"18\"/>\n",
       "<text text-anchor=\"middle\" x=\"27\" y=\"-14.3\" font-family=\"Times,serif\" font-size=\"14.00\" fill=\"#000000\">e</text>\n",
       "</g>\n",
       "<!-- d&#45;&gt;e -->\n",
       "<g id=\"edge6\" class=\"edge\">\n",
       "<title>d&#45;&gt;e</title>\n",
       "<path fill=\"none\" stroke=\"#000000\" d=\"M27,-86.9735C27,-72.0422 27,-50.9283 27,-36.0034\"/>\n",
       "<text text-anchor=\"middle\" x=\"30.5\" y=\"-57.8\" font-family=\"Times,serif\" font-size=\"14.00\" fill=\"#000000\">9</text>\n",
       "</g>\n",
       "</g>\n",
       "</svg>\n"
      ],
      "text/plain": [
       "<graphviz.dot.Digraph at 0x7f0e307b4890>"
      ]
     },
     "execution_count": 23,
     "metadata": {},
     "output_type": "execute_result"
    }
   ],
   "source": [
    "dot"
   ]
  },
  {
   "cell_type": "code",
   "execution_count": null,
   "metadata": {},
   "outputs": [],
   "source": []
  },
  {
   "cell_type": "code",
   "execution_count": 34,
   "metadata": {
    "ExecuteTime": {
     "end_time": "2020-05-13T09:12:28.687982Z",
     "start_time": "2020-05-13T09:12:28.682358Z"
    }
   },
   "outputs": [],
   "source": [
    "def Prim(Graph, start = None):\n",
    "    edges = list(Graph.edges.keys())\n",
    "    nodes = list(Graph.nodes.keys())\n",
    "    for nodeName in nodes:\n",
    "        Graph.nodes[nodeName].key = float(\"inf\")\n",
    "    outedge = []\n",
    "    \n",
    "    if start == None:\n",
    "        start = nodes[0]\n",
    "    node = Graph.nodes[start]\n",
    "    node.parent = None\n",
    "    node.key = 0\n",
    "    \n",
    "    while len(nodes):\n",
    "        minValue = float(\"inf\")\n",
    "        for nodeName in nodes:\n",
    "            node = Graph.nodes[nodeName]\n",
    "            if node.key <= minValue:\n",
    "                outNodeName = nodeName\n",
    "                \n",
    "        nodes.remove(outNodeName)      \n",
    "        node = Graph.nodes[outNodeName]\n",
    "        \n",
    "        for edge in node.edges:\n",
    "            if edge.weight+ node.key < Graph.nodes[edge.edgeto].key:\n",
    "                Graph.nodes[edge.edgeto].key = edge.weight + node.key\n",
    "                outedge.append(edge)\n"
   ]
  },
  {
   "cell_type": "code",
   "execution_count": 35,
   "metadata": {
    "ExecuteTime": {
     "end_time": "2020-05-13T09:12:28.855249Z",
     "start_time": "2020-05-13T09:12:28.849179Z"
    }
   },
   "outputs": [],
   "source": [
    "Prim(Graph)"
   ]
  },
  {
   "cell_type": "code",
   "execution_count": 37,
   "metadata": {
    "ExecuteTime": {
     "end_time": "2020-05-13T09:12:32.313194Z",
     "start_time": "2020-05-13T09:12:32.310729Z"
    }
   },
   "outputs": [
    {
     "data": {
      "text/plain": [
       "inf"
      ]
     },
     "execution_count": 37,
     "metadata": {},
     "output_type": "execute_result"
    }
   ],
   "source": [
    "Graph.nodes['c'].key"
   ]
  },
  {
   "cell_type": "code",
   "execution_count": 12,
   "metadata": {
    "ExecuteTime": {
     "end_time": "2020-05-13T09:08:46.279793Z",
     "start_time": "2020-05-13T09:08:46.272769Z"
    }
   },
   "outputs": [
    {
     "data": {
      "text/plain": [
       "True"
      ]
     },
     "execution_count": 12,
     "metadata": {},
     "output_type": "execute_result"
    }
   ],
   "source": [
    "float(\"inf\")-1 == float(\"inf\")"
   ]
  },
  {
   "cell_type": "code",
   "execution_count": null,
   "metadata": {},
   "outputs": [],
   "source": []
  }
 ],
 "metadata": {
  "hide_input": false,
  "kernelspec": {
   "display_name": "Python 3",
   "language": "python",
   "name": "python3"
  },
  "language_info": {
   "codemirror_mode": {
    "name": "ipython",
    "version": 3
   },
   "file_extension": ".py",
   "mimetype": "text/x-python",
   "name": "python",
   "nbconvert_exporter": "python",
   "pygments_lexer": "ipython3",
   "version": "3.7.4"
  },
  "varInspector": {
   "cols": {
    "lenName": 16,
    "lenType": 16,
    "lenVar": 40
   },
   "kernels_config": {
    "python": {
     "delete_cmd_postfix": "",
     "delete_cmd_prefix": "del ",
     "library": "var_list.py",
     "varRefreshCmd": "print(var_dic_list())"
    },
    "r": {
     "delete_cmd_postfix": ") ",
     "delete_cmd_prefix": "rm(",
     "library": "var_list.r",
     "varRefreshCmd": "cat(var_dic_list()) "
    }
   },
   "types_to_exclude": [
    "module",
    "function",
    "builtin_function_or_method",
    "instance",
    "_Feature"
   ],
   "window_display": false
  }
 },
 "nbformat": 4,
 "nbformat_minor": 2
}
