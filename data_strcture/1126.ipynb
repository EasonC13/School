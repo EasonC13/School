{
 "cells": [
  {
   "cell_type": "code",
   "execution_count": 1,
   "metadata": {
    "ExecuteTime": {
     "end_time": "2020-01-15T14:58:49.899304Z",
     "start_time": "2020-01-15T14:58:49.873374Z"
    }
   },
   "outputs": [
    {
     "name": "stdout",
     "output_type": "stream",
     "text": [
      "本測試code使用老師簡報的作業06-03圖片中的樹\n",
      "E的分支度是 4\n",
      "深度優先搜尋 [A, B, E, C, F, I, J, H, D, G]\n",
      "廣度優先搜尋 [A, B, C, E, D, F, H, I, G, J]\n"
     ]
    }
   ],
   "source": [
    "class Queue:\n",
    "    def __init__(self, lens):\n",
    "        self.len = lens\n",
    "        self.queue = list([-1] * lens)\n",
    "        self.head = -1\n",
    "        self.rear = -1\n",
    "        self.amount = 0\n",
    "    def isEmpty(self):\n",
    "        return self.amount == 0\n",
    "    def isFull(self):\n",
    "        return self.amount >= self.len\n",
    "    \n",
    "    def push(self, t):\n",
    "        if self.isFull() == False:\n",
    "            self.new = t\n",
    "            self.amount += 1\n",
    "            self.queue[self.head] = t\n",
    "            self.head -= 1\n",
    "            if self.head == -self.len - 1 :\n",
    "                self.head = -1\n",
    "            return True\n",
    "        else:\n",
    "            print(\"Queue is full\")\n",
    "            return False\n",
    "            \n",
    "    def pop(self):\n",
    "        if self.isEmpty() == False:\n",
    "            self.amount -= 1\n",
    "            out = self.queue[self.rear]\n",
    "            self.queue[self.rear] = 0.87\n",
    "            self.rear -= 1\n",
    "            if self.rear <= -self.len - 1:\n",
    "                self.rear = -1\n",
    "            return out\n",
    "        else:\n",
    "            print(\"Queue is empty\")\n",
    "            return False\n",
    "    def printQueue(self):\n",
    "        temp = self.rear\n",
    "        out = list([0] * self.amount)\n",
    "        for i in range(self.amount):\n",
    "            out[i] = self.queue[temp]\n",
    "            temp -= 1\n",
    "            if temp <= -self.len - 1:\n",
    "                temp = -1\n",
    "            if temp == self.head:\n",
    "                break\n",
    "        print(out[::-1])\n",
    "        return out[::-1]\n",
    "    def back(self):\n",
    "        return self.queue[self.rear]\n",
    "    def front(self):\n",
    "        return self.new\n",
    "\n",
    "\n",
    "class Node:\n",
    "    def __init__(self, data, nexts = None):\n",
    "        self.data = data\n",
    "        self.next = nexts\n",
    "\n",
    "class LinkedList:\n",
    "    def __init__(self, head = None):\n",
    "        self.head = head\n",
    "        \n",
    "    def isEmpty(self):\n",
    "        return self.head == None\n",
    "    \n",
    "    def insertAtFirstNode(self, newNode):\n",
    "        if self.isEmpty():\n",
    "            self.head = newNode\n",
    "        else:\n",
    "            newNode.next = self.head\n",
    "            self.head = newNode\n",
    "        \n",
    "    def removeFirstNode(self):\n",
    "        if self.isEmpty():\n",
    "            print(\"is Empty\")\n",
    "            return false\n",
    "        else:\n",
    "            out = self.head\n",
    "            self.head = self.head.next\n",
    "            return out\n",
    "    \n",
    "    def insertNode(self, curNode, newNode):\n",
    "        temp = curNode.next\n",
    "        curNode.next = newNode\n",
    "        newNode.next = temp\n",
    "    \n",
    "    def get_node(self, index = 0):\n",
    "        if self.isEmpty(): return None\n",
    "        yes = self.head\n",
    "        for i in range(index):\n",
    "            yes = yes.next\n",
    "        return yes\n",
    "    \n",
    "    def insertAtLastNode(self, newNode):\n",
    "        if self.isEmpty():\n",
    "            self.head = newNode\n",
    "        else:\n",
    "            yes = self.head\n",
    "            while(yes.next != None):\n",
    "                yes = yes.next\n",
    "            yes.next = newNode\n",
    "            \n",
    "    def removeLastNode(self):\n",
    "        if self.isEmpty(): \n",
    "            print(\"Empty, can't remove\")\n",
    "            return False\n",
    "        else:\n",
    "            yes = self.head\n",
    "            while(yes.next != None):\n",
    "                yes = yes.next\n",
    "            out = yes.next\n",
    "            yes.next = None\n",
    "            return out\n",
    "        \n",
    "    def __len__(self):\n",
    "        if self.isEmpty(): return 0\n",
    "        yes = self.head\n",
    "        out = 1\n",
    "        while(yes.next != None):\n",
    "            yes = yes.next\n",
    "            out += 1\n",
    "        return out\n",
    "    def printList(self, resend = False):\n",
    "        if self.isEmpty(): return \"List([])\"\n",
    "        yes = self.head\n",
    "        out = 'List(['\n",
    "        while(yes != None):\n",
    "            out += (str(yes.data) + ', ') \n",
    "            yes = yes.next\n",
    "        out = out[0:-2] + \"])\"\n",
    "        if resend: return out\n",
    "        print(out)\n",
    "        \n",
    "    def get_list(self, start = 0):\n",
    "        if self.isEmpty(): return []\n",
    "        yes = self.head\n",
    "        for i in range(start):\n",
    "            yes = yes.next\n",
    "        out = []\n",
    "        while(yes != None):\n",
    "            out.append(yes.data)\n",
    "            yes = yes.next\n",
    "        return out\n",
    "        \n",
    "    def concatenate(self, other):\n",
    "        self.insertAtLastNode(other.head)\n",
    "    def inverse(self):\n",
    "        if self.isEmpty(): return LinkedList()\n",
    "        yes = self.head\n",
    "        prev = None\n",
    "        while(yes != None):\n",
    "            temp = yes.next\n",
    "            data = yes.data\n",
    "            prev = Node(data, nexts = prev)\n",
    "            yes = temp\n",
    "        return LinkedList(prev)\n",
    "    \n",
    "    def check_it(self, target):\n",
    "        if self.isEmpty(): return False\n",
    "        yes = self.head\n",
    "        for i in range(len(self)):\n",
    "            if(yes is target):\n",
    "                return True\n",
    "            yes = yes.next\n",
    "        return False\n",
    "    \n",
    "    def check_it_data(self, target_data):\n",
    "        if self.isEmpty(): return False\n",
    "        yes = self.head\n",
    "        for i in range(len(self)):\n",
    "            if(yes.data is target):\n",
    "                return True\n",
    "            yes = yes.next\n",
    "        return False\n",
    "\n",
    "class virtex:\n",
    "    def __init__(self, name, data = None):\n",
    "        self.name = name\n",
    "        if data:\n",
    "            self.data = data\n",
    "        else:\n",
    "            self.data = name\n",
    "        \n",
    "class Graph:\n",
    "    #using linked list\n",
    "    def __init__(self):\n",
    "        \n",
    "        self.v = 0\n",
    "        self.e = 0\n",
    "        self.dict = {}\n",
    "    \n",
    "    def isEmpty(self):\n",
    "        return (self.v == 0)\n",
    "    \n",
    "    def num_vertic(self):\n",
    "        return self.v\n",
    "    def num_edge(self):\n",
    "        return self.e\n",
    "    \n",
    "    def insertVertex(self, new_v):\n",
    "        self.dict[new_v.name] = LinkedList(Node(new_v))\n",
    "        self.v += 1\n",
    "    \n",
    "    def insertEdge(self, e_from, e_to, two_side = True):\n",
    "        if e_from in self.dict and e_to in self.dict:\n",
    "            from_list = self.dict[e_from]\n",
    "            to_list = self.dict[e_to]\n",
    "            from_list.insertAtLastNode(Node(to_list.get_node().data))\n",
    "            if two_side:\n",
    "                to_list.insertAtLastNode(Node(from_list.get_node().data))\n",
    "        else:\n",
    "            print(\"Not found\")\n",
    "    def get_degree(self, vertic):\n",
    "        temp = self.dict[vertic]\n",
    "        return len(temp) - 1\n",
    "    \n",
    "    def existEdge(e_from, e_to, two_side = True):\n",
    "        if e_from in self.dict and e_to in self.dict:\n",
    "            from_list = self.dict[e_from]\n",
    "            to_list = self.dict[e_to]\n",
    "            a = from_list.check_it(to_list.get_node())\n",
    "            if two_side:\n",
    "                b = to_list.check_it(from_list.get_node())\n",
    "            else:\n",
    "                b = True\n",
    "            return a and b\n",
    "    \n",
    "    def deleteVertex(self, target):\n",
    "        #非重點，跳過\n",
    "        pass\n",
    "    def deleteEdge(self, target_from, target_to, both_side = True):\n",
    "        #非重點，跳過\n",
    "        pass\n",
    "    \n",
    "    def do_DFS(self, start_name):\n",
    "        self.output = '['\n",
    "        self.already_search = {}\n",
    "        for i in self.dict.keys():\n",
    "            self.already_search[i] = False\n",
    "        self.DFS(self.dict[start_name])\n",
    "        return self.output[:-2] + \"]\"\n",
    "    \n",
    "    def DFS(self, target_list):\n",
    "        self.output += target_list.head.data.data\n",
    "        self.output += \", \"\n",
    "        self.already_search[target_list.head.data.name] = True\n",
    "        result = target_list.head.next\n",
    "        while(result != None):\n",
    "            if self.already_search[result.data.name] == False:\n",
    "                self.DFS(self.dict[result.data.name])\n",
    "            result = result.next\n",
    "                \n",
    "    def do_BFS(self, start_name):\n",
    "        self.output = '['\n",
    "        self.already_search = {}\n",
    "        for i in self.dict.keys():\n",
    "            self.already_search[i] = False\n",
    "        self.BFS(self.dict[start_name])\n",
    "        return self.output[:-2] + \"]\"\n",
    "\n",
    "    def BFS(self, target):\n",
    "        self.already_search[target.head.data.name] = True\n",
    "        self.output += target.head.data.data\n",
    "        self.output += \", \"\n",
    "        queue = Queue(self.v)\n",
    "        queue.push(target)\n",
    "        while(queue.isEmpty() == False):\n",
    "            v = queue.pop()\n",
    "            curNode = v.head.next\n",
    "            while(curNode!= None):\n",
    "                if self.already_search[curNode.data.name] == False:\n",
    "                    queue.push(self.dict[curNode.data.name])\n",
    "                    self.already_search[curNode.data.name] = True\n",
    "                    self.output += curNode.data.name\n",
    "                    self.output += \", \"\n",
    "                curNode = curNode.next\n",
    "    \n",
    "\n",
    "print(\"本測試code使用老師簡報的作業06-03圖片中的樹\")\n",
    "\n",
    "\n",
    "name = ['A', 'B', 'C', 'D', 'E', 'F', 'G', 'H', 'I', 'J']\n",
    "graph = Graph()\n",
    "relation = [['A', 'B'],\n",
    " ['A', 'C'],\n",
    " ['B', 'E'],\n",
    " ['C', 'E'],\n",
    " ['C', 'F'],\n",
    " ['B', 'D'],\n",
    " ['D', 'H'],\n",
    " ['D', 'G'],\n",
    " ['E', 'H'],\n",
    " ['E', 'I'],\n",
    " ['F', 'I'],\n",
    " ['F', 'J']]\n",
    "\n",
    "for name in name:\n",
    "    graph.insertVertex(virtex(name))\n",
    "\n",
    "for i, j in relation:\n",
    "    graph.insertEdge(i, j)\n",
    "\n",
    "print(\"E的分支度是\", graph.get_degree(\"E\"))\n",
    "\n",
    "print(\"深度優先搜尋\", graph.do_DFS(\"A\"))\n",
    "\n",
    "print(\"廣度優先搜尋\", graph.do_BFS(\"A\"))"
   ]
  },
  {
   "cell_type": "code",
   "execution_count": 287,
   "metadata": {
    "ExecuteTime": {
     "end_time": "2019-11-26T10:06:42.440730Z",
     "start_time": "2019-11-26T10:06:42.425884Z"
    }
   },
   "outputs": [
    {
     "name": "stdout",
     "output_type": "stream",
     "text": [
      "A\n",
      "B\n",
      "C\n",
      "E\n",
      "D\n",
      "F\n",
      "H\n",
      "I\n",
      "G\n",
      "J\n"
     ]
    },
    {
     "data": {
      "text/plain": [
       "'[A, B, C, E, D, F, H, I, G, J]'"
      ]
     },
     "execution_count": 287,
     "metadata": {},
     "output_type": "execute_result"
    }
   ],
   "source": []
  },
  {
   "cell_type": "code",
   "execution_count": null,
   "metadata": {
    "ExecuteTime": {
     "end_time": "2019-11-26T09:26:27.002748Z",
     "start_time": "2019-11-26T09:26:27.007Z"
    }
   },
   "outputs": [],
   "source": [
    "graph.dict.keys"
   ]
  },
  {
   "cell_type": "code",
   "execution_count": null,
   "metadata": {
    "ExecuteTime": {
     "end_time": "2019-11-26T09:11:40.252706Z",
     "start_time": "2019-11-26T09:11:38.794Z"
    }
   },
   "outputs": [],
   "source": [
    "a = []\n",
    "ins = input()\n",
    "while(ins != \"Quit\"):\n",
    "    a.append(ins.split(\" \"))\n",
    "    ins = input()"
   ]
  },
  {
   "cell_type": "code",
   "execution_count": 58,
   "metadata": {
    "ExecuteTime": {
     "end_time": "2019-11-26T08:45:30.851355Z",
     "start_time": "2019-11-26T08:45:30.843154Z"
    }
   },
   "outputs": [
    {
     "data": {
      "text/plain": [
       "[['A', 'B'],\n",
       " ['A', 'C'],\n",
       " ['B', 'E'],\n",
       " ['C', 'E'],\n",
       " ['C', 'F'],\n",
       " ['B', 'D'],\n",
       " ['D', 'H'],\n",
       " ['D', 'G'],\n",
       " ['E', 'H'],\n",
       " ['E', 'I'],\n",
       " ['F', 'I'],\n",
       " ['F', 'J']]"
      ]
     },
     "execution_count": 58,
     "metadata": {},
     "output_type": "execute_result"
    }
   ],
   "source": [
    "a"
   ]
  },
  {
   "cell_type": "code",
   "execution_count": 222,
   "metadata": {
    "ExecuteTime": {
     "end_time": "2019-11-26T09:14:48.968633Z",
     "start_time": "2019-11-26T09:14:48.961742Z"
    }
   },
   "outputs": [],
   "source": [
    "a = {1:2, 2:3}"
   ]
  },
  {
   "cell_type": "code",
   "execution_count": 230,
   "metadata": {
    "ExecuteTime": {
     "end_time": "2019-11-26T09:16:11.930567Z",
     "start_time": "2019-11-26T09:16:11.923901Z"
    }
   },
   "outputs": [
    {
     "ename": "TypeError",
     "evalue": "unhashable type: 'dict_keys'",
     "output_type": "error",
     "traceback": [
      "\u001b[0;31m---------------------------------------------------------------------------\u001b[0m",
      "\u001b[0;31mTypeError\u001b[0m                                 Traceback (most recent call last)",
      "\u001b[0;32m<ipython-input-230-c0cc37864030>\u001b[0m in \u001b[0;36m<module>\u001b[0;34m\u001b[0m\n\u001b[0;32m----> 1\u001b[0;31m \u001b[0mb\u001b[0m \u001b[0;34m=\u001b[0m \u001b[0;34m{\u001b[0m\u001b[0ma\u001b[0m\u001b[0;34m.\u001b[0m\u001b[0mkeys\u001b[0m\u001b[0;34m(\u001b[0m\u001b[0;34m)\u001b[0m\u001b[0;34m:\u001b[0m \u001b[0;32mTrue\u001b[0m\u001b[0;34m}\u001b[0m\u001b[0;34m\u001b[0m\u001b[0;34m\u001b[0m\u001b[0m\n\u001b[0m",
      "\u001b[0;31mTypeError\u001b[0m: unhashable type: 'dict_keys'"
     ]
    }
   ],
   "source": []
  },
  {
   "cell_type": "code",
   "execution_count": 226,
   "metadata": {
    "ExecuteTime": {
     "end_time": "2019-11-26T09:15:15.104116Z",
     "start_time": "2019-11-26T09:15:15.096763Z"
    }
   },
   "outputs": [
    {
     "name": "stdout",
     "output_type": "stream",
     "text": [
      "(1, 2)\n",
      "(2, 3)\n"
     ]
    }
   ],
   "source": [
    "for i in a.items():\n",
    "    print(i)"
   ]
  },
  {
   "cell_type": "code",
   "execution_count": 36,
   "metadata": {
    "ExecuteTime": {
     "end_time": "2019-11-26T08:26:37.493012Z",
     "start_time": "2019-11-26T08:26:37.487701Z"
    }
   },
   "outputs": [
    {
     "name": "stdout",
     "output_type": "stream",
     "text": [
      "2\n",
      "3\n"
     ]
    }
   ],
   "source": [
    "for i in a:\n",
    "    print(a[i])"
   ]
  },
  {
   "cell_type": "code",
   "execution_count": null,
   "metadata": {},
   "outputs": [],
   "source": []
  }
 ],
 "metadata": {
  "hide_input": false,
  "kernelspec": {
   "display_name": "Python 3",
   "language": "python",
   "name": "python3"
  },
  "language_info": {
   "codemirror_mode": {
    "name": "ipython",
    "version": 3
   },
   "file_extension": ".py",
   "mimetype": "text/x-python",
   "name": "python",
   "nbconvert_exporter": "python",
   "pygments_lexer": "ipython3",
   "version": "3.6.9"
  },
  "varInspector": {
   "cols": {
    "lenName": 16,
    "lenType": 16,
    "lenVar": 40
   },
   "kernels_config": {
    "python": {
     "delete_cmd_postfix": "",
     "delete_cmd_prefix": "del ",
     "library": "var_list.py",
     "varRefreshCmd": "print(var_dic_list())"
    },
    "r": {
     "delete_cmd_postfix": ") ",
     "delete_cmd_prefix": "rm(",
     "library": "var_list.r",
     "varRefreshCmd": "cat(var_dic_list()) "
    }
   },
   "types_to_exclude": [
    "module",
    "function",
    "builtin_function_or_method",
    "instance",
    "_Feature"
   ],
   "window_display": false
  }
 },
 "nbformat": 4,
 "nbformat_minor": 2
}
