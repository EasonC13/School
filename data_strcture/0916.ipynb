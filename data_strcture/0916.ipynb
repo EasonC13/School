{
 "cells": [
  {
   "cell_type": "code",
   "execution_count": 10,
   "metadata": {
    "ExecuteTime": {
     "end_time": "2019-09-17T00:53:59.539237Z",
     "start_time": "2019-09-17T00:53:59.534413Z"
    }
   },
   "outputs": [
    {
     "name": "stdout",
     "output_type": "stream",
     "text": [
      "小黃是黃色的拉不拉多，牠正在跑\n",
      "小黃現在8歲，是一隻黃色的拉不拉多，性別為母\n"
     ]
    }
   ],
   "source": [
    "#我成功繼承以及覆載\n",
    "\n",
    "class Puppy:\n",
    "    def __init__(self,dogType = \"拉不拉多\", dogName = \"小黃\",dogColor = \"黃色\", dogAge = 8, dogGender = \"M\"):\n",
    "        self.dogType = dogType\n",
    "        self.dogName = dogName\n",
    "        self.dogColor = dogColor\n",
    "        self.dogGender = dogGender\n",
    "        self.dogAge = 8\n",
    "    def describe(self):\n",
    "        print(\"%s現在%d歲，是一隻%s的%s，性別為%s\"%(self.dogName, self.dogAge, self.dogColor, self.dogType, self.dogGender))\n",
    "    def run(self):\n",
    "        print(self.dogName + \"是\" + self.dogColor+ \"的\"+self.dogType+\"，牠正在跑\")\n",
    "    def jump(self):\n",
    "        print(self.dogName + \"是\" + self.dogColor+ \"的\"+self.dogType+\"，牠正在跳\")\n",
    "    def bite(self):\n",
    "        print(self.dogName + \"是\" + self.dogColor+ \"的\"+self.dogType+\"，牠正在咬\")\n",
    "dog1 = Puppy(\"拉不拉多\", \"小黃\", \"黃色\", 7, \"母\")\n",
    "\n",
    "dog1.run()\n",
    "\n",
    "dog1.describe()\n",
    "\n",
    "####\n",
    "\n",
    "class Animal:\n",
    "    def __init__(self,weight = 5,color = \"Black\"):\n",
    "        self.weight = weight\n",
    "        self.color = color\n",
    "    def move(self):\n",
    "        print(\"這隻動物體重\"+str(self.weight)+\"是\" + self.color+ \"的，牠正在移動\")\n",
    "    def sleep(self):\n",
    "        print(\"這隻動物體重\"+ str(self.weight) +\"是\" + self.color+ \"的，牠正在睡覺\")\n",
    "class Puppy(Animal):\n",
    "    def __init__(self, weight, color, dogType = \"拉不拉多\", dogName = \"小黃\",dogColor = \"黃色\", dogAge = 8, dogGender = \"M\"):\n",
    "        super().__init__(weight, color)\n",
    "        self.dogType = dogType\n",
    "        self.dogName = dogName\n",
    "        self.dogColor = dogColor\n",
    "        self.dogGender = dogGender\n",
    "        self.dogAge = 8\n",
    "    def describe(self):\n",
    "        print(\"%s現在%d歲，是一隻%s的%s，性別為%s\"%(self.dogName, self.dogAge, self.dogColor, self.dogType, self.dogGender))\n",
    "    def run(self):\n",
    "        print(self.dogName + \"是\" + self.dogColor+ \"的\"+self.dogType+\"，牠正在跑\")\n",
    "    def jump(self):\n",
    "        print(self.dogName + \"是\" + self.dogColor+ \"的\"+self.dogType+\"，牠正在跳\")\n",
    "    def bite(self):\n",
    "        print(self.dogName + \"是\" + self.dogColor+ \"的\"+self.dogType+\"，牠正在咬\")\n",
    "dog1 = Puppy(8, \"黃色\" ,\"拉不拉多\", \"小黃\", \"黃色\", 7, \"母\")\n",
    "dog1.run()\n",
    "class Bird(Puppy):\n",
    "    def __init__(self, weight, color, eyecolor, dogType, dogName, dogColor, dogAge, dogGender):\n",
    "        super().__init__(weight, color, dogType, dogName, dogColor, dogAge, dogGender)\n",
    "        self.eyecolor = eyecolor\n",
    "    def move(self):\n",
    "        print(\"這隻鳥體重\"+str(self.weight)+\"是\" + self.color+ \"的，而且眼睛顏色是\"+ self.eyecolor +\"，牠正在移動\")\n",
    "\n",
    "###\n",
    "\n",
    "dog1.dogName\n",
    "\n",
    "dog1.sleep()\n",
    "\n",
    "bird1 = Bird(3, \"White\", \"Black\", \"拉不拉多\", \"小黃\", \"黃色\", 7, \"母\")\n",
    "\n",
    "bird1.run()\n",
    "\n",
    "bird1.move()\n",
    "\n",
    "bird1.sleep()"
   ]
  },
  {
   "cell_type": "code",
   "execution_count": 56,
   "metadata": {
    "ExecuteTime": {
     "end_time": "2019-09-16T03:25:41.788986Z",
     "start_time": "2019-09-16T03:25:41.786788Z"
    }
   },
   "outputs": [],
   "source": [
    "bird1 = Bird(dogType = \"畫眉\", dogName = \"鳥\", dogColor = \"black\")"
   ]
  },
  {
   "cell_type": "code",
   "execution_count": 57,
   "metadata": {
    "ExecuteTime": {
     "end_time": "2019-09-16T03:25:49.094348Z",
     "start_time": "2019-09-16T03:25:49.092531Z"
    }
   },
   "outputs": [],
   "source": [
    "bird1.seteyecolor(\"Gr\")"
   ]
  },
  {
   "cell_type": "code",
   "execution_count": 58,
   "metadata": {
    "ExecuteTime": {
     "end_time": "2019-09-16T03:25:54.433020Z",
     "start_time": "2019-09-16T03:25:54.430461Z"
    }
   },
   "outputs": [
    {
     "data": {
      "text/plain": [
       "'Gr'"
      ]
     },
     "execution_count": 58,
     "metadata": {},
     "output_type": "execute_result"
    }
   ],
   "source": [
    "bird1.eyecolor"
   ]
  },
  {
   "cell_type": "code",
   "execution_count": 50,
   "metadata": {
    "ExecuteTime": {
     "end_time": "2019-09-16T03:20:39.944496Z",
     "start_time": "2019-09-16T03:20:39.940490Z"
    }
   },
   "outputs": [
    {
     "ename": "TypeError",
     "evalue": "__init__() got an unexpected keyword argument 'weight'",
     "output_type": "error",
     "traceback": [
      "\u001b[0;31m---------------------------------------------------------\u001b[0m",
      "\u001b[0;31mTypeError\u001b[0m               Traceback (most recent call last)",
      "\u001b[0;32m<ipython-input-50-e6177b50e4a8>\u001b[0m in \u001b[0;36m<module>\u001b[0;34m\u001b[0m\n\u001b[0;32m----> 1\u001b[0;31m \u001b[0mbird1\u001b[0m \u001b[0;34m=\u001b[0m \u001b[0mBird\u001b[0m\u001b[0;34m(\u001b[0m\u001b[0mweight\u001b[0m \u001b[0;34m=\u001b[0m \u001b[0;34m'87'\u001b[0m\u001b[0;34m,\u001b[0m \u001b[0mcolor\u001b[0m \u001b[0;34m=\u001b[0m \u001b[0;34m\"black\"\u001b[0m\u001b[0;34m)\u001b[0m\u001b[0;34m\u001b[0m\u001b[0;34m\u001b[0m\u001b[0m\n\u001b[0m",
      "\u001b[0;31mTypeError\u001b[0m: __init__() got an unexpected keyword argument 'weight'"
     ]
    }
   ],
   "source": [
    "bird1 = Bird(weight = '87', color = \"black\")"
   ]
  },
  {
   "cell_type": "code",
   "execution_count": 49,
   "metadata": {
    "ExecuteTime": {
     "end_time": "2019-09-16T03:20:38.229697Z",
     "start_time": "2019-09-16T03:20:38.227720Z"
    }
   },
   "outputs": [
    {
     "name": "stdout",
     "output_type": "stream",
     "text": [
      "鳥是black的畫眉，牠正在咬\n"
     ]
    }
   ],
   "source": [
    "bird1.bite()"
   ]
  },
  {
   "cell_type": "code",
   "execution_count": 35,
   "metadata": {
    "ExecuteTime": {
     "end_time": "2019-09-16T03:17:07.244496Z",
     "start_time": "2019-09-16T03:17:07.241434Z"
    }
   },
   "outputs": [
    {
     "name": "stdout",
     "output_type": "stream",
     "text": [
      "這隻鳥體重87是black的，牠正在移動\n"
     ]
    }
   ],
   "source": [
    "bird1.move()"
   ]
  },
  {
   "cell_type": "code",
   "execution_count": null,
   "metadata": {},
   "outputs": [],
   "source": []
  },
  {
   "cell_type": "code",
   "execution_count": 2,
   "metadata": {
    "ExecuteTime": {
     "end_time": "2019-09-17T01:20:14.127329Z",
     "start_time": "2019-09-17T01:20:04.841307Z"
    }
   },
   "outputs": [
    {
     "name": "stdout",
     "output_type": "stream",
     "text": [
      "歡迎來到猜數字系統，答案的區間在1與100之間，請輸入你想猜的數字\n",
      "輸入'-1.87'可以放棄喔：\n",
      "50\n",
      "太大了\n",
      "40\n",
      "太小了\n",
      "45\n",
      "太小了\n",
      "46\n",
      "太小了\n",
      "48\n",
      "太大了\n",
      "47\n",
      "你答對了\n"
     ]
    }
   ],
   "source": [
    "#我使用Class寫了一個猜數字系統，這樣答案就沒辦法從外面知道了。\n",
    "\n",
    "import random\n",
    "class guess_number:\n",
    "    def __init__(self, a = 1, b = 100):\n",
    "        print(\"歡迎來到猜數字系統，答案的區間在%d與%d之間，請輸入你想猜的數字\"%(a,b))\n",
    "        print(\"輸入'-1.87'可以放棄喔：\")\n",
    "        self.__answer = random.randint(a, b)\n",
    "    def guess(self, input_num):\n",
    "        if input_num == '-1.87':\n",
    "            return (\"你放棄了\")\n",
    "        try:\n",
    "            input_num = int(input_num)\n",
    "        except ValueError:\n",
    "            return \"請輸入整數\"\n",
    "        \n",
    "        if input_num == self.__answer:\n",
    "            return (\"你答對了\")\n",
    "        if input_num > self.__answer:\n",
    "            return (\"太大了\")\n",
    "        if input_num < self.__answer:\n",
    "            return (\"太小了\")\n",
    "\n",
    "        \n",
    "#以下是遊玩程式碼\n",
    "\n",
    "play = guess_number()\n",
    "\n",
    "while(1):\n",
    "    result = play.guess(input())\n",
    "    print(result)\n",
    "    if result == '你答對了':\n",
    "        break\n",
    "    if result == \"你放棄了\":\n",
    "        break"
   ]
  },
  {
   "cell_type": "code",
   "execution_count": 59,
   "metadata": {
    "ExecuteTime": {
     "end_time": "2019-09-16T03:38:28.482827Z",
     "start_time": "2019-09-16T03:38:28.477360Z"
    }
   },
   "outputs": [
    {
     "name": "stdout",
     "output_type": "stream",
     "text": [
      "Divider can not be 0!\n",
      "50.0\n"
     ]
    }
   ],
   "source": [
    "class Demo:\n",
    "    def __init__(self,divider=1):\n",
    "        self.__divider = divider\n",
    "    def getDivider(self):\n",
    "        return self.__divider\n",
    "    def setDivider(self,divider):\n",
    "        if divider==0:\n",
    "            print(\"Divider can not be 0!\")\n",
    "        else:\n",
    "            self.__divider = divider\n",
    "    def dataHidingDemo(self,number):\n",
    "        result = number/self.__divider\n",
    "        print (result)\n",
    "ch00Demo = Demo()\n",
    "ch00Demo.setDivider(0)\n",
    "ch00Demo.dataHidingDemo(50)"
   ]
  },
  {
   "cell_type": "code",
   "execution_count": 61,
   "metadata": {
    "ExecuteTime": {
     "end_time": "2019-09-16T03:38:49.176269Z",
     "start_time": "2019-09-16T03:38:49.172327Z"
    }
   },
   "outputs": [
    {
     "ename": "AttributeError",
     "evalue": "type object 'Demo' has no attribute '__divider'",
     "output_type": "error",
     "traceback": [
      "\u001b[0;31m---------------------------------------------------------\u001b[0m",
      "\u001b[0;31mAttributeError\u001b[0m          Traceback (most recent call last)",
      "\u001b[0;32m<ipython-input-61-292f05761575>\u001b[0m in \u001b[0;36m<module>\u001b[0;34m\u001b[0m\n\u001b[0;32m----> 1\u001b[0;31m \u001b[0mDemo\u001b[0m\u001b[0;34m.\u001b[0m\u001b[0m__divider\u001b[0m\u001b[0;34m\u001b[0m\u001b[0;34m\u001b[0m\u001b[0m\n\u001b[0m",
      "\u001b[0;31mAttributeError\u001b[0m: type object 'Demo' has no attribute '__divider'"
     ]
    }
   ],
   "source": [
    "Demo.__divider"
   ]
  },
  {
   "cell_type": "code",
   "execution_count": 64,
   "metadata": {
    "ExecuteTime": {
     "end_time": "2019-09-16T03:39:23.899321Z",
     "start_time": "2019-09-16T03:39:23.897318Z"
    }
   },
   "outputs": [],
   "source": [
    "Demo.divider = 87"
   ]
  },
  {
   "cell_type": "code",
   "execution_count": 68,
   "metadata": {
    "ExecuteTime": {
     "end_time": "2019-09-16T03:39:44.307635Z",
     "start_time": "2019-09-16T03:39:44.305632Z"
    }
   },
   "outputs": [],
   "source": [
    "Demo.__aaa = 87"
   ]
  },
  {
   "cell_type": "code",
   "execution_count": 69,
   "metadata": {
    "ExecuteTime": {
     "end_time": "2019-09-16T03:39:46.561193Z",
     "start_time": "2019-09-16T03:39:46.558634Z"
    }
   },
   "outputs": [
    {
     "data": {
      "text/plain": [
       "87"
      ]
     },
     "execution_count": 69,
     "metadata": {},
     "output_type": "execute_result"
    }
   ],
   "source": [
    "Demo.__aaa"
   ]
  },
  {
   "cell_type": "code",
   "execution_count": null,
   "metadata": {},
   "outputs": [],
   "source": []
  }
 ],
 "metadata": {
  "hide_input": false,
  "kernelspec": {
   "display_name": "cpu",
   "language": "python",
   "name": "cpu"
  },
  "language_info": {
   "codemirror_mode": {
    "name": "ipython",
    "version": 3
   },
   "file_extension": ".py",
   "mimetype": "text/x-python",
   "name": "python",
   "nbconvert_exporter": "python",
   "pygments_lexer": "ipython3",
   "version": "3.7.4"
  },
  "varInspector": {
   "cols": {
    "lenName": 16,
    "lenType": 16,
    "lenVar": 40
   },
   "kernels_config": {
    "python": {
     "delete_cmd_postfix": "",
     "delete_cmd_prefix": "del ",
     "library": "var_list.py",
     "varRefreshCmd": "print(var_dic_list())"
    },
    "r": {
     "delete_cmd_postfix": ") ",
     "delete_cmd_prefix": "rm(",
     "library": "var_list.r",
     "varRefreshCmd": "cat(var_dic_list()) "
    }
   },
   "types_to_exclude": [
    "module",
    "function",
    "builtin_function_or_method",
    "instance",
    "_Feature"
   ],
   "window_display": false
  }
 },
 "nbformat": 4,
 "nbformat_minor": 2
}
