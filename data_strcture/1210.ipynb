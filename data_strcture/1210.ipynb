{
 "cells": [
  {
   "cell_type": "code",
   "execution_count": 1,
   "metadata": {
    "ExecuteTime": {
     "end_time": "2019-12-10T01:38:47.026898Z",
     "start_time": "2019-12-10T01:38:47.021193Z"
    }
   },
   "outputs": [],
   "source": [
    "#bubble sort"
   ]
  },
  {
   "cell_type": "code",
   "execution_count": 61,
   "metadata": {
    "ExecuteTime": {
     "end_time": "2019-12-11T07:12:18.205489Z",
     "start_time": "2019-12-11T07:12:18.175665Z"
    }
   },
   "outputs": [
    {
     "name": "stdout",
     "output_type": "stream",
     "text": [
      "輸入是一個經過打亂的隨機array [3, 1, 7, 4, 5, 0, 6, 2]\n",
      "經過bubble_sort, 輸出是一個照順序的Array [0, 1, 2, 3, 4, 5, 6, 7]\n",
      "加碼，改良版bubble_sort，效果一樣但時間更短 [0, 1, 2, 3, 4, 5, 6, 7]\n",
      "bigO(n^2)\n"
     ]
    }
   ],
   "source": [
    "import numpy as np\n",
    "origin = np.array(range(8))\n",
    "np.random.shuffle(origin)\n",
    "\n",
    "print(\"輸入是一個經過打亂的隨機array\", list(origin))\n",
    "\n",
    "#bubble sort\n",
    "def bubble_sort(yes):\n",
    "    yes = list(yes)\n",
    "    lens = len(yes)\n",
    "    for i in range(lens-1):\n",
    "        switch = 0\n",
    "        for j in range(lens-1):\n",
    "            if yes[j] > yes[j+1]:\n",
    "                yes[j], yes[j+1] = yes[j+1], yes[j]\n",
    "                switch += 1\n",
    "        if switch == 0:\n",
    "            break\n",
    "    return yes\n",
    "\n",
    "result = bubble_sort(origin)\n",
    "print(\"經過bubble_sort, 輸出是一個照順序的Array\", result)\n",
    "\n",
    "\n",
    "##加碼，改良版bubble_sort，\n",
    "\n",
    "#bubble sort\n",
    "def better_bubble_sort(yes):\n",
    "    yes = list(yes)\n",
    "    lens = len(yes)\n",
    "    for i in range(lens-1):\n",
    "        switch = 0\n",
    "        for j in range(lens - i - 1):\n",
    "            if yes[j] > yes[j+1]:\n",
    "                yes[j], yes[j+1] = yes[j+1], yes[j]\n",
    "                switch += 1\n",
    "        if switch == 0:\n",
    "            break\n",
    "    return yes\n",
    "\n",
    "print(\"加碼，改良版bubble_sort，效果一樣但時間更短\", better_bubble_sort(origin))\n",
    "\n",
    "print(\"bigO(n^2)\")"
   ]
  },
  {
   "cell_type": "code",
   "execution_count": 62,
   "metadata": {
    "ExecuteTime": {
     "end_time": "2019-12-11T07:13:02.940195Z",
     "start_time": "2019-12-11T07:13:02.934977Z"
    }
   },
   "outputs": [
    {
     "name": "stdout",
     "output_type": "stream",
     "text": [
      "輸入是一個經過打亂的隨機array [0, 5, 3, 1, 6, 7, 4, 2]\n",
      "經過Selection Sort，輸出是一個照順序的Array [0, 1, 2, 3, 4, 5, 6, 7]\n",
      "bigO(n^2)\n"
     ]
    }
   ],
   "source": [
    "#selectionSort\n",
    "\n",
    "import numpy as np\n",
    "origin = np.array(range(8))\n",
    "np.random.shuffle(origin)\n",
    "\n",
    "print(\"輸入是一個經過打亂的隨機array\", list(origin))\n",
    "\n",
    "def selection_sort(origin):\n",
    "    yes = list(origin)\n",
    "    lens = len(yes)\n",
    "    for i in range(lens):\n",
    "        smallest = i\n",
    "        small = yes[i]\n",
    "        for j in range(i+1, lens):\n",
    "            if small > yes[j]:\n",
    "                smallest = j\n",
    "                small = yes[j]\n",
    "        yes[smallest], yes[i] = yes[i], yes[smallest]\n",
    "    return yes\n",
    "\n",
    "print(\"經過Selection Sort，輸出是一個照順序的Array\", selection_sort(origin))\n",
    "print(\"bigO(n^2)\")"
   ]
  },
  {
   "cell_type": "code",
   "execution_count": null,
   "metadata": {},
   "outputs": [],
   "source": []
  },
  {
   "cell_type": "code",
   "execution_count": 78,
   "metadata": {
    "ExecuteTime": {
     "end_time": "2019-12-11T07:52:28.372617Z",
     "start_time": "2019-12-11T07:52:28.365416Z"
    }
   },
   "outputs": [
    {
     "name": "stdout",
     "output_type": "stream",
     "text": [
      "輸入是一個經過打亂的隨機array [5, 2, 0, 3, 4, 1, 7, 6]\n",
      "經過insertion sort，輸出是一個照順序的Array [0 1 2 3 4 5 6 7]\n",
      "bigO(n^2)\n"
     ]
    }
   ],
   "source": [
    "#insertion sort\n",
    "\n",
    "import numpy as np\n",
    "origin = np.array(range(8))\n",
    "np.random.shuffle(origin)\n",
    "\n",
    "print(\"輸入是一個經過打亂的隨機array\", list(origin))\n",
    "#origin = list(origin)\n",
    "\n",
    "def insertion_sort(array):\n",
    "    for i in range(len(array)):\n",
    "        target = array[i]\n",
    "        j = i - 1\n",
    "        while(j >= 0 and array[j] > target):\n",
    "            array[j+1] = array[j]\n",
    "            j-=1\n",
    "        array[j+1] = target\n",
    "    return array\n",
    "print(\"經過insertion sort，輸出是一個照順序的Array\", insertion_sort(origin))\n",
    "print(\"bigO(n^2)\")"
   ]
  },
  {
   "cell_type": "code",
   "execution_count": 76,
   "metadata": {
    "ExecuteTime": {
     "end_time": "2019-12-11T07:51:23.743563Z",
     "start_time": "2019-12-11T07:51:23.740395Z"
    }
   },
   "outputs": [
    {
     "data": {
      "text/plain": [
       "array([0, 1, 2, 3, 4, 5, 6, 7])"
      ]
     },
     "execution_count": 76,
     "metadata": {},
     "output_type": "execute_result"
    }
   ],
   "source": [
    "array"
   ]
  },
  {
   "cell_type": "code",
   "execution_count": 66,
   "metadata": {
    "ExecuteTime": {
     "end_time": "2019-12-11T07:13:55.645484Z",
     "start_time": "2019-12-11T07:13:55.636939Z"
    }
   },
   "outputs": [
    {
     "name": "stdout",
     "output_type": "stream",
     "text": [
      "輸入是一個經過打亂的隨機array [4, 0, 6, 3, 7, 1, 2, 5]\n",
      "經過QuickSort，變成一個照順序的Array [0 1 2 3 4 5 6 7]\n",
      "bigO(n^2)\n"
     ]
    }
   ],
   "source": [
    "#QuickSort\n",
    "\n",
    "import numpy as np\n",
    "origin = np.array(range(8))\n",
    "np.random.shuffle(origin)\n",
    "\n",
    "print(\"輸入是一個經過打亂的隨機array\", list(origin))\n",
    "#origin = list(origin)\n",
    "\n",
    "def StartQuickSort(array):\n",
    "    QuickSort(0, len(array)-1)\n",
    "\n",
    "def QuickSort(left, right):\n",
    "    if left < right:\n",
    "        i = left\n",
    "        j = right+1\n",
    "        target = array[left]\n",
    "        while(i < j):\n",
    "            i += 1\n",
    "            #要先判斷i的大小，以免i過大\n",
    "            while(i < len(array) and target > array[i]):\n",
    "                i+=1\n",
    "            j -= 1\n",
    "            #j不用，因為j最終會遇到自己然後被停掉\n",
    "            while(target < array[j]):\n",
    "                j -= 1\n",
    "            if i < j:\n",
    "                array[i], array[j] = array[j], array[i]\n",
    "        array[left], array[j] = array[j], target\n",
    "        QuickSort(left, j-1)\n",
    "        QuickSort(j+1,right)\n",
    "\n",
    "array = origin\n",
    "StartQuickSort(array)\n",
    "print(\"經過QuickSort，變成一個照順序的Array\", array)\n",
    "print(\"bigO(n^2)\")"
   ]
  },
  {
   "cell_type": "code",
   "execution_count": null,
   "metadata": {},
   "outputs": [],
   "source": []
  },
  {
   "cell_type": "code",
   "execution_count": null,
   "metadata": {},
   "outputs": [],
   "source": []
  },
  {
   "cell_type": "code",
   "execution_count": 73,
   "metadata": {
    "ExecuteTime": {
     "end_time": "2019-12-11T07:22:21.574821Z",
     "start_time": "2019-12-11T07:22:21.541005Z"
    }
   },
   "outputs": [
    {
     "name": "stdout",
     "output_type": "stream",
     "text": [
      "輸入是一個經過打亂的隨機array [0, 3, 7, 5, 6, 1, 4, 2]\n",
      "經過HeapSort，變成一個照順序的Array [0, 1, 2, 3, 4, 5, 6, 7]\n",
      "bigO(n^2)\n"
     ]
    }
   ],
   "source": [
    "#Heap\n",
    "\n",
    "import numpy as np\n",
    "origin = np.array(range(8))\n",
    "np.random.shuffle(origin)\n",
    "\n",
    "print(\"輸入是一個經過打亂的隨機array\", list(origin))\n",
    "class MaxHeap:\n",
    "    def __init__(self, capacity):\n",
    "        self.capacity = capacity\n",
    "        self.array = [None] * (capacity)\n",
    "        self.heapsize = 0\n",
    "        \n",
    "    def isEmpty(self):\n",
    "        return self.heapsize == 0\n",
    "    \n",
    "    def isFull(self):\n",
    "        return self.capacity == self.heapsize\n",
    "    \n",
    "    def push(self, new):\n",
    "        if self.isFull():\n",
    "            print(\"already Full\")\n",
    "            return False\n",
    "        if new in self.array:\n",
    "            print(\"Error: already have a same key value\")\n",
    "            return False\n",
    "        self.heapsize += 1\n",
    "        curIndex = self.heapsize\n",
    "        if self.isEmpty() == False:\n",
    "            while(curIndex!=1 and self.array[int(curIndex/2)-1] < new):\n",
    "                self.array[curIndex-1] = self.array[int(curIndex/2)-1]\n",
    "                curIndex = int(curIndex/2)\n",
    "        self.array[curIndex-1] = new\n",
    "        \n",
    "    def pop(self):\n",
    "        if self.isEmpty():\n",
    "            print(\"Can't pop, is Empty\")\n",
    "            return None\n",
    "        out = self.array[0]\n",
    "        lastNode = self.array[self.heapsize - 1]\n",
    "        self.array[self.heapsize - 1] = out\n",
    "        self.heapsize -= 1\n",
    "        curNode = 1\n",
    "        child = curNode * 2\n",
    "        while (child <=self.heapsize):\n",
    "            biggest = self.array[curNode-1]\n",
    "            target = curNode\n",
    "            if child < self.heapsize and self.array[child - 1] < self.array[child + 1 - 1]:\n",
    "                child += 1\n",
    "            if self.array[child - 1] > lastNode:\n",
    "                self.array[curNode - 1] = self.array[child - 1]\n",
    "                curNode = child\n",
    "                child = child * 2\n",
    "            else:\n",
    "                break\n",
    "        self.array[curNode - 1] = lastNode\n",
    "        return out\n",
    "\n",
    "a = MaxHeap(len(origin))\n",
    "for i in origin:\n",
    "    a.push(i)\n",
    "\n",
    "for i in range(len(origin)):\n",
    "    a.pop()\n",
    "print(\"經過HeapSort，變成一個照順序的Array\", a.array)\n",
    "print(\"bigO(n^2)\")"
   ]
  },
  {
   "cell_type": "code",
   "execution_count": null,
   "metadata": {},
   "outputs": [],
   "source": []
  }
 ],
 "metadata": {
  "hide_input": false,
  "kernelspec": {
   "display_name": "Python 3",
   "language": "python",
   "name": "python3"
  },
  "language_info": {
   "codemirror_mode": {
    "name": "ipython",
    "version": 3
   },
   "file_extension": ".py",
   "mimetype": "text/x-python",
   "name": "python",
   "nbconvert_exporter": "python",
   "pygments_lexer": "ipython3",
   "version": "3.6.9"
  },
  "varInspector": {
   "cols": {
    "lenName": 16,
    "lenType": 16,
    "lenVar": 40
   },
   "kernels_config": {
    "python": {
     "delete_cmd_postfix": "",
     "delete_cmd_prefix": "del ",
     "library": "var_list.py",
     "varRefreshCmd": "print(var_dic_list())"
    },
    "r": {
     "delete_cmd_postfix": ") ",
     "delete_cmd_prefix": "rm(",
     "library": "var_list.r",
     "varRefreshCmd": "cat(var_dic_list()) "
    }
   },
   "types_to_exclude": [
    "module",
    "function",
    "builtin_function_or_method",
    "instance",
    "_Feature"
   ],
   "window_display": false
  }
 },
 "nbformat": 4,
 "nbformat_minor": 2
}
