{
 "cells": [
  {
   "cell_type": "code",
   "execution_count": 1,
   "metadata": {
    "ExecuteTime": {
     "end_time": "2019-12-10T01:38:47.026898Z",
     "start_time": "2019-12-10T01:38:47.021193Z"
    }
   },
   "outputs": [],
   "source": [
    "#bubble sort"
   ]
  },
  {
   "cell_type": "code",
   "execution_count": 116,
   "metadata": {
    "ExecuteTime": {
     "end_time": "2019-12-10T06:13:00.066472Z",
     "start_time": "2019-12-10T06:13:00.057921Z"
    }
   },
   "outputs": [
    {
     "name": "stdout",
     "output_type": "stream",
     "text": [
      "輸入是一個經過打亂的array [1, 5, 2, 6, 4, 3, 7, 0]\n",
      "經過bubble_sort, 輸出是一個照順序的Array [0, 1, 2, 3, 4, 5, 6, 7]\n",
      "加碼，改良版bubble_sort，效果一樣但時間更短 [0, 1, 2, 3, 4, 5, 6, 7]\n",
      "\n"
     ]
    }
   ],
   "source": [
    "import numpy as np\n",
    "origin = np.array(range(8))\n",
    "np.random.shuffle(origin)\n",
    "\n",
    "print(\"輸入是一個經過打亂的array\", list(origin))\n",
    "\n",
    "#bubble sort\n",
    "def bubble_sort(yes):\n",
    "    yes = list(yes)\n",
    "    lens = len(yes)\n",
    "    for i in range(lens-1):\n",
    "        switch = 0\n",
    "        for j in range(lens-1):\n",
    "            if yes[j] > yes[j+1]:\n",
    "                yes[j], yes[j+1] = yes[j+1], yes[j]\n",
    "                switch += 1\n",
    "        if switch == 0:\n",
    "            break\n",
    "    return yes\n",
    "\n",
    "result = bubble_sort(origin)\n",
    "print(\"經過bubble_sort, 輸出是一個照順序的Array\", result)\n",
    "\n",
    "\n",
    "##加碼，改良版bubble_sort，\n",
    "\n",
    "#bubble sort\n",
    "def better_bubble_sort(yes):\n",
    "    yes = list(yes)\n",
    "    lens = len(yes)\n",
    "    for i in range(lens-1):\n",
    "        switch = 0\n",
    "        for j in range(lens - i - 1):\n",
    "            if yes[j] > yes[j+1]:\n",
    "                yes[j], yes[j+1] = yes[j+1], yes[j]\n",
    "                switch += 1\n",
    "        if switch == 0:\n",
    "            break\n",
    "    return yes\n",
    "\n",
    "print(\"加碼，改良版bubble_sort，效果一樣但時間更短\", better_bubble_sort(origin))\n",
    "\n",
    "\n",
    "\"\"\"\n",
    "輸入是一個經過打亂的array [2, 3, 7, 1, 0, 5, 4, 6]\n",
    "經過bubble_sort, 輸出是一個照順序的Array [0, 1, 2, 3, 4, 5, 6, 7]\n",
    "加碼，改良版bubble_sort，效果一樣但時間更短 [0, 1, 2, 3, 4, 5, 6, 7]\"\"\"\n",
    "print()"
   ]
  },
  {
   "cell_type": "code",
   "execution_count": 95,
   "metadata": {
    "ExecuteTime": {
     "end_time": "2019-12-10T06:05:33.601228Z",
     "start_time": "2019-12-10T06:05:33.594685Z"
    }
   },
   "outputs": [
    {
     "name": "stdout",
     "output_type": "stream",
     "text": [
      "輸入是一個經過打亂的array [2, 4, 0, 6, 3, 5, 1, 7]\n",
      "經過Selection Sort，輸出是一個照順序的Array [0, 1, 2, 3, 4, 5, 6, 7]\n"
     ]
    }
   ],
   "source": [
    "#selectionSort\n",
    "\n",
    "import numpy as np\n",
    "origin = np.array(range(8))\n",
    "np.random.shuffle(origin)\n",
    "\n",
    "print(\"輸入是一個經過打亂的array\", list(origin))\n",
    "\n",
    "def selection_sort(origin):\n",
    "    yes = list(origin)\n",
    "    lens = len(yes)\n",
    "    for i in range(lens):\n",
    "        smallest = i\n",
    "        small = yes[i]\n",
    "        for j in range(i+1, lens):\n",
    "            if small > yes[j]:\n",
    "                smallest = j\n",
    "                small = yes[j]\n",
    "        yes[smallest], yes[i] = yes[i], yes[smallest]\n",
    "    return yes\n",
    "\n",
    "print(\"經過Selection Sort，輸出是一個照順序的Array\", selection_sort(origin))\n",
    "\n",
    "\n",
    "\"\"\"\n",
    "輸入是一個經過打亂的array [2, 4, 0, 6, 3, 5, 1, 7]\n",
    "經過Selection Sort，輸出是一個照順序的Array [0, 1, 2, 3, 4, 5, 6, 7]\"\"\"\n",
    "print()"
   ]
  },
  {
   "cell_type": "code",
   "execution_count": 117,
   "metadata": {
    "ExecuteTime": {
     "end_time": "2019-12-10T06:13:06.077906Z",
     "start_time": "2019-12-10T06:13:06.058032Z"
    }
   },
   "outputs": [
    {
     "name": "stdout",
     "output_type": "stream",
     "text": [
      "輸入是一個經過打亂的array [1, 7, 2, 4, 0, 3, 5, 6]\n",
      "經過insertion_sort，輸出是一個照順序的Array [0, 1, 2, 3, 4, 5, 6, 7]\n",
      "\n"
     ]
    }
   ],
   "source": [
    "#insertion_sort\n",
    "import numpy as np\n",
    "origin = np.array(range(8))\n",
    "np.random.shuffle(origin)\n",
    "\n",
    "print(\"輸入是一個經過打亂的array\", list(origin))\n",
    "\n",
    "\n",
    "def insertion_sort(yes):\n",
    "    lens = len(yes)\n",
    "    for i in range(1, lens):\n",
    "        temp = yes[i]\n",
    "        j = i-1\n",
    "        while(j>=0 and temp < yes[j]):\n",
    "            yes[j+1] = yes[j]\n",
    "            j -= 1\n",
    "        yes[j+1] = temp\n",
    "    return yes\n",
    "\n",
    "print(\"經過insertion_sort，輸出是一個照順序的Array\", list(insertion_sort(origin)))\n",
    "\n",
    "\n",
    "\"\"\"\n",
    "輸入是一個經過打亂的array [1, 6, 7, 2, 4, 3, 0, 5]\n",
    "經過insertion_sort，輸出是一個照順序的Array [0, 1, 2, 3, 4, 5, 6, 7]\"\"\"\n",
    "print()"
   ]
  },
  {
   "cell_type": "code",
   "execution_count": null,
   "metadata": {},
   "outputs": [],
   "source": []
  }
 ],
 "metadata": {
  "hide_input": false,
  "kernelspec": {
   "display_name": "Python 3",
   "language": "python",
   "name": "python3"
  },
  "language_info": {
   "codemirror_mode": {
    "name": "ipython",
    "version": 3
   },
   "file_extension": ".py",
   "mimetype": "text/x-python",
   "name": "python",
   "nbconvert_exporter": "python",
   "pygments_lexer": "ipython3",
   "version": "3.6.9"
  },
  "varInspector": {
   "cols": {
    "lenName": 16,
    "lenType": 16,
    "lenVar": 40
   },
   "kernels_config": {
    "python": {
     "delete_cmd_postfix": "",
     "delete_cmd_prefix": "del ",
     "library": "var_list.py",
     "varRefreshCmd": "print(var_dic_list())"
    },
    "r": {
     "delete_cmd_postfix": ") ",
     "delete_cmd_prefix": "rm(",
     "library": "var_list.r",
     "varRefreshCmd": "cat(var_dic_list()) "
    }
   },
   "types_to_exclude": [
    "module",
    "function",
    "builtin_function_or_method",
    "instance",
    "_Feature"
   ],
   "window_display": false
  }
 },
 "nbformat": 4,
 "nbformat_minor": 2
}
