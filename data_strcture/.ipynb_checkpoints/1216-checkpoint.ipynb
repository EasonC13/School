{
 "cells": [
  {
   "cell_type": "code",
   "execution_count": 78,
   "metadata": {
    "ExecuteTime": {
     "end_time": "2019-12-16T11:46:55.763372Z",
     "start_time": "2019-12-16T11:46:55.750638Z"
    }
   },
   "outputs": [
    {
     "name": "stdout",
     "output_type": "stream",
     "text": [
      "輸入是一個經過打亂的隨機array [2, 4, 1, 5, 7, 6, 3, 0]\n",
      "origin: [2 4 1 5 7 6 3 0]\n",
      "tempList: [2 4 1 5 6 7 0 3]\n",
      "Array: [1 2 4 5 0 3 6 7]\n",
      "tempList: [0 1 2 3 4 5 6 7]\n",
      "Array: [0 1 2 3 4 5 6 7]\n",
      "經過Merge pass, 輸出是一個照順序的Array [0, 1, 2, 3, 4, 5, 6, 7]\n"
     ]
    }
   ],
   "source": [
    "#Merge Sort\n",
    "\n",
    "import numpy as np\n",
    "origin = np.array(range(8))\n",
    "np.random.shuffle(origin)\n",
    "\n",
    "print(\"輸入是一個經過打亂的隨機array\", list(origin))\n",
    "\n",
    "def Merge_Sort(array):\n",
    "    n = len(array)\n",
    "    tempList = np.array([-1] * (n))\n",
    "    l = 1\n",
    "    print(\"origin:\",array)\n",
    "    while(l<n):\n",
    "        MergePass(array, tempList, n, l)\n",
    "        l = l * 2\n",
    "        print('tempList:', tempList)\n",
    "        MergePass(tempList, array, n, l)\n",
    "        print(\"Array:\",array)\n",
    "        l = l*2\n",
    "    return array\n",
    "def MergePass(initList, ResultList, n, s):\n",
    "    i = 1\n",
    "    while(i<= n-2*s):\n",
    "        Merge(initList, ResultList, i, i+s-1, i+2*s-1)\n",
    "        i = i+2*s\n",
    "    if i+s-1<n:\n",
    "        Merge(initList, ResultList, i, i+s-1, i+2*s-1)\n",
    "    else:\n",
    "        copy(initList, i, n, ResultList, i)\n",
    "        \n",
    "def copy(initList, i, n, ResultList, iResult):\n",
    "    while(i<=n):\n",
    "        ResultList[iResult-1] = initList[i-1]\n",
    "        i+=1\n",
    "        iResult+=1\n",
    "        \n",
    "def Merge(initList, ResultList, l, m, n):\n",
    "    #[l:m], [m+1:n]\n",
    "    i1 = l\n",
    "    i2 = m+1\n",
    "    iResult = l\n",
    "    while(i1<=m and i2<=n):\n",
    "        if initList[i1-1]<= initList[i2-1]:\n",
    "            ResultList[iResult-1] = initList[i1-1]\n",
    "            i1 += 1\n",
    "        else:\n",
    "            ResultList[iResult-1] = initList[i2-1]\n",
    "            i2 += 1\n",
    "        iResult+=1\n",
    "    if i1 <= m:\n",
    "        copy(initList, i1, m, ResultList, iResult)\n",
    "    if i2 <= n:\n",
    "        copy(initList, i2, n, ResultList, iResult)\n",
    "\n",
    "print(\"經過Merge pass, 輸出是一個照順序的Array\", list(Merge_Sort(origin)))"
   ]
  },
  {
   "cell_type": "code",
   "execution_count": 77,
   "metadata": {
    "ExecuteTime": {
     "end_time": "2019-12-16T11:46:46.002019Z",
     "start_time": "2019-12-16T11:46:45.996497Z"
    }
   },
   "outputs": [
    {
     "data": {
      "text/plain": [
       "array([0, 1, 2, 3, 4, 5, 6, 7])"
      ]
     },
     "execution_count": 77,
     "metadata": {},
     "output_type": "execute_result"
    }
   ],
   "source": [
    "origin"
   ]
  },
  {
   "cell_type": "code",
   "execution_count": null,
   "metadata": {},
   "outputs": [],
   "source": []
  },
  {
   "cell_type": "code",
   "execution_count": null,
   "metadata": {},
   "outputs": [],
   "source": []
  }
 ],
 "metadata": {
  "hide_input": false,
  "kernelspec": {
   "display_name": "Python 3",
   "language": "python",
   "name": "python3"
  },
  "language_info": {
   "codemirror_mode": {
    "name": "ipython",
    "version": 3
   },
   "file_extension": ".py",
   "mimetype": "text/x-python",
   "name": "python",
   "nbconvert_exporter": "python",
   "pygments_lexer": "ipython3",
   "version": "3.6.9"
  },
  "varInspector": {
   "cols": {
    "lenName": 16,
    "lenType": 16,
    "lenVar": 40
   },
   "kernels_config": {
    "python": {
     "delete_cmd_postfix": "",
     "delete_cmd_prefix": "del ",
     "library": "var_list.py",
     "varRefreshCmd": "print(var_dic_list())"
    },
    "r": {
     "delete_cmd_postfix": ") ",
     "delete_cmd_prefix": "rm(",
     "library": "var_list.r",
     "varRefreshCmd": "cat(var_dic_list()) "
    }
   },
   "types_to_exclude": [
    "module",
    "function",
    "builtin_function_or_method",
    "instance",
    "_Feature"
   ],
   "window_display": false
  }
 },
 "nbformat": 4,
 "nbformat_minor": 2
}
