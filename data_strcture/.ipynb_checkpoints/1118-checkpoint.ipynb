{
 "cells": [
  {
   "cell_type": "code",
   "execution_count": 45,
   "metadata": {
    "ExecuteTime": {
     "end_time": "2019-11-18T03:09:14.832753Z",
     "start_time": "2019-11-18T03:09:14.824858Z"
    }
   },
   "outputs": [
    {
     "name": "stdout",
     "output_type": "stream",
     "text": [
      "9\n"
     ]
    }
   ],
   "source": [
    "#作業05-06\n",
    "class TreeNode:\n",
    "    def __init__(self, key, leftchild = None, rightchild = None):\n",
    "        self.key = key\n",
    "        self.leftchild = leftchild\n",
    "        self.rightchild = rightchild\n",
    "\n",
    "class booleanTree:\n",
    "    def __init__(self):\n",
    "        self.root = None\n",
    "        pass\n",
    "    def insert_new(self, new_node):\n",
    "        curNode = self.root\n",
    "        parentNode = None\n",
    "        while(curNode != None):\n",
    "            parentNode = curNode\n",
    "            if curNode.key == new_node.key:\n",
    "                print(\"Can't put same value\")\n",
    "                return False\n",
    "            elif curNode.key > new_node.key:\n",
    "                curNode = curNode.leftchild\n",
    "            elif curNode.key < new_node.key:\n",
    "                curNode = curNode.rightchild\n",
    "        curNode = new_node\n",
    "        if self.root == None:\n",
    "            self.root = new_node\n",
    "            return True\n",
    "        elif parentNode.key > curNode.key:\n",
    "            parentNode.leftchild = curNode\n",
    "        else:\n",
    "            parentNode.rightchild = curNode\n",
    "        return True\n",
    "      \n",
    "nodes = [33,78,11,48,20,55,35,99,9]\n",
    "tree = booleanTree()\n",
    "for i in nodes:\n",
    "    if i == 9:\n",
    "        a = TreeNode(i)\n",
    "        a.yee = 87\n",
    "        tree.insert_new(a)\n",
    "        continue\n",
    "    tree.insert_new(TreeNode(i))\n",
    "\n",
    "print(tree.root.leftchild.leftchild.key)"
   ]
  },
  {
   "cell_type": "code",
   "execution_count": 58,
   "metadata": {
    "ExecuteTime": {
     "end_time": "2019-11-18T03:15:42.224836Z",
     "start_time": "2019-11-18T03:15:42.217125Z"
    }
   },
   "outputs": [
    {
     "name": "stdout",
     "output_type": "stream",
     "text": [
      "set yee value to 87 at the key 35\n",
      "==Searching==\n",
      "key 35 have a yee value 87\n"
     ]
    }
   ],
   "source": [
    "#作業05-07\n",
    "class TreeNode:\n",
    "    def __init__(self, key, leftchild = None, rightchild = None):\n",
    "        self.key = key\n",
    "        self.leftchild = leftchild\n",
    "        self.rightchild = rightchild\n",
    "\n",
    "class booleanTree:\n",
    "    def __init__(self):\n",
    "        self.root = None\n",
    "        pass\n",
    "    def insert_new(self, new_node):\n",
    "        curNode = self.root\n",
    "        parentNode = None\n",
    "        while(curNode != None):\n",
    "            parentNode = curNode\n",
    "            if curNode.key == new_node.key:\n",
    "                print(\"Can't put same value\")\n",
    "                return False\n",
    "            elif curNode.key > new_node.key:\n",
    "                curNode = curNode.leftchild\n",
    "            elif curNode.key < new_node.key:\n",
    "                curNode = curNode.rightchild\n",
    "        curNode = new_node\n",
    "        if self.root == None:\n",
    "            self.root = new_node\n",
    "            return True\n",
    "        elif parentNode.key > curNode.key:\n",
    "            parentNode.leftchild = curNode\n",
    "        else:\n",
    "            parentNode.rightchild = curNode\n",
    "        return True\n",
    "    def findKeyTreeNode(self, key):\n",
    "        return self.findKeyTreeNodeRecursive(self.root, key)\n",
    "    def findKeyTreeNodeRecursive(self, curNode, key):\n",
    "        if curNode == None:\n",
    "            print(\"Find nothing.\")\n",
    "            return None\n",
    "        if curNode.key == key:\n",
    "            return curNode\n",
    "        elif curNode.key > key:\n",
    "            return self.findKeyTreeNodeRecursive(curNode.leftchild, key)\n",
    "        elif curNode.key < key:\n",
    "            return self.findKeyTreeNodeRecursive(curNode.rightchild, key)\n",
    "        \n",
    "nodes = [33,78,11,48,20,55,35,99,9]\n",
    "tree = booleanTree()\n",
    "for i in nodes:\n",
    "    if i == 35:\n",
    "        a = TreeNode(i)\n",
    "        a.yee = 87\n",
    "        tree.insert_new(a)\n",
    "        print(\"set yee value to %d at the key %d\"%(a.yee, a.key))\n",
    "        continue\n",
    "    tree.insert_new(TreeNode(i))\n",
    "\n",
    "print(\"==Searching==\")\n",
    "print(\"key %d have a yee value %d\"%(tree.findKeyTreeNode(35).key, tree.findKeyTreeNode(35).yee))"
   ]
  },
  {
   "cell_type": "code",
   "execution_count": 59,
   "metadata": {
    "ExecuteTime": {
     "end_time": "2019-11-18T03:16:02.141793Z",
     "start_time": "2019-11-18T03:16:02.132838Z"
    }
   },
   "outputs": [
    {
     "name": "stdout",
     "output_type": "stream",
     "text": [
      "set yee value to 87 at the key 35\n",
      "== Searching ==\n",
      "key 35 have a yee value 87\n",
      "None\n"
     ]
    }
   ],
   "source": [
    "#作業05-08\n",
    "class TreeNode:\n",
    "    def __init__(self, key, leftchild = None, rightchild = None):\n",
    "        self.key = key\n",
    "        self.leftchild = leftchild\n",
    "        self.rightchild = rightchild\n",
    "\n",
    "class booleanTree:\n",
    "    def __init__(self):\n",
    "        self.root = None\n",
    "        pass\n",
    "    def insert_new(self, new_node):\n",
    "        curNode = self.root\n",
    "        parentNode = None\n",
    "        while(curNode != None):\n",
    "            parentNode = curNode\n",
    "            if curNode.key == new_node.key:\n",
    "                print(\"Can't put same value\")\n",
    "                return False\n",
    "            elif curNode.key > new_node.key:\n",
    "                curNode = curNode.leftchild\n",
    "            elif curNode.key < new_node.key:\n",
    "                curNode = curNode.rightchild\n",
    "        curNode = new_node\n",
    "        if self.root == None:\n",
    "            self.root = new_node\n",
    "            return True\n",
    "        elif parentNode.key > curNode.key:\n",
    "            parentNode.leftchild = curNode\n",
    "        else:\n",
    "            parentNode.rightchild = curNode\n",
    "        return True\n",
    "    def findKeyTreeNode(self, key):\n",
    "        curNode = self.root\n",
    "        while(curNode != None):\n",
    "            if curNode.key == key:\n",
    "                break\n",
    "            elif curNode.key > key:\n",
    "                curNode = curNode.leftchild\n",
    "            elif curNode.key < key:\n",
    "                curNode = curNode.rightchild\n",
    "        return curNode\n",
    "    \n",
    "        \n",
    "nodes = [33,78,11,48,20,55,35,99,9]\n",
    "tree = booleanTree()\n",
    "for i in nodes:\n",
    "    if i == 35:\n",
    "        a = TreeNode(i)\n",
    "        a.yee = 87\n",
    "        print(\"set yee value to %d at the key %d\"%(a.yee, a.key))\n",
    "        tree.insert_new(a)\n",
    "        continue\n",
    "    tree.insert_new(TreeNode(i))\n",
    "\n",
    "print(\"== Searching ==\")\n",
    "print(\"key %d have a yee value %d\"%(tree.findKeyTreeNode(35).key, tree.findKeyTreeNode(35).yee))\n",
    "print(tree.findKeyTreeNode(87))"
   ]
  },
  {
   "cell_type": "code",
   "execution_count": 73,
   "metadata": {
    "ExecuteTime": {
     "end_time": "2019-11-18T10:16:29.339028Z",
     "start_time": "2019-11-18T10:16:29.333825Z"
    }
   },
   "outputs": [
    {
     "data": {
      "text/plain": [
       "True"
      ]
     },
     "execution_count": 73,
     "metadata": {},
     "output_type": "execute_result"
    }
   ],
   "source": [
    "True or False"
   ]
  },
  {
   "cell_type": "code",
   "execution_count": 75,
   "metadata": {
    "ExecuteTime": {
     "end_time": "2019-11-18T10:18:10.909091Z",
     "start_time": "2019-11-18T10:18:10.899871Z"
    }
   },
   "outputs": [
    {
     "data": {
      "text/plain": [
       "1"
      ]
     },
     "execution_count": 75,
     "metadata": {},
     "output_type": "execute_result"
    }
   ],
   "source": [
    "int(3/2)"
   ]
  },
  {
   "cell_type": "code",
   "execution_count": 235,
   "metadata": {
    "ExecuteTime": {
     "end_time": "2019-11-18T11:02:29.440268Z",
     "start_time": "2019-11-18T11:02:29.429398Z"
    }
   },
   "outputs": [
    {
     "name": "stdout",
     "output_type": "stream",
     "text": [
      "[5, 3, 4, 0, 2, 1]\n",
      "6 6 True\n",
      "pop out 5\n",
      "[4, 3, 1, 0, 2, None]\n",
      "4\n",
      "3\n",
      "2\n",
      "1\n",
      "0\n",
      "Can't pop, is Empty\n",
      "None\n"
     ]
    }
   ],
   "source": [
    "#作業5-9\n",
    "class MaxHeap:\n",
    "    def __init__(self, capacity):\n",
    "        self.capacity = capacity\n",
    "        self.array = [None] * (capacity)\n",
    "        self.heapsize = 0\n",
    "        \n",
    "    def isEmpty(self):\n",
    "        return self.heapsize == 0\n",
    "    \n",
    "    def isFull(self):\n",
    "        return self.capacity == self.heapsize\n",
    "    \n",
    "    def push(self, new):\n",
    "        if self.isFull():\n",
    "            print(\"already Full\")\n",
    "            return False\n",
    "        if new in self.array:\n",
    "            print(\"Error: already have a same key value\")\n",
    "            return False\n",
    "        self.heapsize += 1\n",
    "        curIndex = self.heapsize\n",
    "        if self.isEmpty() == False:\n",
    "            while(curIndex!=1 and self.array[int(curIndex/2)-1] < new):\n",
    "                self.array[curIndex-1] = self.array[int(curIndex/2)-1]\n",
    "                curIndex = int(curIndex/2)\n",
    "        self.array[curIndex-1] = new\n",
    "        \n",
    "    def pop(self):\n",
    "        if self.isEmpty():\n",
    "            print(\"Can't pop, is Empty\")\n",
    "            return None\n",
    "        out = self.array[0]\n",
    "        lastNode = self.array[self.heapsize - 1]\n",
    "        self.array[self.heapsize - 1] = None\n",
    "        self.heapsize -= 1\n",
    "        curNode = 1\n",
    "        child = curNode * 2\n",
    "        while (child <=self.heapsize):\n",
    "            biggest = self.array[curNode-1]\n",
    "            target = curNode\n",
    "            if child < self.heapsize and self.array[child - 1] < self.array[child + 1 - 1]:\n",
    "                child += 1\n",
    "            if self.array[child - 1] > lastNode:\n",
    "                self.array[curNode - 1] = self.array[child - 1]\n",
    "                curNode = child\n",
    "                child = child * 2\n",
    "            else:\n",
    "                break\n",
    "        self.array[curNode - 1] = lastNode\n",
    "        return out\n",
    "\n",
    "k = 6\n",
    "a = MaxHeap(k)\n",
    "\n",
    "for i in range(k):\n",
    "    a.push(i)\n",
    "\n",
    "print(a.array)\n",
    "\n",
    "print(a.heapsize, a.capacity, a.isFull())\n",
    "\n",
    "print(\"pop out\", a.pop())\n",
    "print(a.array)\n",
    "\n",
    "for i in range(k):\n",
    "    print(a.pop())"
   ]
  },
  {
   "cell_type": "code",
   "execution_count": 234,
   "metadata": {
    "ExecuteTime": {
     "end_time": "2019-11-18T11:01:32.543618Z",
     "start_time": "2019-11-18T11:01:32.538406Z"
    }
   },
   "outputs": [
    {
     "data": {
      "text/plain": [
       "[4, 3, 4, 0, 2, None]"
      ]
     },
     "execution_count": 234,
     "metadata": {},
     "output_type": "execute_result"
    }
   ],
   "source": [
    "a.array"
   ]
  },
  {
   "cell_type": "code",
   "execution_count": null,
   "metadata": {},
   "outputs": [],
   "source": []
  }
 ],
 "metadata": {
  "hide_input": false,
  "kernelspec": {
   "display_name": "Python 3",
   "language": "python",
   "name": "python3"
  },
  "language_info": {
   "codemirror_mode": {
    "name": "ipython",
    "version": 3
   },
   "file_extension": ".py",
   "mimetype": "text/x-python",
   "name": "python",
   "nbconvert_exporter": "python",
   "pygments_lexer": "ipython3",
   "version": "3.6.9"
  },
  "varInspector": {
   "cols": {
    "lenName": 16,
    "lenType": 16,
    "lenVar": 40
   },
   "kernels_config": {
    "python": {
     "delete_cmd_postfix": "",
     "delete_cmd_prefix": "del ",
     "library": "var_list.py",
     "varRefreshCmd": "print(var_dic_list())"
    },
    "r": {
     "delete_cmd_postfix": ") ",
     "delete_cmd_prefix": "rm(",
     "library": "var_list.r",
     "varRefreshCmd": "cat(var_dic_list()) "
    }
   },
   "types_to_exclude": [
    "module",
    "function",
    "builtin_function_or_method",
    "instance",
    "_Feature"
   ],
   "window_display": false
  }
 },
 "nbformat": 4,
 "nbformat_minor": 2
}
