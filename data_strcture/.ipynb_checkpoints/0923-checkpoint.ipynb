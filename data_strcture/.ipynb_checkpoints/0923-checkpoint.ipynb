{
 "cells": [
  {
   "cell_type": "code",
   "execution_count": 225,
   "metadata": {
    "ExecuteTime": {
     "end_time": "2019-09-23T15:10:22.845504Z",
     "start_time": "2019-09-23T15:10:22.839284Z"
    }
   },
   "outputs": [],
   "source": [
    "i = 0"
   ]
  },
  {
   "cell_type": "code",
   "execution_count": 1,
   "metadata": {
    "ExecuteTime": {
     "end_time": "2019-09-23T15:43:59.281228Z",
     "start_time": "2019-09-23T15:43:59.275147Z"
    }
   },
   "outputs": [],
   "source": [
    "from numpy import array"
   ]
  },
  {
   "cell_type": "code",
   "execution_count": 227,
   "metadata": {
    "ExecuteTime": {
     "end_time": "2019-09-23T15:10:23.261259Z",
     "start_time": "2019-09-23T15:10:23.248566Z"
    }
   },
   "outputs": [
    {
     "data": {
      "text/plain": [
       "array([[1, 3, 5],\n",
       "       [2, 4, 6]])"
      ]
     },
     "execution_count": 227,
     "metadata": {},
     "output_type": "execute_result"
    }
   ],
   "source": [
    "array([[1,3,5],[2,4,6]])"
   ]
  },
  {
   "cell_type": "code",
   "execution_count": 228,
   "metadata": {
    "ExecuteTime": {
     "end_time": "2019-09-23T15:10:23.441756Z",
     "start_time": "2019-09-23T15:10:23.432505Z"
    }
   },
   "outputs": [
    {
     "data": {
      "text/plain": [
       "array([], dtype=float64)"
      ]
     },
     "execution_count": 228,
     "metadata": {},
     "output_type": "execute_result"
    }
   ],
   "source": [
    "array([])"
   ]
  },
  {
   "cell_type": "code",
   "execution_count": 229,
   "metadata": {
    "ExecuteTime": {
     "end_time": "2019-09-23T15:10:23.900757Z",
     "start_time": "2019-09-23T15:10:23.895205Z"
    }
   },
   "outputs": [],
   "source": [
    "import numpy"
   ]
  },
  {
   "cell_type": "code",
   "execution_count": 230,
   "metadata": {
    "ExecuteTime": {
     "end_time": "2019-09-23T15:10:24.259840Z",
     "start_time": "2019-09-23T15:10:24.248622Z"
    }
   },
   "outputs": [
    {
     "data": {
      "text/plain": [
       "array([[0., 0., 0.],\n",
       "       [0., 0., 0.]])"
      ]
     },
     "execution_count": 230,
     "metadata": {},
     "output_type": "execute_result"
    }
   ],
   "source": [
    "#二成三的矩陣 row is 2\n",
    "numpy.zeros((2,3))"
   ]
  },
  {
   "cell_type": "code",
   "execution_count": 231,
   "metadata": {
    "ExecuteTime": {
     "end_time": "2019-09-23T15:10:24.738097Z",
     "start_time": "2019-09-23T15:10:24.732393Z"
    }
   },
   "outputs": [
    {
     "data": {
      "text/plain": [
       "[[0, 0, 0], [0, 0, 0]]"
      ]
     },
     "execution_count": 231,
     "metadata": {},
     "output_type": "execute_result"
    }
   ],
   "source": [
    "#要用三在裡面\n",
    "[[0]*3]*2"
   ]
  },
  {
   "cell_type": "code",
   "execution_count": 232,
   "metadata": {
    "ExecuteTime": {
     "end_time": "2019-09-23T15:10:25.184518Z",
     "start_time": "2019-09-23T15:10:25.180648Z"
    }
   },
   "outputs": [
    {
     "data": {
      "text/plain": [
       "array([[1, 1, 1, 1, 1],\n",
       "       [1, 1, 1, 1, 1]])"
      ]
     },
     "execution_count": 232,
     "metadata": {},
     "output_type": "execute_result"
    }
   ],
   "source": [
    "a = numpy.ones((2,5)).astype(int)\n",
    "a"
   ]
  },
  {
   "cell_type": "code",
   "execution_count": 233,
   "metadata": {
    "ExecuteTime": {
     "end_time": "2019-09-23T15:10:25.458295Z",
     "start_time": "2019-09-23T15:10:25.448863Z"
    }
   },
   "outputs": [
    {
     "data": {
      "text/plain": [
       "10"
      ]
     },
     "execution_count": 233,
     "metadata": {},
     "output_type": "execute_result"
    }
   ],
   "source": [
    "a.sum()"
   ]
  },
  {
   "cell_type": "code",
   "execution_count": 234,
   "metadata": {
    "ExecuteTime": {
     "end_time": "2019-09-23T15:10:25.657046Z",
     "start_time": "2019-09-23T15:10:25.647188Z"
    }
   },
   "outputs": [
    {
     "data": {
      "text/plain": [
       "0.0"
      ]
     },
     "execution_count": 234,
     "metadata": {},
     "output_type": "execute_result"
    }
   ],
   "source": [
    "a.std()"
   ]
  },
  {
   "cell_type": "code",
   "execution_count": 235,
   "metadata": {
    "ExecuteTime": {
     "end_time": "2019-09-23T15:10:25.861484Z",
     "start_time": "2019-09-23T15:10:25.855721Z"
    }
   },
   "outputs": [],
   "source": [
    "import numpy as n"
   ]
  },
  {
   "cell_type": "code",
   "execution_count": 236,
   "metadata": {
    "ExecuteTime": {
     "end_time": "2019-09-23T15:10:26.037457Z",
     "start_time": "2019-09-23T15:10:26.031096Z"
    }
   },
   "outputs": [],
   "source": [
    "b = [i]*89"
   ]
  },
  {
   "cell_type": "code",
   "execution_count": 237,
   "metadata": {
    "ExecuteTime": {
     "end_time": "2019-09-23T15:10:26.190949Z",
     "start_time": "2019-09-23T15:10:26.188278Z"
    }
   },
   "outputs": [
    {
     "data": {
      "text/plain": [
       "89"
      ]
     },
     "execution_count": 237,
     "metadata": {},
     "output_type": "execute_result"
    }
   ],
   "source": [
    "len(b)"
   ]
  },
  {
   "cell_type": "code",
   "execution_count": 238,
   "metadata": {
    "ExecuteTime": {
     "end_time": "2019-09-23T15:10:26.349898Z",
     "start_time": "2019-09-23T15:10:26.343605Z"
    }
   },
   "outputs": [],
   "source": [
    "c = [5] *954"
   ]
  },
  {
   "cell_type": "code",
   "execution_count": 239,
   "metadata": {
    "ExecuteTime": {
     "end_time": "2019-09-23T15:10:26.487618Z",
     "start_time": "2019-09-23T15:10:26.478877Z"
    }
   },
   "outputs": [
    {
     "data": {
      "text/plain": [
       "954"
      ]
     },
     "execution_count": 239,
     "metadata": {},
     "output_type": "execute_result"
    }
   ],
   "source": [
    "len(c)"
   ]
  },
  {
   "cell_type": "code",
   "execution_count": 240,
   "metadata": {
    "ExecuteTime": {
     "end_time": "2019-09-23T15:10:26.637484Z",
     "start_time": "2019-09-23T15:10:26.635837Z"
    }
   },
   "outputs": [],
   "source": [
    "a = np.arange(5)"
   ]
  },
  {
   "cell_type": "code",
   "execution_count": 241,
   "metadata": {
    "ExecuteTime": {
     "end_time": "2019-09-23T15:10:26.765491Z",
     "start_time": "2019-09-23T15:10:26.758956Z"
    }
   },
   "outputs": [],
   "source": [
    "\n",
    "a[3] = str(45)"
   ]
  },
  {
   "cell_type": "code",
   "execution_count": 242,
   "metadata": {
    "ExecuteTime": {
     "end_time": "2019-09-23T15:10:26.911907Z",
     "start_time": "2019-09-23T15:10:26.902410Z"
    }
   },
   "outputs": [
    {
     "data": {
      "text/plain": [
       "array([ 0,  1,  2, 45,  4])"
      ]
     },
     "execution_count": 242,
     "metadata": {},
     "output_type": "execute_result"
    }
   ],
   "source": [
    "a"
   ]
  },
  {
   "cell_type": "code",
   "execution_count": 243,
   "metadata": {
    "ExecuteTime": {
     "end_time": "2019-09-23T15:10:27.052449Z",
     "start_time": "2019-09-23T15:10:27.046352Z"
    }
   },
   "outputs": [],
   "source": [
    "a = a.astype(str)"
   ]
  },
  {
   "cell_type": "code",
   "execution_count": 244,
   "metadata": {
    "ExecuteTime": {
     "end_time": "2019-09-23T15:10:27.198303Z",
     "start_time": "2019-09-23T15:10:27.195708Z"
    }
   },
   "outputs": [
    {
     "data": {
      "text/plain": [
       "'451'"
      ]
     },
     "execution_count": 244,
     "metadata": {},
     "output_type": "execute_result"
    }
   ],
   "source": [
    "a[3] + '1'"
   ]
  },
  {
   "cell_type": "code",
   "execution_count": 245,
   "metadata": {
    "ExecuteTime": {
     "end_time": "2019-09-23T15:10:27.355297Z",
     "start_time": "2019-09-23T15:10:27.334935Z"
    }
   },
   "outputs": [
    {
     "ename": "IndexError",
     "evalue": "index 5 is out of bounds for axis 0 with size 5",
     "output_type": "error",
     "traceback": [
      "\u001b[0;31m---------------------------------------------------------\u001b[0m",
      "\u001b[0;31mIndexError\u001b[0m              Traceback (most recent call last)",
      "\u001b[0;32m<ipython-input-245-0e91b26594a0>\u001b[0m in \u001b[0;36m<module>\u001b[0;34m\u001b[0m\n\u001b[0;32m----> 1\u001b[0;31m \u001b[0ma\u001b[0m\u001b[0;34m[\u001b[0m\u001b[0;36m5\u001b[0m\u001b[0;34m]\u001b[0m \u001b[0;34m=\u001b[0m \u001b[0;36m3\u001b[0m\u001b[0;34m\u001b[0m\u001b[0;34m\u001b[0m\u001b[0m\n\u001b[0m",
      "\u001b[0;31mIndexError\u001b[0m: index 5 is out of bounds for axis 0 with size 5"
     ]
    }
   ],
   "source": [
    "a[5] = 3"
   ]
  },
  {
   "cell_type": "code",
   "execution_count": 246,
   "metadata": {
    "ExecuteTime": {
     "end_time": "2019-09-23T15:10:27.474372Z",
     "start_time": "2019-09-23T15:10:27.465115Z"
    }
   },
   "outputs": [
    {
     "data": {
      "text/plain": [
       "array(['0', '1', '2', '45', '4'], dtype='<U21')"
      ]
     },
     "execution_count": 246,
     "metadata": {},
     "output_type": "execute_result"
    }
   ],
   "source": [
    "a"
   ]
  },
  {
   "cell_type": "code",
   "execution_count": 247,
   "metadata": {
    "ExecuteTime": {
     "end_time": "2019-09-23T15:10:27.597289Z",
     "start_time": "2019-09-23T15:10:27.591414Z"
    }
   },
   "outputs": [],
   "source": [
    "a = [1]*80"
   ]
  },
  {
   "cell_type": "code",
   "execution_count": 248,
   "metadata": {
    "ExecuteTime": {
     "end_time": "2019-09-23T15:10:27.736812Z",
     "start_time": "2019-09-23T15:10:27.727276Z"
    }
   },
   "outputs": [
    {
     "data": {
      "text/plain": [
       "10.0"
      ]
     },
     "execution_count": 248,
     "metadata": {},
     "output_type": "execute_result"
    }
   ],
   "source": [
    "len(a)/8"
   ]
  },
  {
   "cell_type": "code",
   "execution_count": 249,
   "metadata": {
    "ExecuteTime": {
     "end_time": "2019-09-23T15:10:28.468105Z",
     "start_time": "2019-09-23T15:10:28.462986Z"
    }
   },
   "outputs": [],
   "source": [
    "b = [[0]*8]*10\n",
    "for i in range(len(a)):\n",
    "    a[i]"
   ]
  },
  {
   "cell_type": "code",
   "execution_count": null,
   "metadata": {
    "ExecuteTime": {
     "end_time": "2019-09-23T03:05:28.828202Z",
     "start_time": "2019-09-23T03:05:28.825657Z"
    }
   },
   "outputs": [],
   "source": []
  },
  {
   "cell_type": "code",
   "execution_count": null,
   "metadata": {},
   "outputs": [],
   "source": []
  },
  {
   "cell_type": "code",
   "execution_count": 250,
   "metadata": {
    "ExecuteTime": {
     "end_time": "2019-09-23T15:10:32.589963Z",
     "start_time": "2019-09-23T15:10:32.581099Z"
    }
   },
   "outputs": [
    {
     "name": "stdout",
     "output_type": "stream",
     "text": [
      "0, 1, 2, 3, 4, 5, 6, 7, 8, 9, 10, 11, 12, 13, 14, 15, 16, 17, 18, 19, 20, 21, 22, 23, 24, 25, 26, 27, 28, 29, 30, 31, 32, 33, 34, 35, 36, 37, 38, 39, 40, 41, 42, 43, 44, 45, 46, 47, 48, 49, 50, 51, 52, 53, 54, 55, 56, 57, 58, 59, 60, 61, 62, 63, 64, 65, 66, 67, 68, 69, 70, 71, 72, 73, 74, 75, 76, 77, 78, 79, "
     ]
    }
   ],
   "source": [
    "b = [[0]*8]*10\n",
    "for i in range(len(b)):\n",
    "    for j in range(len(b[0])):\n",
    "        index = i*len(b[0]) + j\n",
    "        b[i][j] = a[index]\n",
    "        print(index, end = ', ')"
   ]
  },
  {
   "cell_type": "code",
   "execution_count": 251,
   "metadata": {
    "ExecuteTime": {
     "end_time": "2019-09-23T15:10:34.683247Z",
     "start_time": "2019-09-23T15:10:34.677622Z"
    }
   },
   "outputs": [
    {
     "data": {
      "text/plain": [
       "10"
      ]
     },
     "execution_count": 251,
     "metadata": {},
     "output_type": "execute_result"
    }
   ],
   "source": [
    "len(b)"
   ]
  },
  {
   "cell_type": "code",
   "execution_count": 252,
   "metadata": {
    "ExecuteTime": {
     "end_time": "2019-09-23T15:10:36.485881Z",
     "start_time": "2019-09-23T15:10:36.479992Z"
    }
   },
   "outputs": [
    {
     "data": {
      "text/plain": [
       "[[1, 1, 1, 1, 1, 1, 1, 1],\n",
       " [1, 1, 1, 1, 1, 1, 1, 1],\n",
       " [1, 1, 1, 1, 1, 1, 1, 1],\n",
       " [1, 1, 1, 1, 1, 1, 1, 1],\n",
       " [1, 1, 1, 1, 1, 1, 1, 1],\n",
       " [1, 1, 1, 1, 1, 1, 1, 1],\n",
       " [1, 1, 1, 1, 1, 1, 1, 1],\n",
       " [1, 1, 1, 1, 1, 1, 1, 1],\n",
       " [1, 1, 1, 1, 1, 1, 1, 1],\n",
       " [1, 1, 1, 1, 1, 1, 1, 1]]"
      ]
     },
     "execution_count": 252,
     "metadata": {},
     "output_type": "execute_result"
    }
   ],
   "source": [
    "b"
   ]
  },
  {
   "cell_type": "code",
   "execution_count": 253,
   "metadata": {
    "ExecuteTime": {
     "end_time": "2019-09-23T15:10:36.701807Z",
     "start_time": "2019-09-23T15:10:36.699374Z"
    }
   },
   "outputs": [
    {
     "data": {
      "text/plain": [
       "8"
      ]
     },
     "execution_count": 253,
     "metadata": {},
     "output_type": "execute_result"
    }
   ],
   "source": [
    "len(b[0])"
   ]
  },
  {
   "cell_type": "code",
   "execution_count": 254,
   "metadata": {
    "ExecuteTime": {
     "end_time": "2019-09-23T15:10:37.024232Z",
     "start_time": "2019-09-23T15:10:37.014911Z"
    }
   },
   "outputs": [
    {
     "data": {
      "text/plain": [
       "6"
      ]
     },
     "execution_count": 254,
     "metadata": {},
     "output_type": "execute_result"
    }
   ],
   "source": [
    "2*3"
   ]
  },
  {
   "cell_type": "code",
   "execution_count": 47,
   "metadata": {
    "ExecuteTime": {
     "end_time": "2019-09-24T02:07:15.335669Z",
     "start_time": "2019-09-24T02:07:15.328135Z"
    }
   },
   "outputs": [],
   "source": [
    "class Matrix:\n",
    "    def __init__(self, matrix):\n",
    "        try: \n",
    "            self.columns = len(matrix[0])\n",
    "            self.rows = len(matrix)\n",
    "        except TypeError:\n",
    "            raise TypeError(\"Must be a matrix\")\n",
    "        self.matrix = matrix\n",
    "    def multiply(self, secondMatrix):\n",
    "        #確認大小正確\n",
    "        if secondMatrix.rows != self.columns:\n",
    "            raise TypeError(\"Can't do it wile different size\")\n",
    "        \n",
    "        #out_matrix = Matrix([[0] * secondMatrix.columns] * self.rows)\n",
    "        out_matrix = []\n",
    "        for i in range(self.rows):\n",
    "            in_matrix = []\n",
    "            for j in range(secondMatrix.columns):\n",
    "                out_sum = 0\n",
    "                for k in range(self.columns):\n",
    "                    out_sum += self.matrix[i][k] * secondMatrix.matrix[k][j]\n",
    "                    #print(\"%d * %d = %d, out_sum = %d\"%(self.matrix[i][k], secondMatrix.matrix[k][j], self.matrix[i][k] * secondMatrix.matrix[k][j], out_sum))\n",
    "                #print(\"during get num, j = %d, i = %d, out sum = %d\"%(j,i,out_sum))\n",
    "                #out_matrix.matrix[i][j] = out_sum #這行有BUG #應該是Python的問題\n",
    "                in_matrix.append(out_sum)\n",
    "            out_matrix.append(in_matrix)\n",
    "        return out_matrix\n",
    "\n",
    "    \n",
    "t = [[1,5,9], [7,8,4]]\n",
    "t2 = [[1,5],[7,8],[9,1]]\n",
    "\n",
    "t2 = Matrix(t2)\n",
    "t = Matrix(t)\n",
    "\n",
    "t2.matrix\n",
    "t.multiply(t2)\n",
    "\n",
    "#次數BigO\n",
    "'''x = self_row\n",
    "y = self_col\n",
    "z = secondMatrix.col\n",
    "\n",
    "x(z(y))+3'''\n",
    "pass"
   ]
  },
  {
   "cell_type": "code",
   "execution_count": 43,
   "metadata": {
    "ExecuteTime": {
     "end_time": "2019-09-24T02:06:23.087843Z",
     "start_time": "2019-09-24T02:06:23.081265Z"
    }
   },
   "outputs": [
    {
     "data": {
      "text/plain": [
       "[[117, 54], [99, 103]]"
      ]
     },
     "execution_count": 43,
     "metadata": {},
     "output_type": "execute_result"
    }
   ],
   "source": [
    "t = [[1,5,9], [7,8,4]]\n",
    "t2 = [[1,5],[7,8],[9,1]]\n",
    "\n",
    "t2 = Matrix(t2)\n",
    "t = Matrix(t)\n",
    "\n",
    "t2.matrix\n",
    "t.multiply(t2)"
   ]
  },
  {
   "cell_type": "code",
   "execution_count": 35,
   "metadata": {
    "ExecuteTime": {
     "end_time": "2019-09-24T02:06:13.527597Z",
     "start_time": "2019-09-24T02:06:13.512669Z"
    }
   },
   "outputs": [
    {
     "data": {
      "text/plain": [
       "[[5, -19, 30], [4, -10, 24]]"
      ]
     },
     "execution_count": 35,
     "metadata": {},
     "output_type": "execute_result"
    }
   ],
   "source": [
    "t = [[2, 5], [-1, 4]]\n",
    "t2 = [[0,-2,0], [1,-3, 6]]\n",
    "\n",
    "t2 = Matrix(t2)\n",
    "t = Matrix(t)\n",
    "\n",
    "t2.matrix\n",
    "t.multiply(t2)"
   ]
  },
  {
   "cell_type": "code",
   "execution_count": 36,
   "metadata": {
    "ExecuteTime": {
     "end_time": "2019-09-24T02:06:13.682309Z",
     "start_time": "2019-09-24T02:06:13.663144Z"
    }
   },
   "outputs": [
    {
     "ename": "NameError",
     "evalue": "name 'out_mat' is not defined",
     "output_type": "error",
     "traceback": [
      "\u001b[0;31m---------------------------------------------------------\u001b[0m",
      "\u001b[0;31mNameError\u001b[0m               Traceback (most recent call last)",
      "\u001b[0;32m<ipython-input-36-27a07b3205d5>\u001b[0m in \u001b[0;36m<module>\u001b[0;34m\u001b[0m\n\u001b[0;32m----> 1\u001b[0;31m \u001b[0mlen\u001b[0m\u001b[0;34m(\u001b[0m\u001b[0mout_mat\u001b[0m\u001b[0;34m)\u001b[0m\u001b[0;34m\u001b[0m\u001b[0;34m\u001b[0m\u001b[0m\n\u001b[0m",
      "\u001b[0;31mNameError\u001b[0m: name 'out_mat' is not defined"
     ]
    }
   ],
   "source": [
    "len(out_mat)"
   ]
  },
  {
   "cell_type": "code",
   "execution_count": 37,
   "metadata": {
    "ExecuteTime": {
     "end_time": "2019-09-24T02:06:14.299940Z",
     "start_time": "2019-09-24T02:06:14.294299Z"
    }
   },
   "outputs": [
    {
     "data": {
      "text/plain": [
       "[[117, 54], [99, 103]]"
      ]
     },
     "execution_count": 37,
     "metadata": {},
     "output_type": "execute_result"
    }
   ],
   "source": [
    "a = []\n",
    "a.append([117, 54])\n",
    "a.append([99,103])\n",
    "a"
   ]
  },
  {
   "cell_type": "code",
   "execution_count": 38,
   "metadata": {
    "ExecuteTime": {
     "end_time": "2019-09-24T02:06:15.057684Z",
     "start_time": "2019-09-24T02:06:15.052054Z"
    }
   },
   "outputs": [
    {
     "data": {
      "text/plain": [
       "103"
      ]
     },
     "execution_count": 38,
     "metadata": {},
     "output_type": "execute_result"
    }
   ],
   "source": [
    "a[1][1]"
   ]
  },
  {
   "cell_type": "code",
   "execution_count": 39,
   "metadata": {
    "ExecuteTime": {
     "end_time": "2019-09-24T02:06:15.351829Z",
     "start_time": "2019-09-24T02:06:15.345670Z"
    }
   },
   "outputs": [],
   "source": [
    "a[1][1] = 5"
   ]
  },
  {
   "cell_type": "code",
   "execution_count": 40,
   "metadata": {
    "ExecuteTime": {
     "end_time": "2019-09-24T02:06:15.633419Z",
     "start_time": "2019-09-24T02:06:15.628035Z"
    }
   },
   "outputs": [
    {
     "data": {
      "text/plain": [
       "[[117, 54], [99, 5]]"
      ]
     },
     "execution_count": 40,
     "metadata": {},
     "output_type": "execute_result"
    }
   ],
   "source": [
    "a"
   ]
  },
  {
   "cell_type": "code",
   "execution_count": 44,
   "metadata": {
    "ExecuteTime": {
     "end_time": "2019-09-24T02:06:33.484669Z",
     "start_time": "2019-09-24T02:06:33.478495Z"
    }
   },
   "outputs": [],
   "source": [
    "out_mat = t.multiply(t2)"
   ]
  },
  {
   "cell_type": "code",
   "execution_count": 45,
   "metadata": {
    "ExecuteTime": {
     "end_time": "2019-09-24T02:06:33.885208Z",
     "start_time": "2019-09-24T02:06:33.879546Z"
    }
   },
   "outputs": [
    {
     "data": {
      "text/plain": [
       "[[117, 54], [99, 103]]"
      ]
     },
     "execution_count": 45,
     "metadata": {},
     "output_type": "execute_result"
    }
   ],
   "source": [
    "out_mat"
   ]
  },
  {
   "cell_type": "code",
   "execution_count": 496,
   "metadata": {
    "ExecuteTime": {
     "end_time": "2019-09-23T15:43:37.537551Z",
     "start_time": "2019-09-23T15:43:37.534714Z"
    }
   },
   "outputs": [
    {
     "data": {
      "text/plain": [
       "[[[117, 108]], [[99, 103]]]"
      ]
     },
     "execution_count": 496,
     "metadata": {},
     "output_type": "execute_result"
    }
   ],
   "source": [
    "out_mat[0][0][1] = 108\n",
    "out_mat"
   ]
  },
  {
   "cell_type": "code",
   "execution_count": 144,
   "metadata": {
    "ExecuteTime": {
     "end_time": "2019-09-23T03:38:56.524151Z",
     "start_time": "2019-09-23T03:38:56.521217Z"
    }
   },
   "outputs": [
    {
     "data": {
      "text/plain": [
       "0"
      ]
     },
     "execution_count": 144,
     "metadata": {},
     "output_type": "execute_result"
    }
   ],
   "source": [
    "matrix = Matrix([[0]*3]*4)\n",
    "matrix.matrix[1][2]"
   ]
  },
  {
   "cell_type": "code",
   "execution_count": 145,
   "metadata": {
    "ExecuteTime": {
     "end_time": "2019-09-23T03:39:03.004859Z",
     "start_time": "2019-09-23T03:39:03.002230Z"
    }
   },
   "outputs": [
    {
     "data": {
      "text/plain": [
       "[[0, 0, 0], [0, 0, 0], [0, 0, 0], [0, 0, 0]]"
      ]
     },
     "execution_count": 145,
     "metadata": {},
     "output_type": "execute_result"
    }
   ],
   "source": [
    "matrix.matrix"
   ]
  },
  {
   "cell_type": "code",
   "execution_count": 140,
   "metadata": {
    "ExecuteTime": {
     "end_time": "2019-09-23T03:36:20.135046Z",
     "start_time": "2019-09-23T03:36:20.132331Z"
    }
   },
   "outputs": [
    {
     "data": {
      "text/plain": [
       "[[0, 0, 0, 0, 0], [0, 0, 0, 0, 0], [0, 0, 0, 0, 0]]"
      ]
     },
     "execution_count": 140,
     "metadata": {},
     "output_type": "execute_result"
    }
   ],
   "source": [
    "matrix2 = Matrix([[0]*5]*3)\n",
    "matrix2.matrix"
   ]
  },
  {
   "cell_type": "code",
   "execution_count": 141,
   "metadata": {
    "ExecuteTime": {
     "end_time": "2019-09-23T03:36:25.794189Z",
     "start_time": "2019-09-23T03:36:25.791355Z"
    }
   },
   "outputs": [
    {
     "data": {
      "text/plain": [
       "[[0, 0, 0, 0], [0, 0, 0, 0], [0, 0, 0, 0], [0, 0, 0, 0], [0, 0, 0, 0]]"
      ]
     },
     "execution_count": 141,
     "metadata": {},
     "output_type": "execute_result"
    }
   ],
   "source": [
    "matrix.multiply(matrix2).matrix"
   ]
  },
  {
   "cell_type": "code",
   "execution_count": 106,
   "metadata": {
    "ExecuteTime": {
     "end_time": "2019-09-23T03:18:11.055014Z",
     "start_time": "2019-09-23T03:18:11.052730Z"
    }
   },
   "outputs": [
    {
     "data": {
      "text/plain": [
       "5"
      ]
     },
     "execution_count": 106,
     "metadata": {},
     "output_type": "execute_result"
    }
   ],
   "source": [
    "matrix.matrix.count([0]*3)"
   ]
  },
  {
   "cell_type": "code",
   "execution_count": 108,
   "metadata": {
    "ExecuteTime": {
     "end_time": "2019-09-23T03:18:21.225192Z",
     "start_time": "2019-09-23T03:18:21.222681Z"
    }
   },
   "outputs": [
    {
     "data": {
      "text/plain": [
       "15"
      ]
     },
     "execution_count": 108,
     "metadata": {},
     "output_type": "execute_result"
    }
   ],
   "source": [
    "matrix.rows * matrix.columns"
   ]
  },
  {
   "cell_type": "code",
   "execution_count": null,
   "metadata": {},
   "outputs": [],
   "source": []
  },
  {
   "cell_type": "code",
   "execution_count": 12,
   "metadata": {
    "ExecuteTime": {
     "end_time": "2019-09-24T02:12:36.096859Z",
     "start_time": "2019-09-24T02:12:36.090844Z"
    }
   },
   "outputs": [
    {
     "data": {
      "text/plain": [
       "array([[ 1,  2,  3],\n",
       "       [ 4,  5,  6],\n",
       "       [ 7,  8,  9],\n",
       "       [10, 11, 12]])"
      ]
     },
     "execution_count": 12,
     "metadata": {},
     "output_type": "execute_result"
    }
   ],
   "source": [
    "t = array([[1,2,3],[4,5,6],[7,8,9],[10,11,12]])\n",
    "t"
   ]
  },
  {
   "cell_type": "code",
   "execution_count": 14,
   "metadata": {
    "ExecuteTime": {
     "end_time": "2019-09-24T02:13:02.685414Z",
     "start_time": "2019-09-24T02:13:02.680158Z"
    }
   },
   "outputs": [
    {
     "data": {
      "text/plain": [
       "array([[0., 0., 0., 0.],\n",
       "       [0., 0., 0., 0.],\n",
       "       [0., 0., 0., 0.]])"
      ]
     },
     "execution_count": 14,
     "metadata": {},
     "output_type": "execute_result"
    }
   ],
   "source": [
    "np.zeros((3,4))"
   ]
  },
  {
   "cell_type": "code",
   "execution_count": 10,
   "metadata": {
    "ExecuteTime": {
     "end_time": "2019-09-24T02:12:27.164043Z",
     "start_time": "2019-09-24T02:12:27.158509Z"
    }
   },
   "outputs": [
    {
     "data": {
      "text/plain": [
       "(4, 3)"
      ]
     },
     "execution_count": 10,
     "metadata": {},
     "output_type": "execute_result"
    }
   ],
   "source": [
    "t.shape"
   ]
  },
  {
   "cell_type": "code",
   "execution_count": 5,
   "metadata": {
    "ExecuteTime": {
     "end_time": "2019-09-24T02:11:46.845038Z",
     "start_time": "2019-09-24T02:11:46.841060Z"
    },
    "scrolled": true
   },
   "outputs": [
    {
     "ename": "AttributeError",
     "evalue": "'list' object has no attribute 'shape'",
     "output_type": "error",
     "traceback": [
      "\u001b[0;31m---------------------------------------------------------\u001b[0m",
      "\u001b[0;31mAttributeError\u001b[0m          Traceback (most recent call last)",
      "\u001b[0;32m<ipython-input-5-3b045d74231a>\u001b[0m in \u001b[0;36m<module>\u001b[0;34m\u001b[0m\n\u001b[0;32m----> 1\u001b[0;31m \u001b[0mt_row\u001b[0m\u001b[0;34m,\u001b[0m \u001b[0mt_col\u001b[0m \u001b[0;34m=\u001b[0m \u001b[0mt\u001b[0m\u001b[0;34m.\u001b[0m\u001b[0mshape\u001b[0m\u001b[0;34m\u001b[0m\u001b[0;34m\u001b[0m\u001b[0m\n\u001b[0m",
      "\u001b[0;31mAttributeError\u001b[0m: 'list' object has no attribute 'shape'"
     ]
    }
   ],
   "source": [
    "t_row, t_col = t.shape"
   ]
  },
  {
   "cell_type": "code",
   "execution_count": 18,
   "metadata": {
    "ExecuteTime": {
     "end_time": "2019-09-24T02:14:05.658122Z",
     "start_time": "2019-09-24T02:14:05.652476Z"
    }
   },
   "outputs": [
    {
     "data": {
      "text/plain": [
       "array([[0, 0, 0, 0],\n",
       "       [0, 0, 0, 0],\n",
       "       [0, 0, 0, 0]])"
      ]
     },
     "execution_count": 18,
     "metadata": {},
     "output_type": "execute_result"
    }
   ],
   "source": [
    "out = np.array([[0]*t_row]*t_col)\n",
    "out"
   ]
  },
  {
   "cell_type": "code",
   "execution_count": 26,
   "metadata": {
    "ExecuteTime": {
     "end_time": "2019-09-24T08:57:47.546343Z",
     "start_time": "2019-09-24T08:57:47.525682Z"
    }
   },
   "outputs": [
    {
     "data": {
      "text/plain": [
       "array([[1, 4, 7],\n",
       "       [2, 5, 8],\n",
       "       [3, 6, 9],\n",
       "       [4, 7, 1]])"
      ]
     },
     "execution_count": 26,
     "metadata": {},
     "output_type": "execute_result"
    }
   ],
   "source": [
    "from numpy import array\n",
    "t = array([[1,2,3,4],[4,5,6,7],[7,8,9,1]])\n",
    "t_row, t_col = t.shape\n",
    "\n",
    "out = np.array([[0]*t_row]*t_col)\n",
    "for i in range(t_row):\n",
    "    for j in range(t_col):\n",
    "        out[j][i] = t[i][j]\n",
    "\n",
    "out"
   ]
  },
  {
   "cell_type": "code",
   "execution_count": 2,
   "metadata": {
    "ExecuteTime": {
     "end_time": "2019-09-27T02:58:53.673785Z",
     "start_time": "2019-09-27T02:58:53.663782Z"
    }
   },
   "outputs": [
    {
     "data": {
      "text/plain": [
       "array([[1, 4, 7],\n",
       "       [2, 5, 8],\n",
       "       [3, 6, 9],\n",
       "       [4, 7, 1]])"
      ]
     },
     "execution_count": 2,
     "metadata": {},
     "output_type": "execute_result"
    }
   ],
   "source": [
    "#作業2-3\n",
    "from numpy import array\n",
    "def transpose(t):\n",
    "    t = array(t)\n",
    "    t_row, t_col = t.shape\n",
    "\n",
    "    out = np.array([[0]*t_row]*t_col)\n",
    "    for i in range(t_row):\n",
    "        for j in range(t_col):\n",
    "            out[j][i] = t[i][j]\n",
    "    return out\n",
    "\n",
    "t = array([[1,2,3,4],[4,5,6,7],[7,8,9,1]])\n",
    "transpose(t)"
   ]
  },
  {
   "cell_type": "code",
   "execution_count": 3,
   "metadata": {
    "ExecuteTime": {
     "end_time": "2019-09-27T02:58:56.319273Z",
     "start_time": "2019-09-27T02:58:56.309422Z"
    }
   },
   "outputs": [
    {
     "data": {
      "text/plain": [
       "array([[1, 2, 3, 4],\n",
       "       [4, 5, 6, 7],\n",
       "       [7, 8, 9, 1]])"
      ]
     },
     "execution_count": 3,
     "metadata": {},
     "output_type": "execute_result"
    }
   ],
   "source": [
    "t"
   ]
  },
  {
   "cell_type": "code",
   "execution_count": 158,
   "metadata": {
    "ExecuteTime": {
     "end_time": "2019-09-23T03:47:21.120826Z",
     "start_time": "2019-09-23T03:47:21.118812Z"
    }
   },
   "outputs": [],
   "source": [
    "out = [[0]*3]*5"
   ]
  },
  {
   "cell_type": "code",
   "execution_count": 161,
   "metadata": {
    "ExecuteTime": {
     "end_time": "2019-09-23T03:47:37.652566Z",
     "start_time": "2019-09-23T03:47:37.649982Z"
    }
   },
   "outputs": [
    {
     "data": {
      "text/plain": [
       "[[0, 0, 0], [0, 0, 0], [0, 0, 0], [0, 0, 0], [0, 0, 0]]"
      ]
     },
     "execution_count": 161,
     "metadata": {},
     "output_type": "execute_result"
    }
   ],
   "source": [
    "out"
   ]
  },
  {
   "cell_type": "code",
   "execution_count": 163,
   "metadata": {
    "ExecuteTime": {
     "end_time": "2019-09-23T03:47:51.289462Z",
     "start_time": "2019-09-23T03:47:51.286737Z"
    }
   },
   "outputs": [
    {
     "data": {
      "text/plain": [
       "array([[0., 0., 0.],\n",
       "       [0., 0., 0.],\n",
       "       [0., 0., 0.],\n",
       "       [0., 0., 0.],\n",
       "       [0., 0., 0.]])"
      ]
     },
     "execution_count": 163,
     "metadata": {},
     "output_type": "execute_result"
    }
   ],
   "source": [
    "np.zeros((5,3))"
   ]
  },
  {
   "cell_type": "code",
   "execution_count": null,
   "metadata": {},
   "outputs": [],
   "source": []
  },
  {
   "cell_type": "code",
   "execution_count": 4,
   "metadata": {
    "ExecuteTime": {
     "end_time": "2019-09-27T02:59:55.323125Z",
     "start_time": "2019-09-27T02:59:55.317092Z"
    }
   },
   "outputs": [],
   "source": [
    "import numpy as np"
   ]
  },
  {
   "cell_type": "code",
   "execution_count": 7,
   "metadata": {
    "ExecuteTime": {
     "end_time": "2019-09-27T03:00:56.902436Z",
     "start_time": "2019-09-27T03:00:56.895446Z"
    }
   },
   "outputs": [],
   "source": [
    "t = np.zeros((5,5))"
   ]
  },
  {
   "cell_type": "code",
   "execution_count": 72,
   "metadata": {
    "ExecuteTime": {
     "end_time": "2019-09-27T03:16:54.710935Z",
     "start_time": "2019-09-27T03:16:54.705562Z"
    }
   },
   "outputs": [],
   "source": [
    "t = array([[1,1,1,1,1],\n",
    "          [0,1,1,0,1],\n",
    "          [0,0,1,1,1],\n",
    "          [0,0,0,1,1],\n",
    "          [0,0,0,0,1]])"
   ]
  },
  {
   "cell_type": "code",
   "execution_count": 73,
   "metadata": {
    "ExecuteTime": {
     "end_time": "2019-09-27T03:16:55.074224Z",
     "start_time": "2019-09-27T03:16:55.065195Z"
    }
   },
   "outputs": [
    {
     "data": {
      "text/plain": [
       "(5, 5)"
      ]
     },
     "execution_count": 73,
     "metadata": {},
     "output_type": "execute_result"
    }
   ],
   "source": [
    "t.shape"
   ]
  },
  {
   "cell_type": "code",
   "execution_count": 74,
   "metadata": {
    "ExecuteTime": {
     "end_time": "2019-09-27T03:16:55.416327Z",
     "start_time": "2019-09-27T03:16:55.409512Z"
    }
   },
   "outputs": [],
   "source": [
    "def check(t):\n",
    "    if t.shape!=(5,5):\n",
    "        print('Not a 5 x 5 matrix')\n",
    "    for i in range(len(t)):\n",
    "        for j in range(len(t[i])):\n",
    "            if j<i and t[i][j]!=0:\n",
    "                print(\"Not an 上三角矩陣\")\n",
    "                return False\n",
    "    return True\n",
    "            \n",
    "def compress(t):\n",
    "    if check(t) == False:\n",
    "        print(\"無法壓縮\")\n",
    "        return False\n",
    "    out_list = []\n",
    "    for i in range(len(t)):\n",
    "        for j in range(len(t[i])):\n",
    "            if j>=i: out_list.append(t[i][j])\n",
    "    return np.array(out_list)"
   ]
  },
  {
   "cell_type": "code",
   "execution_count": 75,
   "metadata": {
    "ExecuteTime": {
     "end_time": "2019-09-27T03:16:56.446939Z",
     "start_time": "2019-09-27T03:16:56.441435Z"
    }
   },
   "outputs": [
    {
     "data": {
      "text/plain": [
       "True"
      ]
     },
     "execution_count": 75,
     "metadata": {},
     "output_type": "execute_result"
    }
   ],
   "source": [
    "check(t)"
   ]
  },
  {
   "cell_type": "code",
   "execution_count": 76,
   "metadata": {
    "ExecuteTime": {
     "end_time": "2019-09-27T03:16:57.182987Z",
     "start_time": "2019-09-27T03:16:57.177302Z"
    }
   },
   "outputs": [
    {
     "data": {
      "text/plain": [
       "array([1, 1, 1, 1, 1, 1, 1, 0, 1, 1, 1, 1, 1, 1, 1])"
      ]
     },
     "execution_count": 76,
     "metadata": {},
     "output_type": "execute_result"
    }
   ],
   "source": [
    "compress(t)"
   ]
  },
  {
   "cell_type": "code",
   "execution_count": null,
   "metadata": {},
   "outputs": [],
   "source": []
  },
  {
   "cell_type": "code",
   "execution_count": 62,
   "metadata": {
    "ExecuteTime": {
     "end_time": "2019-09-27T03:14:35.423325Z",
     "start_time": "2019-09-27T03:14:35.418936Z"
    }
   },
   "outputs": [],
   "source": [
    "t[1][0] = 1"
   ]
  },
  {
   "cell_type": "code",
   "execution_count": 49,
   "metadata": {
    "ExecuteTime": {
     "end_time": "2019-09-27T03:11:48.770750Z",
     "start_time": "2019-09-27T03:11:48.767628Z"
    }
   },
   "outputs": [
    {
     "name": "stdout",
     "output_type": "stream",
     "text": [
      "Not an 三\n"
     ]
    }
   ],
   "source": [
    "for i in range(len(t)):\n",
    "    for j in range(len(t[i])):\n",
    "        if j<i and t[i][j]!=0:\n",
    "             print(\"Not an 三\")"
   ]
  },
  {
   "cell_type": "code",
   "execution_count": 39,
   "metadata": {
    "ExecuteTime": {
     "end_time": "2019-09-27T03:09:08.025287Z",
     "start_time": "2019-09-27T03:09:08.020100Z"
    }
   },
   "outputs": [
    {
     "name": "stdout",
     "output_type": "stream",
     "text": [
      "0\n",
      "1\n",
      "2\n",
      "3\n",
      "4\n"
     ]
    }
   ],
   "source": [
    "for i in range(len(t)):\n",
    "    print(i)"
   ]
  },
  {
   "cell_type": "code",
   "execution_count": null,
   "metadata": {},
   "outputs": [],
   "source": []
  },
  {
   "cell_type": "code",
   "execution_count": null,
   "metadata": {},
   "outputs": [],
   "source": []
  },
  {
   "cell_type": "code",
   "execution_count": null,
   "metadata": {},
   "outputs": [],
   "source": []
  },
  {
   "cell_type": "code",
   "execution_count": null,
   "metadata": {},
   "outputs": [],
   "source": []
  },
  {
   "cell_type": "code",
   "execution_count": 1,
   "metadata": {
    "ExecuteTime": {
     "end_time": "2019-10-07T03:27:40.361705Z",
     "start_time": "2019-10-07T03:27:40.324122Z"
    }
   },
   "outputs": [
    {
     "ename": "NameError",
     "evalue": "name 'check_num' is not defined",
     "output_type": "error",
     "traceback": [
      "\u001b[0;31m---------------------------------------------------------------------------\u001b[0m",
      "\u001b[0;31mNameError\u001b[0m                                 Traceback (most recent call last)",
      "\u001b[0;32m<ipython-input-1-2a6f629fc6c6>\u001b[0m in \u001b[0;36m<module>\u001b[0;34m\u001b[0m\n\u001b[0;32m----> 1\u001b[0;31m \u001b[0mcheck_num\u001b[0m\u001b[0;34m\u001b[0m\u001b[0;34m\u001b[0m\u001b[0m\n\u001b[0m",
      "\u001b[0;31mNameError\u001b[0m: name 'check_num' is not defined"
     ]
    }
   ],
   "source": [
    "check_num"
   ]
  },
  {
   "cell_type": "code",
   "execution_count": null,
   "metadata": {},
   "outputs": [],
   "source": []
  },
  {
   "cell_type": "code",
   "execution_count": 33,
   "metadata": {
    "ExecuteTime": {
     "end_time": "2019-10-07T03:37:34.254276Z",
     "start_time": "2019-10-07T03:37:34.245874Z"
    }
   },
   "outputs": [
    {
     "data": {
      "text/plain": [
       "[2, 7, 2, 3, 1, -3, -1, 1, 2]"
      ]
     },
     "execution_count": 33,
     "metadata": {},
     "output_type": "execute_result"
    }
   ],
   "source": [
    "index = [1, 2, 3, 4, 5, 6, 7, 8, 9]\n",
    "row = [1, 1, 3, 3, 4, 5, 6, 7, 8]\n",
    "col = [4, 6, 3, 6, 4, 1, 2, 5, 7]\n",
    "value = [3, -1, 2, 1, 1, 2, 7, -3, 2]\n",
    "\n",
    "for j in range(len(col)):\n",
    "    for i in range(len(col)):\n",
    "        if i== len(col)-1:\n",
    "            break\n",
    "        if col[i] > col[i+1]:\n",
    "            col[i], col[i+1] = col[i+1], col[i]\n",
    "            row[i], row[i+1] = row[i+1], row[i]\n",
    "            value[i], value[i+1] = value[i+1], value[i]\n",
    "col , row = row, col\n",
    "\n",
    "col\n",
    "\n",
    "row\n",
    "\n",
    "value"
   ]
  },
  {
   "cell_type": "code",
   "execution_count": null,
   "metadata": {},
   "outputs": [],
   "source": []
  },
  {
   "cell_type": "code",
   "execution_count": 2,
   "metadata": {
    "ExecuteTime": {
     "end_time": "2019-10-08T07:00:10.167556Z",
     "start_time": "2019-10-08T07:00:10.160019Z"
    }
   },
   "outputs": [
    {
     "name": "stdout",
     "output_type": "stream",
     "text": [
      "[1, 2, 3, 4, 4, 5, 6, 6, 7]\n",
      "[5, 6, 3, 1, 4, 7, 1, 3, 8]\n",
      "[2, 7, 2, 3, 1, -3, -1, 1, 2]\n"
     ]
    }
   ],
   "source": [
    "\n",
    "row = [1, 1, 3, 3, 4, 5, 6, 7, 8]\n",
    "col = [4, 6, 3, 6, 4, 1, 2, 5, 7]\n",
    "value = [3, -1, 2, 1, 1, 2, 7, -3, 2]\n",
    "rowsize = [0]*max(col)\n",
    "rowstart = [0]*len(rowsize)\n",
    "rowindex = 0\n",
    "new_value = [0]*len(value)\n",
    "new_row = [0]*len(value)\n",
    "new_col = [0]*len(value)\n",
    "for i in range(len(col)):\n",
    "    rowsize[col[i]-1]+=1\n",
    "    \n",
    "for i in range(len(rowsize)):\n",
    "    rowstart[i] = rowindex\n",
    "    rowindex += rowsize[i]\n",
    "    \n",
    "for i in range(len(value)):\n",
    "    \n",
    "    c = rowstart[col[i]-1]\n",
    "    new_value[c] = value[i]\n",
    "    new_row[c] = col[i]\n",
    "    new_col[c] = row[i]\n",
    "    rowstart[col[i]-1]+=1\n",
    "    \n",
    "\n",
    "for i in [new_row, new_col, new_value]:\n",
    "    \n",
    "    print(i)\n",
    "    \n",
    "    \n",
    "#時間複雜度，如column的最大值為n，時間複雜度BigO = 11n"
   ]
  },
  {
   "cell_type": "code",
   "execution_count": 10,
   "metadata": {
    "ExecuteTime": {
     "end_time": "2019-10-07T04:28:57.379166Z",
     "start_time": "2019-10-07T04:28:57.374090Z"
    }
   },
   "outputs": [
    {
     "data": {
      "text/plain": [
       "[2, 7, 2, 3, 1, -3, -1, 1, 2]"
      ]
     },
     "execution_count": 10,
     "metadata": {},
     "output_type": "execute_result"
    }
   ],
   "source": [
    "new_value"
   ]
  },
  {
   "cell_type": "code",
   "execution_count": 4,
   "metadata": {
    "ExecuteTime": {
     "end_time": "2019-10-07T04:17:45.530829Z",
     "start_time": "2019-10-07T04:17:45.503271Z"
    }
   },
   "outputs": [
    {
     "data": {
      "text/plain": [
       "7"
      ]
     },
     "execution_count": 4,
     "metadata": {},
     "output_type": "execute_result"
    }
   ],
   "source": [
    "new_value[8]"
   ]
  },
  {
   "cell_type": "code",
   "execution_count": null,
   "metadata": {},
   "outputs": [],
   "source": []
  },
  {
   "cell_type": "code",
   "execution_count": null,
   "metadata": {},
   "outputs": [],
   "source": []
  },
  {
   "cell_type": "code",
   "execution_count": null,
   "metadata": {},
   "outputs": [],
   "source": []
  },
  {
   "cell_type": "code",
   "execution_count": 76,
   "metadata": {
    "ExecuteTime": {
     "end_time": "2019-10-07T04:00:48.614169Z",
     "start_time": "2019-10-07T04:00:48.606227Z"
    }
   },
   "outputs": [
    {
     "ename": "SyntaxError",
     "evalue": "invalid syntax (<ipython-input-76-0ef7a0b5bd14>, line 2)",
     "output_type": "error",
     "traceback": [
      "\u001b[0;36m  File \u001b[0;32m\"<ipython-input-76-0ef7a0b5bd14>\"\u001b[0;36m, line \u001b[0;32m2\u001b[0m\n\u001b[0;31m    int row\u001b[0m\n\u001b[0m          ^\u001b[0m\n\u001b[0;31mSyntaxError\u001b[0m\u001b[0;31m:\u001b[0m invalid syntax\n"
     ]
    }
   ],
   "source": [
    "class SparseMatrixItem:\n",
    "    def __init__(self, row, col, value):\n",
    "        self.row = row\n",
    "        self.col = col\n",
    "        self.value = value\n",
    "    def multi"
   ]
  },
  {
   "cell_type": "code",
   "execution_count": null,
   "metadata": {},
   "outputs": [],
   "source": []
  },
  {
   "cell_type": "code",
   "execution_count": null,
   "metadata": {},
   "outputs": [],
   "source": []
  },
  {
   "cell_type": "code",
   "execution_count": null,
   "metadata": {},
   "outputs": [],
   "source": []
  },
  {
   "cell_type": "code",
   "execution_count": 5,
   "metadata": {
    "ExecuteTime": {
     "end_time": "2019-10-08T07:06:31.592642Z",
     "start_time": "2019-10-08T07:06:31.587069Z"
    }
   },
   "outputs": [],
   "source": [
    "class Term:\n",
    "    def __init__(self, ncoef, nexp):\n",
    "        self.coef = ncoef\n",
    "        self.exp = nexp\n",
    "p = []\n",
    "p.append(Term(8,5))\n",
    "p.append(Term(6,4))\n",
    "p.append(Term(3,2))\n",
    "p.append(Term(12,0))"
   ]
  },
  {
   "cell_type": "code",
   "execution_count": 434,
   "metadata": {
    "ExecuteTime": {
     "end_time": "2019-10-08T08:12:15.712836Z",
     "start_time": "2019-10-08T08:12:15.709397Z"
    }
   },
   "outputs": [
    {
     "data": {
      "text/plain": [
       "([7, 3], [14, 0])"
      ]
     },
     "execution_count": 434,
     "metadata": {},
     "output_type": "execute_result"
    }
   ],
   "source": [
    "b.constant, b.powers_num"
   ]
  },
  {
   "cell_type": "code",
   "execution_count": 438,
   "metadata": {
    "ExecuteTime": {
     "end_time": "2019-10-08T08:13:31.111848Z",
     "start_time": "2019-10-08T08:13:31.106898Z"
    }
   },
   "outputs": [
    {
     "data": {
      "text/plain": [
       "([0, 0, 0, 0, 0, 0, 0, 0, 0, 0, 0, 0, 0, 0], '7x**14+3')"
      ]
     },
     "execution_count": 438,
     "metadata": {},
     "output_type": "execute_result"
    }
   ],
   "source": [
    "b.p2, b.inputs"
   ]
  },
  {
   "cell_type": "code",
   "execution_count": 459,
   "metadata": {
    "ExecuteTime": {
     "end_time": "2019-10-08T08:18:14.363086Z",
     "start_time": "2019-10-08T08:18:14.357553Z"
    }
   },
   "outputs": [
    {
     "name": "stdout",
     "output_type": "stream",
     "text": [
      "3\n",
      "2\n",
      "1\n"
     ]
    }
   ],
   "source": [
    "iss = [1,2,3]\n",
    "for i in range(len(iss)):\n",
    "    #print(len(iss) - i - 1)\n",
    "    print(iss[len(iss) - i - 1])"
   ]
  },
  {
   "cell_type": "code",
   "execution_count": 601,
   "metadata": {
    "ExecuteTime": {
     "end_time": "2019-10-08T10:41:34.207120Z",
     "start_time": "2019-10-08T10:41:34.191026Z"
    }
   },
   "outputs": [
    {
     "name": "stdout",
     "output_type": "stream",
     "text": [
      "21x**6+20x**5+4x**4\n",
      "21x**6+20x**5+4x**4\n"
     ]
    }
   ],
   "source": [
    "class Polynomial:\n",
    "    def __init__(self, inputs):\n",
    "        inputs.replace(\"^\", \"**\")\n",
    "        self.inputs = inputs\n",
    "        temp = inputs.replace(\"-\",\"+-\").split(\"+\")\n",
    "        if \"**\" not in temp[-1]:\n",
    "            temp[-1] = temp[-1]+\"x**0\"\n",
    "        self.constant = []\n",
    "        self.powers_num = []\n",
    "        for i in temp:\n",
    "            if i[0] == 'x':\n",
    "                i = '1'+i\n",
    "            self.powers_num.append(int(i[i.find(\"x\")+3:]))\n",
    "            self.constant.append(int(i[:i.find(\"x\")]))\n",
    "        \n",
    "        #計算P表示法\n",
    "        self.p1 = []\n",
    "        for i in range(len(self.powers_num)):\n",
    "            self.p1.append(self.constant[i])\n",
    "            self.p1.append(self.powers_num[i])\n",
    "        self.p1 = [int(len(self.p1)/2)] + self.p1\n",
    "        \n",
    "        self.p2 = [0]*(self.powers_num[0]+1)\n",
    "        for i in range(len(self.powers_num)):\n",
    "            j =  self.powers_num[len(self.powers_num) - i - 1]\n",
    "            self.p2[j] += self.constant[i]\n",
    "            \n",
    "    def run(self, num): #運算該多項式\n",
    "        out = 0\n",
    "        for i in range(len(self.constant)):\n",
    "            out += self.constant[i]*(num**self.powers_num[i])\n",
    "        return out\n",
    "    \n",
    "    def __add__(self, other):\n",
    "        if self.powers_num >= other.powers_num:\n",
    "            biggest = self.powers_num[0]\n",
    "        else:\n",
    "            biggest = other.powers_num[0]\n",
    "            \n",
    "        out_powers_num = []\n",
    "        out_constant = []\n",
    "        for i in range(biggest+1):\n",
    "            temp = 0\n",
    "            if i in self.powers_num:\n",
    "                temp+=self.constant[self.powers_num.index(i)]\n",
    "            if i in other.powers_num:\n",
    "                temp+=other.constant[other.powers_num.index(i)]\n",
    "            if temp:\n",
    "                out_powers_num.append(i)\n",
    "                out_constant.append(temp)\n",
    "                \n",
    "        out_word = \"\"\n",
    "\n",
    "        for i in range(len(out_constant)):\n",
    "            j = len(out_constant)-i-1\n",
    "            out_word += ((\"%dx**%d\")%(out_constant[j], out_powers_num[j]))\n",
    "            out_word += \"+\"\n",
    "            \n",
    "            \n",
    "        out_word = out_word.replace(\"+-\", \"-\")[:-1]\n",
    "        print(out_word)\n",
    "        return Polynomial(out_word)\n",
    "    \n",
    "    def addTerm(self, term):\n",
    "        return self + Polynomial(term)\n",
    "    \n",
    "    def add(self, other):\n",
    "        return self + other\n",
    "    \n",
    "    def printPolynomial(self):\n",
    "        print(self.inputs)\n",
    "    \n",
    "    def __mul__(self, other):\n",
    "        out_powers_num = []\n",
    "        out_constant = []\n",
    "        \n",
    "        for i in range(len(self.powers_num)):\n",
    "            for j in range(len(other.powers_num)):\n",
    "                temp = self.powers_num[i] + other.powers_num[j]\n",
    "                if temp not in out_powers_num:\n",
    "                    out_powers_num.append(temp)\n",
    "                    out_constant.append(self.constant[i] * other.constant[j])\n",
    "                else:\n",
    "                    out_constant[out_powers_num.index(temp)]+= self.constant[i] * other.constant[j]\n",
    "\n",
    "        for j in range(len(out_powers_num)):\n",
    "            for i in range(len(out_powers_num)-1):\n",
    "                if out_powers_num[i] < out_powers_num[i+1]:\n",
    "                    out_powers_num[i+1], out_powers_num[i] = out_powers_num[i], out_powers_num[i+1]\n",
    "                    out_constant[i+1], out_constant[i] = out_constant[i], out_constant[i+1]\n",
    "        out_word = ''\n",
    "        for i in range(len(out_constant)):\n",
    "            j = i\n",
    "            out_word += ((\"%dx**%d\")%(out_constant[j], out_powers_num[j]))\n",
    "            out_word += \"+\"\n",
    "        out_word = out_word.replace(\"+-\", \"-\")[:-1]\n",
    "        print(out_word)\n",
    "        return Polynomial(out_word)\n",
    "    def multiply(self, other):\n",
    "        return self * other\n",
    "\n",
    "\n",
    "#a = \"3x**3+2x**1\"\n",
    "\n",
    "#a = Polynomial(a)\n",
    "\n",
    "#b = \"7x**2+3\"\n",
    "\n",
    "#b = Polynomial(b)\n",
    "\n",
    "#c = a + b\n",
    "#print(c.inputs)\n",
    "\n",
    "\n",
    "\n",
    "a = Polynomial(\"3x**3+2x**2\")\n",
    "b = Polynomial('7x**3+2x**2')\n",
    "\n",
    "c = a*b\n",
    "\n",
    "print(c.inputs)\n",
    "\n",
    "#我在本程式中，寫出一個名為Polynomial的物件\n",
    "#輸入時使用String，如 pol = Polynomial(\"7x**14+3\")\n",
    "#可以將兩個Polynomial相加，會產生一個新的Polynomial\n",
    "#也可以使用pol.run做運算\n",
    "#輸入 pol.p1可以查看第一種表示方法， pol.p2可以查看第二種\n",
    "# pol.inputs可以查看原始輸入的方法\n",
    "\n",
    "#此程式為上一個作業的延伸\n",
    "#我使用一堆迴圈，也許有更好的方法，再請老師指教\n",
    "#我使用Python的運算子__mul__，因此可以直接將兩個多項式物件相乘\n",
    "#至於.multiply的功能，也有寫到，只要先寫好__mul__再套用即可"
   ]
  },
  {
   "cell_type": "code",
   "execution_count": 599,
   "metadata": {
    "ExecuteTime": {
     "end_time": "2019-10-08T10:40:51.287688Z",
     "start_time": "2019-10-08T10:40:51.282170Z"
    }
   },
   "outputs": [
    {
     "name": "stdout",
     "output_type": "stream",
     "text": [
      "21x**6+20x**5+4x**4\n",
      "21x**6+20x**5+4x**4\n"
     ]
    }
   ],
   "source": [
    "a = Polynomial(\"3x**3+2x**2\")\n",
    "b = Polynomial('7x**3+2x**2')\n",
    "\n",
    "c = a.multiply(b)\n",
    "\n",
    "print(c.inputs)\n"
   ]
  },
  {
   "cell_type": "code",
   "execution_count": 600,
   "metadata": {
    "ExecuteTime": {
     "end_time": "2019-10-08T10:40:59.227324Z",
     "start_time": "2019-10-08T10:40:59.222035Z"
    }
   },
   "outputs": [
    {
     "name": "stdout",
     "output_type": "stream",
     "text": [
      "21x**6+20x**5+4x**4\n"
     ]
    },
    {
     "data": {
      "text/plain": [
       "<__main__.Polynomial at 0x7fd34350e320>"
      ]
     },
     "execution_count": 600,
     "metadata": {},
     "output_type": "execute_result"
    }
   ],
   "source": [
    "a.multiply(b)"
   ]
  },
  {
   "cell_type": "code",
   "execution_count": 591,
   "metadata": {
    "ExecuteTime": {
     "end_time": "2019-10-08T10:36:25.391898Z",
     "start_time": "2019-10-08T10:36:25.386693Z"
    }
   },
   "outputs": [
    {
     "data": {
      "text/plain": [
       "('3x**3+2x**1', '7x**2+3')"
      ]
     },
     "execution_count": 591,
     "metadata": {},
     "output_type": "execute_result"
    }
   ],
   "source": [
    "a.inputs, b.inputs"
   ]
  },
  {
   "cell_type": "code",
   "execution_count": 592,
   "metadata": {
    "ExecuteTime": {
     "end_time": "2019-10-08T10:36:26.173572Z",
     "start_time": "2019-10-08T10:36:26.167540Z"
    }
   },
   "outputs": [
    {
     "name": "stdout",
     "output_type": "stream",
     "text": [
      "3 2\n",
      "3 0\n",
      "1 2\n",
      "1 0\n",
      "21x**5+23x**3+6x**1\n"
     ]
    },
    {
     "data": {
      "text/plain": [
       "'21x**5+23x**3+6x**1'"
      ]
     },
     "execution_count": 592,
     "metadata": {},
     "output_type": "execute_result"
    }
   ],
   "source": [
    "(a*b).inputs"
   ]
  },
  {
   "cell_type": "code",
   "execution_count": 581,
   "metadata": {
    "ExecuteTime": {
     "end_time": "2019-10-08T10:34:11.405465Z",
     "start_time": "2019-10-08T10:34:11.398911Z"
    }
   },
   "outputs": [],
   "source": [
    "self = Polynomial(\"3x**3+2x**2\")\n",
    "other = Polynomial('7x**3+2x**2')"
   ]
  },
  {
   "cell_type": "code",
   "execution_count": 582,
   "metadata": {
    "ExecuteTime": {
     "end_time": "2019-10-08T10:34:11.787064Z",
     "start_time": "2019-10-08T10:34:11.753565Z"
    }
   },
   "outputs": [
    {
     "name": "stdout",
     "output_type": "stream",
     "text": [
      "3x**3+2x**2\n",
      "7x**3+2x**2\n",
      "3 3\n",
      "3 2\n",
      "2 3\n",
      "2 2\n",
      "[6, 5, 4]\n",
      "[21, 20, 4]\n",
      "[6, 5, 4]\n",
      "[21, 20, 4]\n",
      "21x**6+20x**5+4x**4\n"
     ]
    }
   ],
   "source": [
    "out_powers_num = []\n",
    "out_constant = []\n",
    "print(self.inputs)\n",
    "print(other.inputs)\n",
    "\n",
    "for i in range(len(self.powers_num)):\n",
    "    for j in range(len(other.powers_num)):\n",
    "        print(self.powers_num[i] , other.powers_num[j])\n",
    "        temp = self.powers_num[i] + other.powers_num[j]\n",
    "        if temp not in out_powers_num:\n",
    "            out_powers_num.append(temp)\n",
    "            out_constant.append(self.constant[i] * other.constant[j])\n",
    "        else:\n",
    "            out_constant[out_powers_num.index(temp)]+= self.constant[i] * other.constant[j]\n",
    "\n",
    "print(out_powers_num)\n",
    "print(out_constant)\n",
    "\n",
    "\n",
    "for j in range(len(out_powers_num)):\n",
    "    for i in range(len(out_powers_num)-1):\n",
    "        if out_powers_num[i] < out_powers_num[i+1]:\n",
    "            out_powers_num[i+1], out_powers_num[i] = out_powers_num[i], out_powers_num[i+1]\n",
    "            out_constant[i+1], out_constant[i] = out_constant[i], out_constant[i+1]\n",
    "            print(\"trigger\")\n",
    "print(out_powers_num)\n",
    "print(out_constant)\n",
    "out_word = ''\n",
    "for i in range(len(out_constant)):\n",
    "    j = i\n",
    "    out_word += ((\"%dx**%d\")%(out_constant[j], out_powers_num[j]))\n",
    "    out_word += \"+\"\n",
    "\n",
    "\n",
    "out_word = out_word.replace(\"+-\", \"-\")[:-1]\n",
    "print(out_word)\n"
   ]
  },
  {
   "cell_type": "code",
   "execution_count": 511,
   "metadata": {
    "ExecuteTime": {
     "end_time": "2019-10-08T09:53:28.393465Z",
     "start_time": "2019-10-08T09:53:28.387975Z"
    }
   },
   "outputs": [
    {
     "data": {
      "text/plain": [
       "3"
      ]
     },
     "execution_count": 511,
     "metadata": {},
     "output_type": "execute_result"
    }
   ],
   "source": [
    "b.p2[14]"
   ]
  },
  {
   "cell_type": "code",
   "execution_count": 513,
   "metadata": {
    "ExecuteTime": {
     "end_time": "2019-10-08T09:53:39.491514Z",
     "start_time": "2019-10-08T09:53:39.486170Z"
    }
   },
   "outputs": [
    {
     "name": "stdout",
     "output_type": "stream",
     "text": [
      "3x**14+2x**8+2x**3\n"
     ]
    }
   ],
   "source": [
    "a = a.addTerm(\"2x**3\")"
   ]
  },
  {
   "cell_type": "code",
   "execution_count": 514,
   "metadata": {
    "ExecuteTime": {
     "end_time": "2019-10-08T09:53:43.551721Z",
     "start_time": "2019-10-08T09:53:43.542690Z"
    }
   },
   "outputs": [
    {
     "data": {
      "text/plain": [
       "'3x**14+2x**8+2x**3'"
      ]
     },
     "execution_count": 514,
     "metadata": {},
     "output_type": "execute_result"
    }
   ],
   "source": [
    "a.inputs"
   ]
  },
  {
   "cell_type": "code",
   "execution_count": 474,
   "metadata": {
    "ExecuteTime": {
     "end_time": "2019-10-08T09:40:31.036913Z",
     "start_time": "2019-10-08T09:40:31.031128Z"
    }
   },
   "outputs": [
    {
     "data": {
      "text/plain": [
       "'7x**14+3'"
      ]
     },
     "execution_count": 474,
     "metadata": {},
     "output_type": "execute_result"
    }
   ],
   "source": [
    "b.inputs"
   ]
  },
  {
   "cell_type": "code",
   "execution_count": 425,
   "metadata": {
    "ExecuteTime": {
     "end_time": "2019-10-08T08:09:34.219995Z",
     "start_time": "2019-10-08T08:09:34.214930Z"
    }
   },
   "outputs": [
    {
     "data": {
      "text/plain": [
       "'6x**14+2x**8'"
      ]
     },
     "execution_count": 425,
     "metadata": {},
     "output_type": "execute_result"
    }
   ],
   "source": [
    "result.inputs"
   ]
  },
  {
   "cell_type": "code",
   "execution_count": 426,
   "metadata": {
    "ExecuteTime": {
     "end_time": "2019-10-08T08:09:34.592605Z",
     "start_time": "2019-10-08T08:09:34.583158Z"
    }
   },
   "outputs": [
    {
     "data": {
      "text/plain": [
       "49664"
      ]
     },
     "execution_count": 426,
     "metadata": {},
     "output_type": "execute_result"
    }
   ],
   "source": [
    "a.run(2)"
   ]
  },
  {
   "cell_type": "code",
   "execution_count": 427,
   "metadata": {
    "ExecuteTime": {
     "end_time": "2019-10-08T08:09:34.846804Z",
     "start_time": "2019-10-08T08:09:34.841305Z"
    }
   },
   "outputs": [
    {
     "data": {
      "text/plain": [
       "'1aa'"
      ]
     },
     "execution_count": 427,
     "metadata": {},
     "output_type": "execute_result"
    }
   ],
   "source": [
    "\"%daa\"%(1)"
   ]
  },
  {
   "cell_type": "code",
   "execution_count": 428,
   "metadata": {
    "ExecuteTime": {
     "end_time": "2019-10-08T08:09:35.817753Z",
     "start_time": "2019-10-08T08:09:35.807996Z"
    }
   },
   "outputs": [
    {
     "data": {
      "text/plain": [
       "([3, 14], [2, 8], [1, 0])"
      ]
     },
     "execution_count": 428,
     "metadata": {},
     "output_type": "execute_result"
    }
   ],
   "source": [
    "[3,14],[2,8],[1,0]"
   ]
  },
  {
   "cell_type": "code",
   "execution_count": 429,
   "metadata": {
    "ExecuteTime": {
     "end_time": "2019-10-08T08:09:36.621076Z",
     "start_time": "2019-10-08T08:09:36.615271Z"
    }
   },
   "outputs": [
    {
     "data": {
      "text/plain": [
       "['3x**14', '2x**8', '-1']"
      ]
     },
     "execution_count": 429,
     "metadata": {},
     "output_type": "execute_result"
    }
   ],
   "source": [
    "a = \"3x**14+2x**8-1\"\n",
    "\n",
    "a = a.replace(\"-\",\"+-\").split(\"+\")\n",
    "a"
   ]
  },
  {
   "cell_type": "code",
   "execution_count": 431,
   "metadata": {
    "ExecuteTime": {
     "end_time": "2019-10-08T08:09:47.241580Z",
     "start_time": "2019-10-08T08:09:47.232604Z"
    }
   },
   "outputs": [
    {
     "data": {
      "text/plain": [
       "[2.0, 7, 14, 3, 0]"
      ]
     },
     "execution_count": 431,
     "metadata": {},
     "output_type": "execute_result"
    }
   ],
   "source": [
    "b.p1"
   ]
  },
  {
   "cell_type": "code",
   "execution_count": 432,
   "metadata": {
    "ExecuteTime": {
     "end_time": "2019-10-08T08:09:54.726947Z",
     "start_time": "2019-10-08T08:09:54.721691Z"
    }
   },
   "outputs": [
    {
     "data": {
      "text/plain": [
       "'7x**14+3'"
      ]
     },
     "execution_count": 432,
     "metadata": {},
     "output_type": "execute_result"
    }
   ],
   "source": [
    "b.inputs"
   ]
  },
  {
   "cell_type": "code",
   "execution_count": 45,
   "metadata": {
    "ExecuteTime": {
     "end_time": "2019-10-08T07:17:13.577606Z",
     "start_time": "2019-10-08T07:17:13.570483Z"
    }
   },
   "outputs": [],
   "source": [
    "if \"**\" not in a[-1]:\n",
    "    a[-1] = a[-1]+\"x**0\""
   ]
  },
  {
   "cell_type": "code",
   "execution_count": 62,
   "metadata": {
    "ExecuteTime": {
     "end_time": "2019-10-08T07:21:05.343802Z",
     "start_time": "2019-10-08T07:21:05.338201Z"
    }
   },
   "outputs": [],
   "source": [
    "constant = []\n",
    "powers_num = []\n",
    "for i in a:\n",
    "    powers_num.append(i[i.find(\"x\")+3:-1])\n",
    "    constant.append(i[0:i.find(\"x\")])"
   ]
  },
  {
   "cell_type": "code",
   "execution_count": 63,
   "metadata": {
    "ExecuteTime": {
     "end_time": "2019-10-08T07:21:05.618741Z",
     "start_time": "2019-10-08T07:21:05.608439Z"
    }
   },
   "outputs": [
    {
     "data": {
      "text/plain": [
       "['3', '2', '-1']"
      ]
     },
     "execution_count": 63,
     "metadata": {},
     "output_type": "execute_result"
    }
   ],
   "source": [
    "constant"
   ]
  },
  {
   "cell_type": "code",
   "execution_count": 12,
   "metadata": {
    "ExecuteTime": {
     "end_time": "2019-10-08T07:11:40.293361Z",
     "start_time": "2019-10-08T07:11:40.287853Z"
    }
   },
   "outputs": [
    {
     "data": {
      "text/plain": [
       "'8x**14-3x**10+10x**6'"
      ]
     },
     "execution_count": 12,
     "metadata": {},
     "output_type": "execute_result"
    }
   ],
   "source": [
    "\"8x**14-3x**10+10x**6\""
   ]
  },
  {
   "cell_type": "code",
   "execution_count": null,
   "metadata": {},
   "outputs": [],
   "source": []
  }
 ],
 "metadata": {
  "hide_input": false,
  "kernelspec": {
   "display_name": "gpu",
   "language": "python",
   "name": "gpu"
  },
  "language_info": {
   "codemirror_mode": {
    "name": "ipython",
    "version": 3
   },
   "file_extension": ".py",
   "mimetype": "text/x-python",
   "name": "python",
   "nbconvert_exporter": "python",
   "pygments_lexer": "ipython3",
   "version": "3.6.9"
  },
  "varInspector": {
   "cols": {
    "lenName": 16,
    "lenType": 16,
    "lenVar": 40
   },
   "kernels_config": {
    "python": {
     "delete_cmd_postfix": "",
     "delete_cmd_prefix": "del ",
     "library": "var_list.py",
     "varRefreshCmd": "print(var_dic_list())"
    },
    "r": {
     "delete_cmd_postfix": ") ",
     "delete_cmd_prefix": "rm(",
     "library": "var_list.r",
     "varRefreshCmd": "cat(var_dic_list()) "
    }
   },
   "types_to_exclude": [
    "module",
    "function",
    "builtin_function_or_method",
    "instance",
    "_Feature"
   ],
   "window_display": false
  }
 },
 "nbformat": 4,
 "nbformat_minor": 2
}
