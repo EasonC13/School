{
 "cells": [
  {
   "cell_type": "markdown",
   "metadata": {},
   "source": [
    "呈以上練習題，請寫一個程式，能依hash function的規則將key存\n",
    "在相對應的bucket(陣列)。"
   ]
  },
  {
   "cell_type": "code",
   "execution_count": 51,
   "metadata": {
    "ExecuteTime": {
     "end_time": "2019-12-24T06:33:06.089913Z",
     "start_time": "2019-12-24T06:33:05.918315Z"
    }
   },
   "outputs": [
    {
     "name": "stdout",
     "output_type": "stream",
     "text": [
      "我自己寫了一個 Hash Function 喔！ 很厲害吧！(驕傲的挺起胸膛)\n"
     ]
    },
    {
     "data": {
      "image/png": "[encoded data removed]",
      "text/plain": [
       "<Figure size 432x288 with 1 Axes>"
      ]
     },
     "metadata": {
      "needs_background": "light"
     },
     "output_type": "display_data"
    },
    {
     "name": "stdout",
     "output_type": "stream",
     "text": [
      "輸入是一個LIST [377, 528, 68, 505, 42, 555, 886, 57, 551, 287, 529, 110, 911, 264, 760, 881, 208, 69, 961, 127]\n",
      "555 66\n",
      "760 51\n",
      "961 28\n",
      "放入一個長度100的array中(衝突則往後找)\n",
      " [-1, -1, -1, 69, -1, -1, -1, -1, -1, -1, -1, -1, -1, 529, -1, -1, -1, -1, -1, -1, -1, -1, -1, -1, -1, -1, -1, 881, 961, -1, -1, -1, -1, -1, -1, -1, 528, 551, -1, -1, -1, -1, -1, -1, -1, -1, -1, 911, -1, 377, 110, 760, -1, -1, -1, -1, -1, -1, -1, -1, -1, -1, -1, -1, 42, 505, 555, -1, -1, 57, -1, -1, 886, -1, -1, -1, -1, -1, -1, -1, -1, -1, -1, -1, -1, -1, 208, -1, 264, 127, -1, -1, -1, -1, -1, -1, 68, -1, -1, 287]\n",
      "總共放入20個物品進入array\n"
     ]
    }
   ],
   "source": [
    "#8-1\n",
    "print(\"我自己寫了一個 Hash Function 喔！ 很厲害吧！(驕傲的挺起胸膛)\")\n",
    "import numpy as np\n",
    "def hashs(inputs):\n",
    "    a = str(inputs**5)\n",
    "    a = a[int((len(a)/2-1))]\n",
    "    b = inputs*7%10\n",
    "    return (int(a)*10+b)\n",
    "\n",
    "hashs(165)\n",
    "\n",
    "x = np.arange(1,1000)\n",
    "y = list(map(hashs, x))\n",
    "z = list(map(y.count, np.arange(0,100)))\n",
    "\n",
    "y.count(1)\n",
    "\n",
    "import matplotlib.pyplot as plt\n",
    "plt.bar(np.arange(0,100), z)\n",
    "plt.title(\"My hash distribution\")\n",
    "plt.show()\n",
    "\n",
    "array = np.full((100), -1)\n",
    "\n",
    "origin = np.random.choice(range(1,1000), 20, replace=False)\n",
    "print(\"輸入是一個LIST\", list(origin))\n",
    "for i in origin:\n",
    "    yes = hashs(i)\n",
    "    while(1):\n",
    "        if array[yes] == -1:\n",
    "            array[yes] = i\n",
    "            break\n",
    "        else:\n",
    "            yes = yes + 1\n",
    "            print(i, yes)\n",
    "        \n",
    "print(\"放入一個長度100的array中(衝突則往後找)\\n\", list(array))\n",
    "print(\"總共放入%d個物品進入array\"%(np.unique(array).shape[0]-1))"
   ]
  },
  {
   "cell_type": "code",
   "execution_count": 52,
   "metadata": {
    "ExecuteTime": {
     "end_time": "2019-12-29T14:49:11.821145Z",
     "start_time": "2019-12-29T14:49:11.814359Z"
    }
   },
   "outputs": [
    {
     "name": "stdout",
     "output_type": "stream",
     "text": [
      "輸入為老師給的範例 ['GA', 'D', 'A', 'G', 'L', 'A2', 'A1 ', 'A3', 'A4', 'Z', 'ZA', 'E']\n",
      "經過hash放置的結果如下： [['A', 'A2', 'A1 ', 'A3', 'A4'], [], [], ['D'], ['E'], [], ['GA', 'G'], [], [], [], [], ['L'], [], [], [], [], [], [], [], [], [], [], [], [], [], ['Z', 'ZA']]\n"
     ]
    }
   ],
   "source": [
    "#8-2\n",
    "#因為串列製作非本次重點，我使用Python內建的List來製作\n",
    "\n",
    "ht = []\n",
    "\n",
    "for i in range(26):\n",
    "    ht.append(list([]))\n",
    "\n",
    "inputs = \"GA, D, A, G, L, A2, A1 , A3, A4, Z, ZA, E\".split(\", \")\n",
    "print(\"輸入為老師給的範例\", inputs)\n",
    "\n",
    "def hashs(x):\n",
    "    return ord(x.upper()[0])-64-1\n",
    "\n",
    "for i in inputs:\n",
    "    ht[hashs(i)].append(i)\n",
    "\n",
    "print(\"經過hash放置的結果如下：\", ht)"
   ]
  },
  {
   "cell_type": "code",
   "execution_count": null,
   "metadata": {},
   "outputs": [],
   "source": []
  },
  {
   "cell_type": "code",
   "execution_count": null,
   "metadata": {},
   "outputs": [],
   "source": []
  }
 ],
 "metadata": {
  "hide_input": false,
  "kernelspec": {
   "display_name": "Python 3",
   "language": "python",
   "name": "python3"
  },
  "language_info": {
   "codemirror_mode": {
    "name": "ipython",
    "version": 3
   },
   "file_extension": ".py",
   "mimetype": "text/x-python",
   "name": "python",
   "nbconvert_exporter": "python",
   "pygments_lexer": "ipython3",
   "version": "3.6.9"
  },
  "varInspector": {
   "cols": {
    "lenName": 16,
    "lenType": 16,
    "lenVar": 40
   },
   "kernels_config": {
    "python": {
     "delete_cmd_postfix": "",
     "delete_cmd_prefix": "del ",
     "library": "var_list.py",
     "varRefreshCmd": "print(var_dic_list())"
    },
    "r": {
     "delete_cmd_postfix": ") ",
     "delete_cmd_prefix": "rm(",
     "library": "var_list.r",
     "varRefreshCmd": "cat(var_dic_list()) "
    }
   },
   "types_to_exclude": [
    "module",
    "function",
    "builtin_function_or_method",
    "instance",
    "_Feature"
   ],
   "window_display": false
  }
 },
 "nbformat": 4,
 "nbformat_minor": 2
}
