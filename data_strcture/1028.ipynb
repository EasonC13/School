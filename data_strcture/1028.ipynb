{
 "cells": [
  {
   "cell_type": "code",
   "execution_count": 78,
   "metadata": {},
   "outputs": [
    {
     "name": "stdout",
     "output_type": "stream",
     "text": [
      "DbListNode([6, 5, 4, 3, 2, 1, 0])\n",
      "DbListNode([3, 2, 1, 0])\n",
      "DbListNode([])\n"
     ]
    }
   ],
   "source": [
    "#作業4-7\n",
    "class Node:\n",
    "    def __init__(self, data, llink = None, rlink = None):\n",
    "        self.data = data\n",
    "        self.llink = llink\n",
    "        self.rlink = rlink\n",
    "\n",
    "class DbListNode:\n",
    "    def __init__(self, node = None):\n",
    "        self.amount = 0\n",
    "        if node:\n",
    "            print(\"trigger\")\n",
    "            node.rlink = node\n",
    "            node.llink = node\n",
    "            self.head = node\n",
    "            self.end = node\n",
    "            self.isempty = False\n",
    "            self.amount += 1\n",
    "        else:\n",
    "            self.isempty = True\n",
    "    def insertAtFirstNode(self, node):\n",
    "        if self.amount == 0:\n",
    "            node.rlink = node\n",
    "            node.llink = node\n",
    "            self.head = node\n",
    "            self.end = node\n",
    "            self.isempty = False\n",
    "            self.amount += 1\n",
    "        else:\n",
    "            node.llink = self.head.llink\n",
    "            node.rlink = self.head\n",
    "            self.head.llink = node\n",
    "            self.end.rlink = node\n",
    "            self.head = node\n",
    "            self.amount += 1\n",
    "    def removeAtFirstNode(self):\n",
    "        if self.amount == 0:\n",
    "            return False\n",
    "        else:\n",
    "            self.head.rlink.llink = self.end\n",
    "            self.end.rlink = self.head.rlink\n",
    "            out = self.head\n",
    "            self.head = self.head.rlink\n",
    "            self.amount -= 1\n",
    "        return out\n",
    "    def printNode(self, returnString = False):\n",
    "        if self.amount == 0:\n",
    "            out = \"DbListNode([])\"\n",
    "            if returnString: return (out)\n",
    "            print(out)\n",
    "        else:\n",
    "            yes = self.head\n",
    "            trigger = True\n",
    "            out = 'DbListNode(['\n",
    "            while(trigger or yes != self.head):\n",
    "                trigger = False\n",
    "                out += str(yes.data) + \", \"\n",
    "                yes = yes.rlink\n",
    "            out = out[0:-2] + \"])\"\n",
    "            if returnString: return (out)\n",
    "            print(out)\n",
    "    \n",
    "    def isEmpty(self):\n",
    "        return self.amount == 0\n",
    "    \n",
    "#測試程式碼\n",
    "db = DbListNode()\n",
    "for i in range(7):\n",
    "    db.insertAtFirstNode(Node(i))\n",
    "db.printNode()\n",
    "\n",
    "for i in range(3):\n",
    "    db.removeAtFirstNode()\n",
    "db.printNode()\n",
    "    \n",
    "for i in range(7):\n",
    "    db.removeAtFirstNode()\n",
    "\n",
    "db.printNode()"
   ]
  },
  {
   "cell_type": "code",
   "execution_count": null,
   "metadata": {},
   "outputs": [],
   "source": []
  },
  {
   "cell_type": "code",
   "execution_count": 96,
   "metadata": {},
   "outputs": [
    {
     "name": "stdout",
     "output_type": "stream",
     "text": [
      "StackNode([6, 5, 4, 3, 2, 1, 0])\n",
      "pop out  6\n",
      "pop out  5\n",
      "pop out  4\n",
      "pop out  3\n",
      "StackNode([2, 1, 0])\n",
      "Top is 2\n",
      "又POP了4次\n",
      "StackNode([])\n"
     ]
    }
   ],
   "source": [
    "#作業4-8\n",
    "\n",
    "class Node:\n",
    "    def __init__(self, data, nexts = None):\n",
    "        self.data = data\n",
    "        self.next = nexts\n",
    "\n",
    "class StackNode:\n",
    "    def __init__(self, node = None):\n",
    "        self.amount = 0\n",
    "        if node:\n",
    "            pass\n",
    "        \n",
    "        pass\n",
    "    def push(self, node):\n",
    "        if self.amount == 0:\n",
    "            self.head = node\n",
    "            self.isempty = False\n",
    "        else:\n",
    "            node.next = self.head\n",
    "            self.head = node\n",
    "        self.amount += 1\n",
    "    def pop(self):\n",
    "        if self.amount == 0:\n",
    "            return False\n",
    "        else:\n",
    "            out = self.head\n",
    "            self.head = self.head.next\n",
    "            self.amount -= 1\n",
    "        return out\n",
    "    def printNode(self, returnString = False):\n",
    "        if self.amount == 0:\n",
    "            out = \"StackNode([])\"\n",
    "            if returnString: return (out)\n",
    "            print(out)\n",
    "        else:\n",
    "            yes = self.head\n",
    "            out = 'StackNode(['\n",
    "            while(yes!=None):\n",
    "                out += str(yes.data) + \", \"\n",
    "                yes = yes.next\n",
    "            out = out[0:-2] + \"])\"\n",
    "            if returnString: return (out)\n",
    "            print(out)\n",
    "        \n",
    "    def top(self, returnString = False):\n",
    "        if returnString: return (self.head.data)\n",
    "        print(\"Top is\", self.head.data)\n",
    "\n",
    "#測試程式碼\n",
    "stackNode = StackNode()\n",
    "for i in range(7):\n",
    "    stackNode.push(Node(i))\n",
    "stackNode.printNode()\n",
    "for i in range(4):\n",
    "    a = stackNode.pop()\n",
    "    print(\"pop out \", a.data)\n",
    "stackNode.printNode()\n",
    "\n",
    "stackNode.top()\n",
    "\n",
    "for i in range(4):\n",
    "    a = stackNode.pop()\n",
    "\n",
    "print(\"又POP了%d次\"%(i+1))\n",
    "stackNode.printNode()"
   ]
  },
  {
   "cell_type": "code",
   "execution_count": null,
   "metadata": {},
   "outputs": [],
   "source": []
  },
  {
   "cell_type": "code",
   "execution_count": 111,
   "metadata": {},
   "outputs": [
    {
     "name": "stdout",
     "output_type": "stream",
     "text": [
      "Queue([7, 6, 5, 4, 3, 2, 1, 0])\n",
      "Pop out 0\n",
      "Pop out 1\n",
      "Pop out 2\n",
      "Pop out 3\n",
      "Queue rear is 4\n",
      "Queue([7, 6, 5, 4])\n",
      "Pop another 8 times\n",
      "Queue([])\n"
     ]
    }
   ],
   "source": [
    "#作業4-9\n",
    "\n",
    "class Node:\n",
    "    def __init__(self, data, nexts = None):\n",
    "        self.data = data\n",
    "        self.next = nexts\n",
    "\n",
    "class Queue:\n",
    "    def __init__(self):\n",
    "        self.amount = 0\n",
    "    def push(self, node):\n",
    "        if self.amount == 0:\n",
    "            self.head = node\n",
    "        else:\n",
    "            node.next = self.head\n",
    "            self.head = node\n",
    "        self.amount += 1\n",
    "    def pop(self):\n",
    "        if self.amount == 0:\n",
    "            return False\n",
    "        elif self.amount == 1:\n",
    "            out = self.head\n",
    "            self.head = None\n",
    "        else:\n",
    "            yes = self.head\n",
    "            trigger = True\n",
    "            while(yes != None or trigger == True):\n",
    "                trigger = False\n",
    "                if yes.next.next == None:\n",
    "                    break\n",
    "                yes = yes.next\n",
    "            out = yes.next\n",
    "            yes.next = None\n",
    "        self.amount -= 1\n",
    "        return out\n",
    "    def front(self):\n",
    "        return self.head\n",
    "    def rear(self):\n",
    "        yes = self.head\n",
    "        if yes:\n",
    "            while yes.next!= None:\n",
    "                yes = yes.next\n",
    "            return yes\n",
    "        else:\n",
    "            print(\"Empty\")\n",
    "            return None\n",
    "    def printQueue(self, returnString = False):\n",
    "        if self.amount == 0:\n",
    "            out = \"Queue([])\"\n",
    "            if returnString: return (out)\n",
    "            print(out)\n",
    "        else:\n",
    "            yes = self.head\n",
    "            out = 'Queue(['\n",
    "            while(yes!=None):\n",
    "                out += str(yes.data) + \", \"\n",
    "                yes = yes.next\n",
    "            out = out[0:-2] + \"])\"\n",
    "            if returnString: return (out)\n",
    "            print(out)\n",
    "    \n",
    "#測試程式碼\n",
    "queue = Queue()\n",
    "for i in range(8):\n",
    "    queue.push(Node(i))\n",
    "queue.printQueue()\n",
    "\n",
    "for i in range(4):\n",
    "    a = queue.pop().data\n",
    "    print(\"Pop out\", a)\n",
    "\n",
    "print(\"Queue rear is\", queue.rear().data)\n",
    "queue.printQueue()\n",
    "\n",
    "for i in range(8):\n",
    "    queue.pop()\n",
    "print(\"Pop another %d times\"%(i+1))\n",
    "\n",
    "queue.printQueue()"
   ]
  },
  {
   "cell_type": "code",
   "execution_count": null,
   "metadata": {},
   "outputs": [],
   "source": []
  },
  {
   "cell_type": "code",
   "execution_count": 149,
   "metadata": {
    "ExecuteTime": {
     "end_time": "2019-10-29T03:07:44.506358Z",
     "start_time": "2019-10-29T03:07:44.480491Z"
    }
   },
   "outputs": [
    {
     "name": "stdout",
     "output_type": "stream",
     "text": [
      "1x^6 + 2x^3 + 3x^1\n",
      "87x^15 + 1x^6 + 2x^3 + 3x^0\n",
      "相加\n",
      "87x^15 + 2x^6 + 4x^3 + 3x^1 + 3x^0\n",
      "---\n",
      "1x^1 + 2x^0\n",
      "2x^2 + -3x^1 + -1x^0\n",
      "相乘\n",
      "2x^3 + 1x^2 + -7x^1 + -2x^0\n"
     ]
    }
   ],
   "source": [
    "#進階作業04-02\n",
    "\n",
    "class Node:\n",
    "    def __init__(self, num, pows, next = None):\n",
    "        self.num = num\n",
    "        self.pow = pows\n",
    "        self.next = None\n",
    "\n",
    "\n",
    "class Polynomial:\n",
    "    def __init__(self):\n",
    "        self.front = Node(None, -1)\n",
    "        self.rear = self.front\n",
    "        self.amount = 1\n",
    "    def insertAtLastNode(self, node):\n",
    "        self.rear.next = node\n",
    "        self.rear = self.rear.next\n",
    "    def printPolynomial(self):\n",
    "        out = \"\"\n",
    "        yes = self.front.next\n",
    "        if yes:\n",
    "            while(yes != None):\n",
    "                out += \"%dx^%d\"%(yes.num, yes.pow)\n",
    "                yes = yes.next\n",
    "                if yes:\n",
    "                    out += \" + \"\n",
    "        print(out)\n",
    "    \n",
    "    def add(self, other, replace = False):\n",
    "        out = Polynomial()\n",
    "        yes = self.front.next\n",
    "        oh = other.front.next\n",
    "        if oh.pow >= yes.pow:\n",
    "            biggest = oh.pow\n",
    "        else:\n",
    "            biggest = yes.pow\n",
    "        for j in range(biggest + 1):\n",
    "            i = biggest - j\n",
    "            temp = Node(0, i)\n",
    "            if oh:\n",
    "                if oh.pow == i:\n",
    "                    temp.num += oh.num\n",
    "                    oh = oh.next\n",
    "            if yes:\n",
    "                if yes.pow == i:\n",
    "                    temp.num += yes.num\n",
    "                    yes = yes.next\n",
    "            if temp.num:\n",
    "                out.insertAtLastNode(temp)\n",
    "        if replace:\n",
    "            self.front = out.front\n",
    "            self.rear = out.rear\n",
    "        else: return out\n",
    "        \n",
    "    def multiply(self, other):\n",
    "        out = Polynomial()\n",
    "        out.insertAtLastNode(Node(0, -1))\n",
    "        yes = self.front.next\n",
    "        for i in range(self.front.next.pow+1):\n",
    "            i = self.front.next.pow - i\n",
    "            if yes.pow == i:\n",
    "                #print(yes.num, yes.pow)\n",
    "                temp = Polynomial()\n",
    "                oh = other.front.next\n",
    "                for j in range(other.front.next.pow+1):\n",
    "                    j = other.front.next.pow - j\n",
    "                    if j == oh.pow:\n",
    "                        temp.insertAtLastNode(Node(yes.num * oh.num, yes.pow + oh.pow))\n",
    "                        #print(\"%d^%d\"%(yes.num * oh.num, yes.pow * oh.pow))\n",
    "                        oh = oh.next\n",
    "                #temp.printPolynomial()\n",
    "                yes = yes.next\n",
    "                #out.printPolynomial()\n",
    "                out.add(temp, replace= True)\n",
    "                \n",
    "                \n",
    "        return out\n",
    "            \n",
    "\n",
    "#測試程式碼\n",
    "\n",
    "poly = Polynomial()\n",
    "\n",
    "num, pows = [1,2,3], [6,3,1]\n",
    "for i in range(len(num)):\n",
    "    poly.insertAtLastNode(Node(num[i], pows[i]))\n",
    "\n",
    "poly.printPolynomial()\n",
    "\n",
    "poly2 = Polynomial()\n",
    "\n",
    "num, pows = [87, 1,2,3], [15, 6, 3,0]\n",
    "for i in range(len(num)):\n",
    "    poly2.insertAtLastNode(Node(num[i], pows[i]))\n",
    "    \n",
    "poly2.printPolynomial()\n",
    "print(\"相加\")\n",
    "out = poly.add(poly2)\n",
    "\n",
    "out.printPolynomial()\n",
    "\n",
    "\n",
    "print(\"---\")\n",
    "\n",
    "\n",
    "poly1 = Polynomial()\n",
    "pows = [1, 0]\n",
    "nums = [1, 2]\n",
    "for i in range(2):\n",
    "    poly1.insertAtLastNode(Node(nums[i], pows[i]))\n",
    "    \n",
    "poly2 = Polynomial()\n",
    "pows = [2, 1, 0]\n",
    "nums = [2, -3, -1]\n",
    "for i in range(len(pows)):\n",
    "    poly2.insertAtLastNode(Node(nums[i], pows[i]))\n",
    "poly1.printPolynomial()\n",
    "poly2.printPolynomial()\n",
    "print(\"相乘\")\n",
    "out = poly1.multiply(poly2)\n",
    "\n",
    "out.printPolynomial()"
   ]
  },
  {
   "cell_type": "code",
   "execution_count": 138,
   "metadata": {
    "ExecuteTime": {
     "end_time": "2019-10-29T03:05:50.926534Z",
     "start_time": "2019-10-29T03:05:50.914104Z"
    }
   },
   "outputs": [
    {
     "name": "stdout",
     "output_type": "stream",
     "text": [
      "87 15\n",
      "7569x^30 + 174x^21 + 348x^18 + 261x^16 + 261x^15\n",
      "2 6\n",
      "7569x^30 + 348x^21 + 348x^18 + 261x^16 + 261x^15 + 4x^12 + 8x^9 + 6x^7 + 6x^6\n",
      "4 3\n",
      "7569x^30 + 348x^21 + 696x^18 + 261x^16 + 261x^15 + 4x^12 + 16x^9 + 6x^7 + 22x^6 + 12x^4 + 12x^3\n",
      "3 1\n",
      "7569x^30 + 348x^21 + 696x^18 + 522x^16 + 261x^15 + 4x^12 + 16x^9 + 12x^7 + 22x^6 + 24x^4 + 12x^3 + 9x^2 + 9x^1\n",
      "3 0\n",
      "7569x^30 + 348x^21 + 696x^18 + 522x^16 + 522x^15 + 4x^12 + 16x^9 + 12x^7 + 28x^6 + 24x^4 + 24x^3 + 9x^2 + 18x^1 + 9x^0\n"
     ]
    },
    {
     "data": {
      "text/plain": [
       "<__main__.Polynomial at 0x7fc17cf75128>"
      ]
     },
     "execution_count": 138,
     "metadata": {},
     "output_type": "execute_result"
    }
   ],
   "source": [
    "out.multiply(out)"
   ]
  },
  {
   "cell_type": "code",
   "execution_count": 33,
   "metadata": {
    "ExecuteTime": {
     "end_time": "2019-10-29T02:47:57.309110Z",
     "start_time": "2019-10-29T02:47:57.302346Z"
    }
   },
   "outputs": [],
   "source": [
    "c = Polynomial()"
   ]
  },
  {
   "cell_type": "code",
   "execution_count": 34,
   "metadata": {
    "ExecuteTime": {
     "end_time": "2019-10-29T02:47:57.590829Z",
     "start_time": "2019-10-29T02:47:57.582009Z"
    }
   },
   "outputs": [
    {
     "name": "stdout",
     "output_type": "stream",
     "text": [
      "0x^-1\n"
     ]
    }
   ],
   "source": [
    "c.insertAtLastNode(Node(0,-1))\n",
    "c.printPolynomial()"
   ]
  },
  {
   "cell_type": "code",
   "execution_count": 35,
   "metadata": {
    "ExecuteTime": {
     "end_time": "2019-10-29T02:47:59.093778Z",
     "start_time": "2019-10-29T02:47:59.090894Z"
    }
   },
   "outputs": [],
   "source": [
    "c.add(out, replace= True)"
   ]
  },
  {
   "cell_type": "code",
   "execution_count": 36,
   "metadata": {
    "ExecuteTime": {
     "end_time": "2019-10-29T02:47:59.476397Z",
     "start_time": "2019-10-29T02:47:59.471483Z"
    }
   },
   "outputs": [
    {
     "name": "stdout",
     "output_type": "stream",
     "text": [
      "87x^15 + 2x^6 + 4x^3 + 3x^1 + 3x^0\n"
     ]
    }
   ],
   "source": [
    "c.printPolynomial()"
   ]
  },
  {
   "cell_type": "code",
   "execution_count": 28,
   "metadata": {
    "ExecuteTime": {
     "end_time": "2019-10-29T02:47:03.957602Z",
     "start_time": "2019-10-29T02:47:03.950027Z"
    }
   },
   "outputs": [
    {
     "name": "stdout",
     "output_type": "stream",
     "text": [
      "87x^15 + 2x^6 + 4x^3 + 3x^1 + 3x^0\n"
     ]
    }
   ],
   "source": [
    "out.printPolynomial()"
   ]
  },
  {
   "cell_type": "code",
   "execution_count": 8,
   "metadata": {
    "ExecuteTime": {
     "end_time": "2019-10-29T02:41:20.623609Z",
     "start_time": "2019-10-29T02:41:20.621227Z"
    }
   },
   "outputs": [
    {
     "data": {
      "text/plain": [
       "<__main__.Polynomial at 0x7fc17d1ee6d8>"
      ]
     },
     "execution_count": 8,
     "metadata": {},
     "output_type": "execute_result"
    }
   ],
   "source": [
    "out"
   ]
  },
  {
   "cell_type": "code",
   "execution_count": null,
   "metadata": {},
   "outputs": [],
   "source": []
  }
 ],
 "metadata": {
  "hide_input": false,
  "kernelspec": {
   "display_name": "Python 3",
   "language": "python",
   "name": "python3"
  },
  "language_info": {
   "codemirror_mode": {
    "name": "ipython",
    "version": 3
   },
   "file_extension": ".py",
   "mimetype": "text/x-python",
   "name": "python",
   "nbconvert_exporter": "python",
   "pygments_lexer": "ipython3",
   "version": "3.6.9"
  },
  "varInspector": {
   "cols": {
    "lenName": 16,
    "lenType": 16,
    "lenVar": 40
   },
   "kernels_config": {
    "python": {
     "delete_cmd_postfix": "",
     "delete_cmd_prefix": "del ",
     "library": "var_list.py",
     "varRefreshCmd": "print(var_dic_list())"
    },
    "r": {
     "delete_cmd_postfix": ") ",
     "delete_cmd_prefix": "rm(",
     "library": "var_list.r",
     "varRefreshCmd": "cat(var_dic_list()) "
    }
   },
   "types_to_exclude": [
    "module",
    "function",
    "builtin_function_or_method",
    "instance",
    "_Feature"
   ],
   "window_display": false
  }
 },
 "nbformat": 4,
 "nbformat_minor": 2
}
