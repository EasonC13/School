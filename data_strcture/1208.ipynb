{
 "cells": [
  {
   "cell_type": "code",
   "execution_count": 1,
   "metadata": {
    "ExecuteTime": {
     "end_time": "2019-12-08T14:41:04.284592Z",
     "start_time": "2019-12-08T14:41:04.247975Z"
    }
   },
   "outputs": [
    {
     "ename": "NameError",
     "evalue": "name 'ALL' is not defined",
     "output_type": "error",
     "traceback": [
      "\u001b[0;31m---------------------------------------------------------------------------\u001b[0m",
      "\u001b[0;31mNameError\u001b[0m                                 Traceback (most recent call last)",
      "\u001b[0;32m<ipython-input-1-0ac7be52cdd3>\u001b[0m in \u001b[0;36m<module>\u001b[0;34m\u001b[0m\n\u001b[1;32m      1\u001b[0m \u001b[0;32mimport\u001b[0m \u001b[0mnumpy\u001b[0m \u001b[0;32mas\u001b[0m \u001b[0mnp\u001b[0m\u001b[0;34m\u001b[0m\u001b[0;34m\u001b[0m\u001b[0m\n\u001b[0;32m----> 2\u001b[0;31m \u001b[0mTV0\u001b[0m \u001b[0;34m=\u001b[0m \u001b[0;34m[\u001b[0m\u001b[0mALL\u001b[0m\u001b[0;34m]\u001b[0m\u001b[0;34m\u001b[0m\u001b[0;34m\u001b[0m\u001b[0m\n\u001b[0m\u001b[1;32m      3\u001b[0m \u001b[0mTV\u001b[0m \u001b[0;34m=\u001b[0m \u001b[0;34m[\u001b[0m\u001b[0;34m]\u001b[0m\u001b[0;34m\u001b[0m\u001b[0;34m\u001b[0m\u001b[0m\n\u001b[1;32m      4\u001b[0m \u001b[0mT\u001b[0m \u001b[0;34m=\u001b[0m \u001b[0;34m[\u001b[0m\u001b[0;34m]\u001b[0m\u001b[0;34m\u001b[0m\u001b[0;34m\u001b[0m\u001b[0m\n\u001b[1;32m      5\u001b[0m \u001b[0mtarget\u001b[0m \u001b[0;34m=\u001b[0m \u001b[0mTV0\u001b[0m\u001b[0;34m[\u001b[0m\u001b[0;36m0\u001b[0m\u001b[0;34m]\u001b[0m\u001b[0;34m\u001b[0m\u001b[0;34m\u001b[0m\u001b[0m\n",
      "\u001b[0;31mNameError\u001b[0m: name 'ALL' is not defined"
     ]
    }
   ],
   "source": [
    "import numpy as np\n",
    "TV0 = [ALL]\n",
    "TV = []\n",
    "T = []\n",
    "target = TV0[0]\n",
    "if len(TV0)==0:\n",
    "    print(\"TV0 is empty QQ\")\n",
    "while(len(TV0) > 0):\n",
    "    TV0.remove(target)\n",
    "    temp = []\n",
    "    for tar in TV:\n",
    "        temp.append(tar.edge)\n",
    "    shortest_edge = np.sortby(temp.long)[0] #透過大小排序找出最短邊\n",
    "    #資料結構說明：一個點內有它的edges陣列，每個邊有兩個屬性，long長度，num連接對象\n",
    "    #手受傷，不多打\n",
    "    i = 1\n",
    "    while shortest_edge in TV:\n",
    "        shortest_edge = np.sortby(temp.long)[i] #然後找出不在TV的最短邊\n",
    "        i+=1\n",
    "    T.append(Edge(target, shortest_edge.num, shortest_edge.long)) #加入T\n",
    "    target = shortest_edge.num\n",
    "    TV.append(target) #加入TV"
   ]
  },
  {
   "cell_type": "code",
   "execution_count": 100,
   "metadata": {
    "ExecuteTime": {
     "end_time": "2019-12-09T10:03:43.313251Z",
     "start_time": "2019-12-09T10:03:43.247334Z"
    }
   },
   "outputs": [
    {
     "name": "stdout",
     "output_type": "stream",
     "text": [
      "本測試code使用老師簡報的作業06-03圖片中的樹\n",
      "E的分支度是 4\n",
      "深度優先搜尋 [A, B, E, C, F, I, J, H, D, G]\n",
      "廣度優先搜尋 [A, B, C, E, D, F, H, I, G, J]\n",
      "開始G點的最短路徑查詢，以下是過程\n",
      "D 1\n",
      "{'A': None, 'B': None, 'C': None, 'D': 1, 'E': None, 'F': None, 'G': 0, 'H': None, 'I': None, 'J': None}\n",
      "B\n",
      "H\n",
      "G\n",
      "B 2\n",
      "{'A': None, 'B': 2, 'C': None, 'D': 1, 'E': None, 'F': None, 'G': 0, 'H': 2, 'I': None, 'J': None}\n",
      "A\n",
      "E\n",
      "D\n",
      "H 2\n",
      "{'A': 3, 'B': 2, 'C': None, 'D': 1, 'E': 3, 'F': None, 'G': 0, 'H': 2, 'I': None, 'J': None}\n",
      "D\n",
      "E\n",
      "A 3\n",
      "{'A': 3, 'B': 2, 'C': None, 'D': 1, 'E': 3, 'F': None, 'G': 0, 'H': 2, 'I': None, 'J': None}\n",
      "B\n",
      "C\n",
      "E 3\n",
      "{'A': 3, 'B': 2, 'C': 4, 'D': 1, 'E': 3, 'F': None, 'G': 0, 'H': 2, 'I': None, 'J': None}\n",
      "B\n",
      "C\n",
      "H\n",
      "I\n",
      "C 4\n",
      "{'A': 3, 'B': 2, 'C': 4, 'D': 1, 'E': 3, 'F': None, 'G': 0, 'H': 2, 'I': 4, 'J': None}\n",
      "A\n",
      "E\n",
      "F\n",
      "I 4\n",
      "{'A': 3, 'B': 2, 'C': 4, 'D': 1, 'E': 3, 'F': 5, 'G': 0, 'H': 2, 'I': 4, 'J': None}\n",
      "E\n",
      "F\n",
      "F 5\n",
      "{'A': 3, 'B': 2, 'C': 4, 'D': 1, 'E': 3, 'F': 5, 'G': 0, 'H': 2, 'I': 4, 'J': None}\n",
      "C\n",
      "I\n",
      "J\n",
      "J 6\n",
      "{'A': 3, 'B': 2, 'C': 4, 'D': 1, 'E': 3, 'F': 5, 'G': 0, 'H': 2, 'I': 4, 'J': 6}\n",
      "F\n",
      "已完成最短路徑查詢\n",
      "\n",
      " {'A': 3, 'B': 2, 'C': 4, 'D': 1, 'E': 3, 'F': 5, 'G': 0, 'H': 2, 'I': 4, 'J': 6}\n"
     ]
    }
   ],
   "source": [
    "class Queue:\n",
    "    def __init__(self, lens):\n",
    "        self.len = lens\n",
    "        self.queue = list([-1] * lens)\n",
    "        self.head = -1\n",
    "        self.rear = -1\n",
    "        self.amount = 0\n",
    "    def isEmpty(self):\n",
    "        return self.amount == 0\n",
    "    def isFull(self):\n",
    "        return self.amount >= self.len\n",
    "    \n",
    "    def push(self, t):\n",
    "        if self.isFull() == False:\n",
    "            self.new = t\n",
    "            self.amount += 1\n",
    "            self.queue[self.head] = t\n",
    "            self.head -= 1\n",
    "            if self.head == -self.len - 1 :\n",
    "                self.head = -1\n",
    "            return True\n",
    "        else:\n",
    "            print(\"Queue is full\")\n",
    "            return False\n",
    "            \n",
    "    def pop(self):\n",
    "        if self.isEmpty() == False:\n",
    "            self.amount -= 1\n",
    "            out = self.queue[self.rear]\n",
    "            self.queue[self.rear] = 0.87\n",
    "            self.rear -= 1\n",
    "            if self.rear <= -self.len - 1:\n",
    "                self.rear = -1\n",
    "            return out\n",
    "        else:\n",
    "            print(\"Queue is empty\")\n",
    "            return False\n",
    "    def printQueue(self):\n",
    "        temp = self.rear\n",
    "        out = list([0] * self.amount)\n",
    "        for i in range(self.amount):\n",
    "            out[i] = self.queue[temp]\n",
    "            temp -= 1\n",
    "            if temp <= -self.len - 1:\n",
    "                temp = -1\n",
    "            if temp == self.head:\n",
    "                break\n",
    "        print(out[::-1])\n",
    "        return out[::-1]\n",
    "    def back(self):\n",
    "        return self.queue[self.rear]\n",
    "    def front(self):\n",
    "        return self.new\n",
    "\n",
    "\n",
    "class Node:\n",
    "    def __init__(self, data, nexts = None, lens = None):\n",
    "        self.data = data\n",
    "        self.next = nexts\n",
    "        if lens:\n",
    "            self.lens = lens\n",
    "        else:\n",
    "            self.lens = None\n",
    "\n",
    "class LinkedList:\n",
    "    def __init__(self, head = None):\n",
    "        self.head = head\n",
    "        \n",
    "    def isEmpty(self):\n",
    "        return self.head == None\n",
    "    \n",
    "    def insertAtFirstNode(self, newNode):\n",
    "        if self.isEmpty():\n",
    "            self.head = newNode\n",
    "        else:\n",
    "            newNode.next = self.head\n",
    "            self.head = newNode\n",
    "        \n",
    "    def removeFirstNode(self):\n",
    "        if self.isEmpty():\n",
    "            print(\"is Empty\")\n",
    "            return false\n",
    "        else:\n",
    "            out = self.head\n",
    "            self.head = self.head.next\n",
    "            return out\n",
    "    \n",
    "    def insertNode(self, curNode, newNode):\n",
    "        temp = curNode.next\n",
    "        curNode.next = newNode\n",
    "        newNode.next = temp\n",
    "    \n",
    "    def get_node(self, index = 0):\n",
    "        if self.isEmpty(): return None\n",
    "        yes = self.head\n",
    "        for i in range(index):\n",
    "            yes = yes.next\n",
    "        return yes\n",
    "    \n",
    "    def insertAtLastNode(self, newNode):\n",
    "        if self.isEmpty():\n",
    "            self.head = newNode\n",
    "        else:\n",
    "            yes = self.head\n",
    "            while(yes.next != None):\n",
    "                yes = yes.next\n",
    "            yes.next = newNode\n",
    "            \n",
    "    def removeLastNode(self):\n",
    "        if self.isEmpty(): \n",
    "            print(\"Empty, can't remove\")\n",
    "            return False\n",
    "        else:\n",
    "            yes = self.head\n",
    "            while(yes.next != None):\n",
    "                yes = yes.next\n",
    "            out = yes.next\n",
    "            yes.next = None\n",
    "            return out\n",
    "        \n",
    "    def __len__(self):\n",
    "        if self.isEmpty(): return 0\n",
    "        yes = self.head\n",
    "        out = 1\n",
    "        while(yes.next != None):\n",
    "            yes = yes.next\n",
    "            out += 1\n",
    "        return out\n",
    "    def printList(self, resend = False):\n",
    "        if self.isEmpty(): return \"List([])\"\n",
    "        yes = self.head\n",
    "        out = 'List(['\n",
    "        while(yes != None):\n",
    "            out += (str(yes.data) + ', ') \n",
    "            yes = yes.next\n",
    "        out = out[0:-2] + \"])\"\n",
    "        if resend: return out\n",
    "        print(out)\n",
    "        \n",
    "    def get_list(self, start = 0):\n",
    "        if self.isEmpty(): return []\n",
    "        yes = self.head\n",
    "        for i in range(start):\n",
    "            yes = yes.next\n",
    "        out = []\n",
    "        while(yes != None):\n",
    "            out.append(yes.data)\n",
    "            yes = yes.next\n",
    "        return out\n",
    "        \n",
    "    def concatenate(self, other):\n",
    "        self.insertAtLastNode(other.head)\n",
    "    def inverse(self):\n",
    "        if self.isEmpty(): return LinkedList()\n",
    "        yes = self.head\n",
    "        prev = None\n",
    "        while(yes != None):\n",
    "            temp = yes.next\n",
    "            data = yes.data\n",
    "            prev = Node(data, nexts = prev)\n",
    "            yes = temp\n",
    "        return LinkedList(prev)\n",
    "    \n",
    "    def check_it(self, target):\n",
    "        if self.isEmpty(): return False\n",
    "        yes = self.head\n",
    "        for i in range(len(self)):\n",
    "            if(yes is target):\n",
    "                return True\n",
    "            yes = yes.next\n",
    "        return False\n",
    "    \n",
    "    def check_it_data(self, target_data):\n",
    "        if self.isEmpty(): return False\n",
    "        yes = self.head\n",
    "        for i in range(len(self)):\n",
    "            if(yes.data is target):\n",
    "                return True\n",
    "            yes = yes.next\n",
    "        return False\n",
    "\n",
    "class virtex:\n",
    "    def __init__(self, name, data = None):\n",
    "        self.name = name\n",
    "        if data:\n",
    "            self.data = data\n",
    "        else:\n",
    "            self.data = name\n",
    "        \n",
    "class Graph:\n",
    "    #using linked list\n",
    "    def __init__(self):\n",
    "        \n",
    "        self.v = 0\n",
    "        self.e = 0\n",
    "        self.dict = {}\n",
    "    \n",
    "    def isEmpty(self):\n",
    "        return (self.v == 0)\n",
    "    \n",
    "    def num_vertic(self):\n",
    "        return self.v\n",
    "    def num_edge(self):\n",
    "        return self.e\n",
    "    \n",
    "    def insertVertex(self, new_v):\n",
    "        self.dict[new_v.name] = LinkedList(Node(new_v))\n",
    "        self.v += 1\n",
    "    \n",
    "    def insertEdge(self, e_from, e_to, e_lens, two_side = True):\n",
    "        if e_from in self.dict and e_to in self.dict:\n",
    "            from_list = self.dict[e_from]\n",
    "            to_list = self.dict[e_to]\n",
    "            from_list.insertAtLastNode(Node(to_list.get_node().data, None, e_lens))\n",
    "            if two_side:\n",
    "                to_list.insertAtLastNode(Node(from_list.get_node().data, None, e_lens))\n",
    "        else:\n",
    "            print(\"Not found\")\n",
    "    def get_degree(self, vertic):\n",
    "        temp = self.dict[vertic]\n",
    "        return len(temp) - 1\n",
    "    \n",
    "    def existEdge(e_from, e_to, two_side = True):\n",
    "        if e_from in self.dict and e_to in self.dict:\n",
    "            from_list = self.dict[e_from]\n",
    "            to_list = self.dict[e_to]\n",
    "            a = from_list.check_it(to_list.get_node())\n",
    "            if two_side:\n",
    "                b = to_list.check_it(from_list.get_node())\n",
    "            else:\n",
    "                b = True\n",
    "            return a and b\n",
    "    \n",
    "    def deleteVertex(self, target):\n",
    "        #非重點，跳過\n",
    "        pass\n",
    "    def deleteEdge(self, target_from, target_to, both_side = True):\n",
    "        #非重點，跳過\n",
    "        pass\n",
    "    \n",
    "    def do_DFS(self, start_name):\n",
    "        self.output = '['\n",
    "        self.already_search = {}\n",
    "        for i in self.dict.keys():\n",
    "            self.already_search[i] = False\n",
    "        self.DFS(self.dict[start_name])\n",
    "        return self.output[:-2] + \"]\"\n",
    "    \n",
    "    def DFS(self, target_list):\n",
    "        self.output += target_list.head.data.data\n",
    "        self.output += \", \"\n",
    "        self.already_search[target_list.head.data.name] = True\n",
    "        result = target_list.head.next\n",
    "        while(result != None):\n",
    "            if self.already_search[result.data.name] == False:\n",
    "                self.DFS(self.dict[result.data.name])\n",
    "            result = result.next\n",
    "                \n",
    "    def do_BFS(self, start_name):\n",
    "        self.output = '['\n",
    "        self.already_search = {}\n",
    "        for i in self.dict.keys():\n",
    "            self.already_search[i] = False\n",
    "        self.BFS(self.dict[start_name])\n",
    "        return self.output[:-2] + \"]\"\n",
    "\n",
    "    def BFS(self, target):\n",
    "        self.already_search[target.head.data.name] = True\n",
    "        self.output += target.head.data.data\n",
    "        self.output += \", \"\n",
    "        queue = Queue(self.v)\n",
    "        queue.push(target)\n",
    "        while(queue.isEmpty() == False):\n",
    "            v = queue.pop()\n",
    "            curNode = v.head.next\n",
    "            while(curNode!= None):\n",
    "                if self.already_search[curNode.data.name] == False:\n",
    "                    queue.push(self.dict[curNode.data.name])\n",
    "                    self.already_search[curNode.data.name] = True\n",
    "                    self.output += curNode.data.name\n",
    "                    self.output += \", \"\n",
    "                curNode = curNode.next\n",
    "                \n",
    "    def dijkstra(self, target):\n",
    "        if target in self.dict:\n",
    "            self.tempdict = {}\n",
    "            self.visited = {}\n",
    "            for i in self.dict.keys():\n",
    "                self.tempdict[i] = None\n",
    "                self.visited[i] = False\n",
    "            self.tempdict[target] = 0\n",
    "            self.visited[target] = True\n",
    "            \n",
    "            s = [False] * len(self.dict.keys())\n",
    "            yes = self.dict[target].head.next\n",
    "            for i in range(len(self.dict[target])-1):\n",
    "                self.tempdict[yes.data.data] = yes.lens\n",
    "                yes = yes.next\n",
    "                pass\n",
    "            while(False in self.visited.values()):\n",
    "                #找目前最短的\n",
    "                shortest = None\n",
    "                best = None\n",
    "                for i in self.tempdict.keys():\n",
    "                    if self.visited[i]:\n",
    "                        continue\n",
    "                    if self.tempdict[i] == None:\n",
    "                        continue\n",
    "                    if shortest == None:\n",
    "                        shortest = self.tempdict[i]\n",
    "                        best = i\n",
    "                    elif shortest > self.tempdict[i]:\n",
    "                        shortest = self.tempdict[i]\n",
    "                        best = i\n",
    "                self.visited[best] = True\n",
    "                print(best, shortest)\n",
    "                yes = self.dict[best].head.next\n",
    "                print(self.tempdict)\n",
    "                for i in range(len(self.dict[best])-1):\n",
    "                    print(yes.data.data)\n",
    "                    if self.tempdict[yes.data.data] == None or self.tempdict[yes.data.data]> yes.lens+ shortest:\n",
    "                        self.tempdict[yes.data.data] = yes.lens+ shortest\n",
    "                    yes = yes.next\n",
    "        else:\n",
    "            print(\"Not found\")\n",
    "        return self.tempdict\n",
    "    \n",
    "\n",
    "print(\"本測試code使用老師簡報的作業06-03圖片中的樹\")\n",
    "\n",
    "\n",
    "name = ['A', 'B', 'C', 'D', 'E', 'F', 'G', 'H', 'I', 'J']\n",
    "graph = Graph()\n",
    "relation = [['A', 'B'],\n",
    " ['A', 'C'],\n",
    " ['B', 'E'],\n",
    " ['C', 'E'],\n",
    " ['C', 'F'],\n",
    " ['B', 'D'],\n",
    " ['D', 'H'],\n",
    " ['D', 'G'],\n",
    " ['E', 'H'],\n",
    " ['E', 'I'],\n",
    " ['F', 'I'],\n",
    " ['F', 'J']]\n",
    "\n",
    "for name in name:\n",
    "    graph.insertVertex(virtex(name))\n",
    "\n",
    "for i, j in relation:\n",
    "    graph.insertEdge(i, j, 1)\n",
    "\n",
    "print(\"E的分支度是\", graph.get_degree(\"E\"))\n",
    "\n",
    "print(\"深度優先搜尋\", graph.do_DFS(\"A\"))\n",
    "\n",
    "print(\"廣度優先搜尋\", graph.do_BFS(\"A\"))\n",
    "\n",
    "tar = 'G'\n",
    "print(\"開始%s點的最短路徑查詢，以下是過程\"%(tar))\n",
    "print(\"已完成最短路徑查詢\\n\\n\", graph.dijkstra(tar))"
   ]
  },
  {
   "cell_type": "code",
   "execution_count": 91,
   "metadata": {
    "ExecuteTime": {
     "end_time": "2019-12-09T00:44:02.920451Z",
     "start_time": "2019-12-09T00:44:02.915119Z"
    }
   },
   "outputs": [
    {
     "data": {
      "text/plain": [
       "{'A': None,\n",
       " 'B': None,\n",
       " 'C': None,\n",
       " 'D': None,\n",
       " 'E': None,\n",
       " 'F': None,\n",
       " 'G': 0,\n",
       " 'H': None,\n",
       " 'I': None,\n",
       " 'J': None}"
      ]
     },
     "execution_count": 91,
     "metadata": {},
     "output_type": "execute_result"
    }
   ],
   "source": [
    "graph.tempdict"
   ]
  },
  {
   "cell_type": "code",
   "execution_count": 83,
   "metadata": {
    "ExecuteTime": {
     "end_time": "2019-12-09T00:40:36.679218Z",
     "start_time": "2019-12-09T00:40:36.674113Z"
    }
   },
   "outputs": [
    {
     "name": "stdout",
     "output_type": "stream",
     "text": [
      "List([<__main__.virtex object at 0x7fa97f665ef0>, <__main__.virtex object at 0x7fa97f6655c0>, <__main__.virtex object at 0x7fa97f665710>])\n"
     ]
    }
   ],
   "source": [
    "graph.dict['E'].printList()"
   ]
  },
  {
   "cell_type": "code",
   "execution_count": null,
   "metadata": {
    "ExecuteTime": {
     "end_time": "2019-12-09T00:24:58.226842Z",
     "start_time": "2019-12-09T00:24:56.079Z"
    }
   },
   "outputs": [],
   "source": [
    "len(graph.dict[\"A\"])"
   ]
  },
  {
   "cell_type": "code",
   "execution_count": 71,
   "metadata": {
    "ExecuteTime": {
     "end_time": "2019-12-09T00:36:00.866100Z",
     "start_time": "2019-12-09T00:36:00.856298Z"
    }
   },
   "outputs": [
    {
     "data": {
      "text/plain": [
       "3"
      ]
     },
     "execution_count": 71,
     "metadata": {},
     "output_type": "execute_result"
    }
   ],
   "source": [
    "len(graph.dict[\"A\"])"
   ]
  },
  {
   "cell_type": "code",
   "execution_count": 48,
   "metadata": {
    "ExecuteTime": {
     "end_time": "2019-12-09T00:15:30.910220Z",
     "start_time": "2019-12-09T00:15:30.907878Z"
    }
   },
   "outputs": [
    {
     "data": {
      "text/plain": [
       "{1: 2, 3: 5}"
      ]
     },
     "execution_count": 48,
     "metadata": {},
     "output_type": "execute_result"
    }
   ],
   "source": [
    "graph.vi"
   ]
  },
  {
   "cell_type": "code",
   "execution_count": 21,
   "metadata": {
    "ExecuteTime": {
     "end_time": "2019-12-09T00:01:37.966144Z",
     "start_time": "2019-12-09T00:01:37.956242Z"
    }
   },
   "outputs": [
    {
     "data": {
      "text/plain": [
       "dict_keys(['A', 'B', 'C', 'D', 'E', 'F', 'G', 'H', 'I', 'J'])"
      ]
     },
     "execution_count": 21,
     "metadata": {},
     "output_type": "execute_result"
    }
   ],
   "source": [
    "c.keys()"
   ]
  },
  {
   "cell_type": "code",
   "execution_count": 20,
   "metadata": {
    "ExecuteTime": {
     "end_time": "2019-12-09T00:01:11.636495Z",
     "start_time": "2019-12-09T00:01:11.627321Z"
    }
   },
   "outputs": [
    {
     "ename": "SyntaxError",
     "evalue": "unexpected EOF while parsing (<ipython-input-20-540b0f226e0a>, line 3)",
     "output_type": "error",
     "traceback": [
      "\u001b[0;36m  File \u001b[0;32m\"<ipython-input-20-540b0f226e0a>\"\u001b[0;36m, line \u001b[0;32m3\u001b[0m\n\u001b[0;31m    \u001b[0m\n\u001b[0m    ^\u001b[0m\n\u001b[0;31mSyntaxError\u001b[0m\u001b[0;31m:\u001b[0m unexpected EOF while parsing\n"
     ]
    }
   ],
   "source": [
    "def testPath(n, v):\n",
    "    s = []\n",
    "    for i in range(n):\n",
    "        "
   ]
  },
  {
   "cell_type": "code",
   "execution_count": null,
   "metadata": {
    "ExecuteTime": {
     "end_time": "2019-12-09T00:16:02.938159Z",
     "start_time": "2019-12-09T00:16:02.934056Z"
    }
   },
   "outputs": [],
   "source": []
  },
  {
   "cell_type": "code",
   "execution_count": null,
   "metadata": {},
   "outputs": [],
   "source": []
  }
 ],
 "metadata": {
  "hide_input": false,
  "kernelspec": {
   "display_name": "Python 3",
   "language": "python",
   "name": "python3"
  },
  "language_info": {
   "codemirror_mode": {
    "name": "ipython",
    "version": 3
   },
   "file_extension": ".py",
   "mimetype": "text/x-python",
   "name": "python",
   "nbconvert_exporter": "python",
   "pygments_lexer": "ipython3",
   "version": "3.6.9"
  },
  "varInspector": {
   "cols": {
    "lenName": 16,
    "lenType": 16,
    "lenVar": 40
   },
   "kernels_config": {
    "python": {
     "delete_cmd_postfix": "",
     "delete_cmd_prefix": "del ",
     "library": "var_list.py",
     "varRefreshCmd": "print(var_dic_list())"
    },
    "r": {
     "delete_cmd_postfix": ") ",
     "delete_cmd_prefix": "rm(",
     "library": "var_list.r",
     "varRefreshCmd": "cat(var_dic_list()) "
    }
   },
   "types_to_exclude": [
    "module",
    "function",
    "builtin_function_or_method",
    "instance",
    "_Feature"
   ],
   "window_display": false
  }
 },
 "nbformat": 4,
 "nbformat_minor": 2
}
