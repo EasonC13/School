{
 "cells": [
  {
   "cell_type": "code",
   "execution_count": 152,
   "metadata": {
    "ExecuteTime": {
     "end_time": "2019-10-14T03:27:50.143206Z",
     "start_time": "2019-10-14T03:27:50.132822Z"
    }
   },
   "outputs": [
    {
     "name": "stdout",
     "output_type": "stream",
     "text": [
      "The default number of the stack is -0.870000\n",
      "push successful, the new stack is: \n",
      " [0, -0.87, -0.87, -0.87, -0.87]\n",
      "push successful, the new stack is: \n",
      " [0, 1, -0.87, -0.87, -0.87]\n",
      "push successful, the new stack is: \n",
      " [0, 1, 2, -0.87, -0.87]\n",
      "push successful, the new stack is: \n",
      " [0, 1, 2, 3, -0.87]\n",
      "push successful, the new stack is: \n",
      " [0, 1, 2, 3, 4]\n",
      "\n",
      " --- \n",
      "\n",
      "stack([4, 3, 2, 1, 0])\n",
      "pop successful, the new stack is: stack([3, 2, 1, 0])\n",
      "4\n",
      "pop successful, the new stack is: stack([2, 1, 0])\n",
      "stack([2, 1, 0])\n"
     ]
    }
   ],
   "source": [
    "class Stack:\n",
    "    def __init__(self, stackCapacity, default = -0.87):\n",
    "        if stackCapacity <= 0:\n",
    "            raise Exception(\"stackCapacity must bigger than 0\")\n",
    "        self.default = default\n",
    "        self.capacity = stackCapacity\n",
    "        self.stack = [default] * self.capacity\n",
    "        self.top = -1\n",
    "        print(\"The default number of the stack is %f\"%(default))\n",
    "    def isEmpty(self):\n",
    "        if self.top == -1:\n",
    "            return True\n",
    "        return False\n",
    "    def isFull(self):\n",
    "        if self.top < self.capacity - 1:\n",
    "            return False\n",
    "        return True\n",
    "    def topItem(self):\n",
    "        return self.stack[self.top]\n",
    "    def push(self, t):\n",
    "        if self.isFull():\n",
    "            print(\"the stack is full\")\n",
    "            return False\n",
    "        self.top += 1\n",
    "        self.stack[self.top] = t\n",
    "        print(\"push successful, the new stack is: \\n\", self.stack)\n",
    "    def pop(self):\n",
    "        if self.isEmpty():\n",
    "            print('the stack is empty')\n",
    "            return False\n",
    "        out = self.stack[self.top]\n",
    "        self.stack[self.top] = self.default\n",
    "        self.top -= 1\n",
    "        print(\"pop successful, the new stack is: \", end = '')\n",
    "        self.printStack()\n",
    "        return out\n",
    "    def printStack(self):\n",
    "        out = 'stack(['\n",
    "        for i in range(self.top+1):\n",
    "            if i != 0:\n",
    "                out+=', '\n",
    "            j = (self.top - i)\n",
    "            out += str(self.stack[j])\n",
    "        out+='])'\n",
    "        print(out)\n",
    "\n",
    "a = Stack(5)\n",
    "\n",
    "for i in range(5):\n",
    "    a.push(i)\n",
    "\n",
    "print(\"\\n --- \\n\")\n",
    "a.printStack()\n",
    "\n",
    "print(a.pop())\n",
    "a.pop()\n",
    "a.printStack()"
   ]
  },
  {
   "cell_type": "code",
   "execution_count": 145,
   "metadata": {
    "ExecuteTime": {
     "end_time": "2019-10-14T03:25:42.012449Z",
     "start_time": "2019-10-14T03:25:42.007764Z"
    }
   },
   "outputs": [],
   "source": [
    "a = [0] * 8"
   ]
  },
  {
   "cell_type": "code",
   "execution_count": 146,
   "metadata": {
    "ExecuteTime": {
     "end_time": "2019-10-14T03:25:42.930388Z",
     "start_time": "2019-10-14T03:25:42.926008Z"
    }
   },
   "outputs": [],
   "source": [
    "if 0:\n",
    "    print(\"aa\")"
   ]
  },
  {
   "cell_type": "code",
   "execution_count": 64,
   "metadata": {
    "ExecuteTime": {
     "end_time": "2019-10-15T01:50:53.334427Z",
     "start_time": "2019-10-15T01:50:53.323025Z"
    }
   },
   "outputs": [
    {
     "name": "stdout",
     "output_type": "stream",
     "text": [
      "ABC+*D*\n",
      "abc*d+*ef*/\n",
      "ab*de//cf*g*+\n"
     ]
    }
   ],
   "source": [
    "class Stack:\n",
    "    def __init__(self, stackCapacity, default = -0.87):\n",
    "        if stackCapacity <= 0:\n",
    "            raise Exception(\"stackCapacity must bigger than 0\")\n",
    "        self.default = default\n",
    "        self.capacity = stackCapacity\n",
    "        self.stack = [default] * self.capacity\n",
    "        self.top = -1\n",
    "        #print(\"The default number of the stack is %f\"%(default))\n",
    "    def isEmpty(self):\n",
    "        if self.top == -1:\n",
    "            return True\n",
    "        return False\n",
    "    def isFull(self):\n",
    "        if self.top < self.capacity - 1:\n",
    "            return False\n",
    "        return True\n",
    "    def topItem(self):\n",
    "        return self.stack[self.top]\n",
    "    def push(self, t):\n",
    "        if self.isFull():\n",
    "            print(\"the stack is full\")\n",
    "            return False\n",
    "        self.top += 1\n",
    "        self.stack[self.top] = t\n",
    "        #print(\"push successful, the new stack is: \\n\", self.stack)\n",
    "    def pop(self):\n",
    "        if self.isEmpty():\n",
    "            #print('the stack is empty')\n",
    "            return False\n",
    "        out = self.stack[self.top]\n",
    "        self.stack[self.top] = self.default\n",
    "        self.top -= 1\n",
    "        #print(\"pop successful, the new stack is: \\n\", self.stack)\n",
    "        return out\n",
    "    def printStack(self):\n",
    "        out = 'stack(['\n",
    "        for i in range(self.top+1):\n",
    "            if i != 0:\n",
    "                out+=', '\n",
    "            j = (self.top - i)\n",
    "            out += str(self.stack[j])\n",
    "        out+='])'\n",
    "        print(out)\n",
    "\n",
    "def get_stack_prior(s):\n",
    "    if s in [\"*\", \"/\", \"%\"]:\n",
    "        return 2\n",
    "    if s in [\"+\", \"-\"]:\n",
    "        return 3\n",
    "    if s in ['<', '>', '<=', '>=']:\n",
    "        return 4\n",
    "    if s in [\"==\", \"!=\"]:\n",
    "        return 5\n",
    "    if s in ['&&']:\n",
    "        return 6\n",
    "    if s == \"||\":\n",
    "        return 7\n",
    "    if s == \"(\":\n",
    "        return 8\n",
    "    if s == \"#\":\n",
    "        return 8\n",
    "    #print(\"Error\")\n",
    "    return 0\n",
    "\n",
    "def get_coming_prior(s):\n",
    "    if s in [\"*\", \"/\", \"%\"]:\n",
    "        return 2\n",
    "    if s in [\"+\", \"-\"]:\n",
    "        return 3\n",
    "    if s in ['<', '>', '<=', '>=']:\n",
    "        return 4\n",
    "    if s in [\"==\", \"!=\"]:\n",
    "        return 5\n",
    "    if s in ['&&']:\n",
    "        return 6\n",
    "    if s == \"||\":\n",
    "        return 7\n",
    "    if s == \"(\":\n",
    "        return 0\n",
    "    #print(\"Error\")\n",
    "    return 99\n",
    "        \n",
    "def changeToback(s):\n",
    "    if type(s)!=str:\n",
    "        raise Exception(\"Must send a string\")\n",
    "    \n",
    "    out = ''\n",
    "    stack = 0\n",
    "    special_word = ['+', '-', '*', '/', '%', '<', '>', '=', '(', '<=', '>=', ')']\n",
    "    for i in special_word:\n",
    "        stack += s.count(i)\n",
    "    s = list(s)\n",
    "    stack = Stack(stack)\n",
    "    for i in range(len(s)):\n",
    "        if s[i] not in special_word:\n",
    "            out += s[i]\n",
    "            if i == len(s)-1:\n",
    "                while(True):\n",
    "                    if stack.isEmpty():\n",
    "                        break\n",
    "                    out += stack.pop()\n",
    "            continue\n",
    "        b=1\n",
    "        while(b!= 0):\n",
    "            if s[i] != \")\":\n",
    "                if get_stack_prior(stack.topItem()) <= get_coming_prior(s[i]) and stack.isEmpty()==False:\n",
    "                    out += stack.pop()\n",
    "                    \n",
    "                    continue\n",
    "            \n",
    "                stack.push(s[i])\n",
    "            else:\n",
    "                pops = ''\n",
    "                while(1):\n",
    "                    temp = stack.pop()\n",
    "                    if temp == \"(\":\n",
    "                        break\n",
    "                    pops+=temp\n",
    "                out += pops\n",
    "            b=0\n",
    "    while(stack.isEmpty()==False):\n",
    "        out += stack.pop()\n",
    "    return out\n",
    "\n",
    "print(changeToback(\"A*(B+C)*D\"))\n",
    "\n",
    "print(changeToback(\"a*(b*c+d)/(e*f)\"))\n",
    "\n",
    "print(changeToback(\"a*b/(d/e)+c*f*g\"))"
   ]
  },
  {
   "cell_type": "code",
   "execution_count": 65,
   "metadata": {
    "ExecuteTime": {
     "end_time": "2019-10-15T01:51:13.516944Z",
     "start_time": "2019-10-15T01:51:13.511842Z"
    }
   },
   "outputs": [
    {
     "data": {
      "text/plain": [
       "'ab*cde+/-'"
      ]
     },
     "execution_count": 65,
     "metadata": {},
     "output_type": "execute_result"
    }
   ],
   "source": [
    "changeToback(\"a*b-c/(d+e)\")"
   ]
  },
  {
   "cell_type": "code",
   "execution_count": null,
   "metadata": {},
   "outputs": [],
   "source": [
    " -*ab/c+de"
   ]
  },
  {
   "cell_type": "code",
   "execution_count": 63,
   "metadata": {
    "ExecuteTime": {
     "end_time": "2019-10-15T01:50:03.121134Z",
     "start_time": "2019-10-15T01:50:03.110445Z"
    }
   },
   "outputs": [
    {
     "data": {
      "text/plain": [
       "'ab*de//cf*g*+'"
      ]
     },
     "execution_count": 63,
     "metadata": {},
     "output_type": "execute_result"
    }
   ],
   "source": [
    "changeToback('a*b/(d/e)+c*f*g')"
   ]
  },
  {
   "cell_type": "code",
   "execution_count": 50,
   "metadata": {
    "ExecuteTime": {
     "end_time": "2019-10-15T01:45:15.721269Z",
     "start_time": "2019-10-15T01:45:15.715193Z"
    }
   },
   "outputs": [],
   "source": [
    "a = 'ab*cde+' \n",
    "a\n",
    "a += '/'"
   ]
  },
  {
   "cell_type": "code",
   "execution_count": 51,
   "metadata": {
    "ExecuteTime": {
     "end_time": "2019-10-15T01:45:20.841802Z",
     "start_time": "2019-10-15T01:45:20.836548Z"
    }
   },
   "outputs": [
    {
     "data": {
      "text/plain": [
       "'ab*cde+/'"
      ]
     },
     "execution_count": 51,
     "metadata": {},
     "output_type": "execute_result"
    }
   ],
   "source": [
    "a"
   ]
  },
  {
   "cell_type": "code",
   "execution_count": null,
   "metadata": {},
   "outputs": [],
   "source": []
  },
  {
   "cell_type": "code",
   "execution_count": null,
   "metadata": {},
   "outputs": [],
   "source": [
    "-*ab/c+de"
   ]
  },
  {
   "cell_type": "code",
   "execution_count": 12,
   "metadata": {
    "ExecuteTime": {
     "end_time": "2019-10-14T03:58:38.097972Z",
     "start_time": "2019-10-14T03:58:38.092852Z"
    }
   },
   "outputs": [
    {
     "data": {
      "text/plain": [
       "'AB*C/'"
      ]
     },
     "execution_count": 12,
     "metadata": {},
     "output_type": "execute_result"
    }
   ],
   "source": [
    "changeToback(\"A*B/C\")"
   ]
  },
  {
   "cell_type": "code",
   "execution_count": 32,
   "metadata": {
    "ExecuteTime": {
     "end_time": "2019-10-15T01:35:04.755867Z",
     "start_time": "2019-10-15T01:35:04.747233Z"
    }
   },
   "outputs": [
    {
     "name": "stdout",
     "output_type": "stream",
     "text": [
      "48\n"
     ]
    }
   ],
   "source": [
    "class Stack:\n",
    "    def __init__(self, stackCapacity, default = -0.87):\n",
    "        if stackCapacity <= 0:\n",
    "            raise Exception(\"stackCapacity must bigger than 0\")\n",
    "        self.default = default\n",
    "        self.capacity = stackCapacity\n",
    "        self.stack = [default] * self.capacity\n",
    "        self.top = -1\n",
    "        #print(\"The default number of the stack is %f\"%(default))\n",
    "    def isEmpty(self):\n",
    "        if self.top == -1:\n",
    "            return True\n",
    "        return False\n",
    "    def isFull(self):\n",
    "        if self.top < self.capacity - 1:\n",
    "            return False\n",
    "        return True\n",
    "    def topItem(self):\n",
    "        return self.stack[self.top]\n",
    "    def push(self, t):\n",
    "        if self.isFull():\n",
    "            print(\"the stack is full\")\n",
    "            return False\n",
    "        self.top += 1\n",
    "        self.stack[self.top] = t\n",
    "        #print(\"push successful, the new stack is: \\n\", self.stack)\n",
    "    def pop(self):\n",
    "        if self.isEmpty():\n",
    "            #print('the stack is empty')\n",
    "            return False\n",
    "        out = self.stack[self.top]\n",
    "        self.stack[self.top] = self.default\n",
    "        self.top -= 1\n",
    "        #print(\"pop successful, the new stack is: \\n\", self.stack)\n",
    "        return out\n",
    "    def printStack(self):\n",
    "        out = 'stack(['\n",
    "        for i in range(self.top+1):\n",
    "            if i != 0:\n",
    "                out+=', '\n",
    "            j = (self.top - i)\n",
    "            out += str(self.stack[j])\n",
    "        out+='])'\n",
    "        print(out)\n",
    "\n",
    "def caculate_back(x):\n",
    "    \"\"\"因為我沒時間，所以本演算法不支持有負號的數字ＱＱ\"\"\"\n",
    "    special_word = ['+', '-', '*', '/', '%', '<', '>', '=', '(', '<=', '>=', ')', '–']\n",
    "    x = x.replace(\"–\", '-')\n",
    "    x = x.split(' ')\n",
    "    stack = Stack(len(x))\n",
    "    out = 0\n",
    "    for i in range(len(x)):\n",
    "        if x[i] not in special_word:\n",
    "            stack.push(int(x[i]))\n",
    "            continue\n",
    "        elif x[i] in ['+', '-', '*', '/']:\n",
    "            temp1 = stack.pop()\n",
    "            temp2 = stack.pop()\n",
    "            if x[i] == '+':\n",
    "                stack.push(temp2 + temp1)\n",
    "            if x[i] == '-':\n",
    "                stack.push(temp2 - temp1)\n",
    "            if x[i] == '*':\n",
    "                stack.push(temp2 * temp1)\n",
    "            if x[i] == '/':\n",
    "                if temp1 == 0:\n",
    "                    raise ZeroDivisionError(\"can't division by zero, your enter must be something wrong.\")\n",
    "                stack.push(temp2 / temp1)\n",
    "    return stack.pop()\n",
    "\n",
    "\n",
    "print(caculate_back(\"10 8 + 6 5 * +\"))"
   ]
  },
  {
   "cell_type": "code",
   "execution_count": 95,
   "metadata": {
    "ExecuteTime": {
     "end_time": "2019-10-14T03:08:22.685410Z",
     "start_time": "2019-10-14T03:08:22.678719Z"
    }
   },
   "outputs": [],
   "source": [
    "def get_stack_prior(s):\n",
    "    if s in [\"*\", \"/\", \"%\"]:\n",
    "        return 2\n",
    "    if s in [\"+\", \"-\"]:\n",
    "        return 3\n",
    "    if s in ['<', '>', '<=', '>=']:\n",
    "        return 4\n",
    "    if s in [\"==\", \"!=\"]:\n",
    "        return 5\n",
    "    if s in ['&&']:\n",
    "        return 6\n",
    "    if s == \"||\":\n",
    "        return 7\n",
    "    if s == \"(\":\n",
    "        return 8\n",
    "    if s == \"#\":\n",
    "        return 8\n",
    "    print(\"Error\")\n",
    "    return 0\n",
    "\n",
    "def get_coming_prior(s):\n",
    "    if s in [\"*\", \"/\", \"%\"]:\n",
    "        return 2\n",
    "    if s in [\"+\", \"-\"]:\n",
    "        return 3\n",
    "    if s in ['<', '>', '<=', '>=']:\n",
    "        return 4\n",
    "    if s in [\"==\", \"!=\"]:\n",
    "        return 5\n",
    "    if s in ['&&']:\n",
    "        return 6\n",
    "    if s == \"||\":\n",
    "        return 7\n",
    "    if s == \"(\":\n",
    "        return 0\n",
    "    print(\"Error\")\n",
    "    return 0"
   ]
  },
  {
   "cell_type": "code",
   "execution_count": 92,
   "metadata": {
    "ExecuteTime": {
     "end_time": "2019-10-14T02:57:37.518176Z",
     "start_time": "2019-10-14T02:57:37.510526Z"
    }
   },
   "outputs": [
    {
     "name": "stdout",
     "output_type": "stream",
     "text": [
      "The default number of the stack is -0.870000\n"
     ]
    }
   ],
   "source": [
    "stack = Stack(8)"
   ]
  },
  {
   "cell_type": "code",
   "execution_count": 80,
   "metadata": {
    "ExecuteTime": {
     "end_time": "2019-10-14T02:41:24.081018Z",
     "start_time": "2019-10-14T02:41:24.075878Z"
    }
   },
   "outputs": [],
   "source": [
    "changeToback('3')"
   ]
  },
  {
   "cell_type": "code",
   "execution_count": 91,
   "metadata": {
    "ExecuteTime": {
     "end_time": "2019-10-14T02:56:47.118866Z",
     "start_time": "2019-10-14T02:56:47.108599Z"
    }
   },
   "outputs": [
    {
     "name": "stdout",
     "output_type": "stream",
     "text": [
      "1\n",
      "2\n",
      "3\n",
      "4\n",
      "5\n"
     ]
    }
   ],
   "source": [
    "for i in list(\"12345\"):\n",
    "    print(i)\n",
    "    continue"
   ]
  },
  {
   "cell_type": "code",
   "execution_count": 87,
   "metadata": {
    "ExecuteTime": {
     "end_time": "2019-10-14T02:44:38.619309Z",
     "start_time": "2019-10-14T02:44:38.615167Z"
    }
   },
   "outputs": [],
   "source": [
    "temp = 0\n",
    "for i in [\"*\", \"-\"]:\n",
    "    temp += \"1234*-\".count(i)"
   ]
  },
  {
   "cell_type": "code",
   "execution_count": 88,
   "metadata": {
    "ExecuteTime": {
     "end_time": "2019-10-14T02:44:39.131925Z",
     "start_time": "2019-10-14T02:44:39.122163Z"
    }
   },
   "outputs": [
    {
     "data": {
      "text/plain": [
       "2"
      ]
     },
     "execution_count": 88,
     "metadata": {},
     "output_type": "execute_result"
    }
   ],
   "source": [
    "temp"
   ]
  },
  {
   "cell_type": "code",
   "execution_count": 89,
   "metadata": {
    "ExecuteTime": {
     "end_time": "2019-10-14T02:45:45.171667Z",
     "start_time": "2019-10-14T02:45:11.562705Z"
    }
   },
   "outputs": [
    {
     "name": "stdout",
     "output_type": "stream",
     "text": [
      "+-*/%<>=(\n"
     ]
    },
    {
     "data": {
      "text/plain": [
       "['+', '-', '*', '/', '%', '<', '>', '=', '(']"
      ]
     },
     "execution_count": 89,
     "metadata": {},
     "output_type": "execute_result"
    }
   ],
   "source": [
    "list(input())"
   ]
  },
  {
   "cell_type": "code",
   "execution_count": 90,
   "metadata": {
    "ExecuteTime": {
     "end_time": "2019-10-14T02:46:12.318676Z",
     "start_time": "2019-10-14T02:46:12.312878Z"
    }
   },
   "outputs": [
    {
     "data": {
      "text/plain": [
       "['+', '-', '*', '/', '%', '<', '>', '=', '(', '<=', '>=']"
      ]
     },
     "execution_count": 90,
     "metadata": {},
     "output_type": "execute_result"
    }
   ],
   "source": [
    "['+', '-', '*', '/', '%', '<', '>', '=', '('] + ['<=', \">=\"]"
   ]
  },
  {
   "cell_type": "code",
   "execution_count": null,
   "metadata": {},
   "outputs": [],
   "source": []
  }
 ],
 "metadata": {
  "hide_input": false,
  "kernelspec": {
   "display_name": "Python 3",
   "language": "python",
   "name": "python3"
  },
  "language_info": {
   "codemirror_mode": {
    "name": "ipython",
    "version": 3
   },
   "file_extension": ".py",
   "mimetype": "text/x-python",
   "name": "python",
   "nbconvert_exporter": "python",
   "pygments_lexer": "ipython3",
   "version": "3.6.9"
  },
  "varInspector": {
   "cols": {
    "lenName": 16,
    "lenType": 16,
    "lenVar": 40
   },
   "kernels_config": {
    "python": {
     "delete_cmd_postfix": "",
     "delete_cmd_prefix": "del ",
     "library": "var_list.py",
     "varRefreshCmd": "print(var_dic_list())"
    },
    "r": {
     "delete_cmd_postfix": ") ",
     "delete_cmd_prefix": "rm(",
     "library": "var_list.r",
     "varRefreshCmd": "cat(var_dic_list()) "
    }
   },
   "types_to_exclude": [
    "module",
    "function",
    "builtin_function_or_method",
    "instance",
    "_Feature"
   ],
   "window_display": false
  }
 },
 "nbformat": 4,
 "nbformat_minor": 2
}
