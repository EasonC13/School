{
 "cells": [
  {
   "cell_type": "code",
   "execution_count": 78,
   "metadata": {
    "ExecuteTime": {
     "end_time": "2019-12-16T11:46:55.763372Z",
     "start_time": "2019-12-16T11:46:55.750638Z"
    }
   },
   "outputs": [
    {
     "name": "stdout",
     "output_type": "stream",
     "text": [
      "輸入是一個經過打亂的隨機array [2, 4, 1, 5, 7, 6, 3, 0]\n",
      "origin: [2 4 1 5 7 6 3 0]\n",
      "tempList: [2 4 1 5 6 7 0 3]\n",
      "Array: [1 2 4 5 0 3 6 7]\n",
      "tempList: [0 1 2 3 4 5 6 7]\n",
      "Array: [0 1 2 3 4 5 6 7]\n",
      "經過Merge pass, 輸出是一個照順序的Array [0, 1, 2, 3, 4, 5, 6, 7]\n"
     ]
    }
   ],
   "source": [
    "#Merge Sort\n",
    "\n",
    "import numpy as np\n",
    "origin = np.array(range(8))\n",
    "np.random.shuffle(origin)\n",
    "\n",
    "print(\"輸入是一個經過打亂的隨機array\", list(origin))\n",
    "\n",
    "def Merge_Sort(array):\n",
    "    n = len(array)\n",
    "    tempList = np.array([-1] * (n))\n",
    "    l = 1\n",
    "    print(\"origin:\",array)\n",
    "    while(l<n):\n",
    "        MergePass(array, tempList, n, l)\n",
    "        l = l * 2\n",
    "        print('tempList:', tempList)\n",
    "        MergePass(tempList, array, n, l)\n",
    "        print(\"Array:\",array)\n",
    "        l = l*2\n",
    "    return array\n",
    "def MergePass(initList, ResultList, n, s):\n",
    "    i = 1\n",
    "    while(i<= n-2*s):\n",
    "        Merge(initList, ResultList, i, i+s-1, i+2*s-1)\n",
    "        i = i+2*s\n",
    "    if i+s-1<n:\n",
    "        Merge(initList, ResultList, i, i+s-1, i+2*s-1)\n",
    "    else:\n",
    "        copy(initList, i, n, ResultList, i)\n",
    "        \n",
    "def copy(initList, i, n, ResultList, iResult):\n",
    "    while(i<=n):\n",
    "        ResultList[iResult-1] = initList[i-1]\n",
    "        i+=1\n",
    "        iResult+=1\n",
    "        \n",
    "def Merge(initList, ResultList, l, m, n):\n",
    "    #[l:m], [m+1:n]\n",
    "    i1 = l\n",
    "    i2 = m+1\n",
    "    iResult = l\n",
    "    while(i1<=m and i2<=n):\n",
    "        if initList[i1-1]<= initList[i2-1]:\n",
    "            ResultList[iResult-1] = initList[i1-1]\n",
    "            i1 += 1\n",
    "        else:\n",
    "            ResultList[iResult-1] = initList[i2-1]\n",
    "            i2 += 1\n",
    "        iResult+=1\n",
    "    if i1 <= m:\n",
    "        copy(initList, i1, m, ResultList, iResult)\n",
    "    if i2 <= n:\n",
    "        copy(initList, i2, n, ResultList, iResult)\n",
    "\n",
    "print(\"經過Merge pass, 輸出是一個照順序的Array\", list(Merge_Sort(origin)))"
   ]
  },
  {
   "cell_type": "code",
   "execution_count": 160,
   "metadata": {
    "ExecuteTime": {
     "end_time": "2019-12-17T06:15:24.626475Z",
     "start_time": "2019-12-17T06:15:24.622865Z"
    }
   },
   "outputs": [
    {
     "data": {
      "text/plain": [
       "array([10, 11, 12, 13, 14, 15, 16, 17, 18, 19, 20, 21, 22, 23, 24, 25, 26,\n",
       "       27, 28, 29, 30, 31, 32, 33, 34, 35, 36, 37, 38, 39, 40, 41, 42, 43,\n",
       "       44, 45, 46, 47, 48, 49, 50, 51, 52, 53, 54, 55, 56, 57, 58, 59, 60,\n",
       "       61, 62, 63, 64, 65, 66, 67, 68, 69, 70, 71, 72, 73, 74, 75, 76, 77,\n",
       "       78, 79, 80, 81, 82, 83, 84, 85, 86, 87, 88, 89, 90, 91, 92, 93, 94,\n",
       "       95, 96, 97, 98, 99])"
      ]
     },
     "execution_count": 160,
     "metadata": {},
     "output_type": "execute_result"
    }
   ],
   "source": [
    "np.arange(10,100)"
   ]
  },
  {
   "cell_type": "code",
   "execution_count": 164,
   "metadata": {
    "ExecuteTime": {
     "end_time": "2019-12-17T06:16:13.252915Z",
     "start_time": "2019-12-17T06:16:13.247002Z"
    }
   },
   "outputs": [
    {
     "data": {
      "text/plain": [
       "array([40, 10, 89, 53, 23])"
      ]
     },
     "execution_count": 164,
     "metadata": {},
     "output_type": "execute_result"
    }
   ],
   "source": [
    "np.random.choice(np.arange(10,100), 20)"
   ]
  },
  {
   "cell_type": "code",
   "execution_count": 175,
   "metadata": {
    "ExecuteTime": {
     "end_time": "2019-12-17T06:22:16.155649Z",
     "start_time": "2019-12-17T06:22:16.149398Z"
    }
   },
   "outputs": [
    {
     "name": "stdout",
     "output_type": "stream",
     "text": [
      "輸入是一個經過隨機抽樣的array [20, 86, 93, 11, 97, 79, 41, 87, 34, 74, 21, 73, 54, 94, 14, 61, 46, 43, 24, 50]\n",
      "按照十位數的分類結果 [[], ['11', '14'], ['20', '21', '24'], ['34'], ['41', '46', '43'], ['54', '50'], ['61'], ['79', '74', '73'], ['86', '87'], ['93', '97', '94']]\n",
      "經過MSD後，排序結果為： [11, 14, 20, 21, 24, 34, 41, 43, 46, 50, 54, 61, 73, 74, 79, 86, 87, 93, 94, 97]\n"
     ]
    }
   ],
   "source": [
    "origin = np.random.choice(np.arange(10,100), 20, replace = False)\n",
    "print(\"輸入是一個經過隨機抽樣的array\", list(origin))\n",
    "def better_bubble_sort(yes):\n",
    "    yes = list(yes)\n",
    "    lens = len(yes)\n",
    "    for i in range(lens-1):\n",
    "        switch = 0\n",
    "        for j in range(lens - i - 1):\n",
    "            if yes[j] > yes[j+1]:\n",
    "                yes[j], yes[j+1] = yes[j+1], yes[j]\n",
    "                switch += 1\n",
    "        if switch == 0:\n",
    "            break\n",
    "    return yes\n",
    "\n",
    "def MSD(a):\n",
    "    MainClass = []\n",
    "    a = np.array(a).astype(str)\n",
    "    for i in range(10):\n",
    "        MainClass.append(list())\n",
    "    for i in range(len(a)):\n",
    "        MainClass[int(a[i][0])].append(a[i])\n",
    "    print(\"按照十位數的分類結果\", MainClass)\n",
    "    for i in range(10):\n",
    "        MainClass[i] = better_bubble_sort(MainClass[i])\n",
    "    out = []\n",
    "    for i in range(10):\n",
    "        out = out + MainClass.pop(0)\n",
    "    out = list(np.array(out).astype(int))\n",
    "    return out\n",
    "print(\"經過MSD後，排序結果為：\",MSD(origin))"
   ]
  },
  {
   "cell_type": "code",
   "execution_count": 195,
   "metadata": {
    "ExecuteTime": {
     "end_time": "2019-12-17T06:31:15.305111Z",
     "start_time": "2019-12-17T06:31:15.295693Z"
    }
   },
   "outputs": [
    {
     "name": "stdout",
     "output_type": "stream",
     "text": [
      "輸入是一個經過隨機抽樣的array [57, 94, 63, 97, 69, 56, 51, 64, 25, 55, 71, 85, 43, 10, 74, 23, 73, 79, 65, 96]\n",
      "按照個位數的分類結果 [['10'], ['51', '71'], [], ['63', '43', '23', '73'], ['94', '64', '74'], ['25', '55', '85', '65'], ['56', '96'], ['57', '97'], [], ['69', '79']]\n",
      "經過LSD後，排序結果為： [10, 23, 25, 43, 51, 55, 56, 57, 63, 64, 65, 69, 71, 73, 74, 79, 85, 94, 96, 97]\n"
     ]
    }
   ],
   "source": [
    "origin = np.random.choice(np.arange(10,100), 20, replace = False)\n",
    "print(\"輸入是一個經過隨機抽樣的array\", list(origin))\n",
    "def better_bubble_sort_by_1(yes):\n",
    "    yes = list(yes)\n",
    "    lens = len(yes)\n",
    "    for i in range(lens-1):\n",
    "        switch = 0\n",
    "        for j in range(lens - i - 1):\n",
    "            if yes[j][0] > yes[j+1][0]:\n",
    "                yes[j], yes[j+1] = yes[j+1], yes[j]\n",
    "                switch += 1\n",
    "        if switch == 0:\n",
    "            break\n",
    "    return yes\n",
    "\n",
    "def LSD(a):\n",
    "    MainClass = []\n",
    "    a = np.array(a).astype(str)\n",
    "    for i in range(10):\n",
    "        MainClass.append(list())\n",
    "    for i in range(len(a)):\n",
    "        MainClass[int(a[i][1])].append(a[i])\n",
    "    print(\"按照個位數的分類結果\", MainClass)\n",
    "    for i in range(10):\n",
    "        MainClass[i] = better_bubble_sort_by_1(MainClass[i])\n",
    "    out = []\n",
    "    for i in range(10):\n",
    "        out = out + MainClass.pop(0)\n",
    "    \n",
    "    MainClass2 = []\n",
    "    for i in range(10):\n",
    "        MainClass2.append(list())\n",
    "    for i in out:\n",
    "        MainClass2[int(i[0])].append(i)\n",
    "    out_final = []\n",
    "    for i in range(10):\n",
    "        out_final = out_final + MainClass2.pop(0)\n",
    "    out_final = list(np.array(out_final).astype(int))\n",
    "    return out_final\n",
    "print(\"經過LSD後，排序結果為：\",LSD(origin))"
   ]
  },
  {
   "cell_type": "code",
   "execution_count": 149,
   "metadata": {
    "ExecuteTime": {
     "end_time": "2019-12-17T06:11:16.248452Z",
     "start_time": "2019-12-17T06:11:16.242714Z"
    }
   },
   "outputs": [
    {
     "data": {
      "text/plain": [
       "[[],\n",
       " [],\n",
       " ['21', '26', '26'],\n",
       " ['33'],\n",
       " ['41', '43', '44', '45', '45', '48'],\n",
       " ['57', '57'],\n",
       " [],\n",
       " ['73', '77'],\n",
       " [],\n",
       " ['93', '93', '95', '96', '98', '98']]"
      ]
     },
     "execution_count": 149,
     "metadata": {},
     "output_type": "execute_result"
    }
   ],
   "source": [
    "MainClass\n"
   ]
  },
  {
   "cell_type": "code",
   "execution_count": null,
   "metadata": {
    "ExecuteTime": {
     "end_time": "2019-12-17T06:08:07.960878Z",
     "start_time": "2019-12-17T06:08:07.953756Z"
    }
   },
   "outputs": [],
   "source": []
  },
  {
   "cell_type": "code",
   "execution_count": 146,
   "metadata": {
    "ExecuteTime": {
     "end_time": "2019-12-17T06:09:05.353369Z",
     "start_time": "2019-12-17T06:09:05.348217Z"
    }
   },
   "outputs": [
    {
     "data": {
      "text/plain": [
       "['44', '48', '43', '41', '45', '45']"
      ]
     },
     "execution_count": 146,
     "metadata": {},
     "output_type": "execute_result"
    }
   ],
   "source": [
    "MainClass.pop(1)"
   ]
  },
  {
   "cell_type": "code",
   "execution_count": null,
   "metadata": {},
   "outputs": [],
   "source": []
  }
 ],
 "metadata": {
  "hide_input": false,
  "kernelspec": {
   "display_name": "Python 3",
   "language": "python",
   "name": "python3"
  },
  "language_info": {
   "codemirror_mode": {
    "name": "ipython",
    "version": 3
   },
   "file_extension": ".py",
   "mimetype": "text/x-python",
   "name": "python",
   "nbconvert_exporter": "python",
   "pygments_lexer": "ipython3",
   "version": "3.6.9"
  },
  "varInspector": {
   "cols": {
    "lenName": 16,
    "lenType": 16,
    "lenVar": 40
   },
   "kernels_config": {
    "python": {
     "delete_cmd_postfix": "",
     "delete_cmd_prefix": "del ",
     "library": "var_list.py",
     "varRefreshCmd": "print(var_dic_list())"
    },
    "r": {
     "delete_cmd_postfix": ") ",
     "delete_cmd_prefix": "rm(",
     "library": "var_list.r",
     "varRefreshCmd": "cat(var_dic_list()) "
    }
   },
   "types_to_exclude": [
    "module",
    "function",
    "builtin_function_or_method",
    "instance",
    "_Feature"
   ],
   "window_display": false
  }
 },
 "nbformat": 4,
 "nbformat_minor": 2
}
